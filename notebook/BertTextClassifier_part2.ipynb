{
  "nbformat": 4,
  "nbformat_minor": 0,
  "metadata": {
    "colab": {
      "provenance": [],
      "gpuType": "T4",
      "authorship_tag": "ABX9TyMxiuSGlMULEgaJhLoUDDf8",
      "include_colab_link": true
    },
    "kernelspec": {
      "name": "python3",
      "display_name": "Python 3"
    },
    "language_info": {
      "name": "python"
    },
    "accelerator": "GPU"
  },
  "cells": [
    {
      "cell_type": "markdown",
      "metadata": {
        "id": "view-in-github",
        "colab_type": "text"
      },
      "source": [
        "<a href=\"https://colab.research.google.com/github/soutrik71/MInMaxBERT/blob/main/notebook/BertTextClassifier_part2.ipynb\" target=\"_parent\"><img src=\"https://colab.research.google.com/assets/colab-badge.svg\" alt=\"Open In Colab\"/></a>"
      ]
    },
    {
      "cell_type": "markdown",
      "source": [
        "The objective of this notebook is to test out Simple and Complex Questions using a Base Bert Model:\n",
        "* Focus on Tokenization part for the data\n",
        "* Focus on model pre-training in pytorch\n",
        "* Application of Focal loss in handling imbalanced data\n",
        "* Application of adding weights to loss function for imbalanced class\n",
        "* Evaluation Framework\n",
        "* More homogenous and representative data"
      ],
      "metadata": {
        "id": "QRMMj9wTPRE4"
      }
    },
    {
      "cell_type": "code",
      "execution_count": 1,
      "metadata": {
        "colab": {
          "base_uri": "https://localhost:8080/"
        },
        "id": "fEHII2VSEaDH",
        "outputId": "3fb0bcda-14ff-49fd-cb3e-b6271eecd1ac"
      },
      "outputs": [
        {
          "output_type": "stream",
          "name": "stdout",
          "text": [
            "\u001b[2K     \u001b[90m━━━━━━━━━━━━━━━━━━━━━━━━━━━━━━━━━━━━━━━━\u001b[0m \u001b[32m8.8/8.8 MB\u001b[0m \u001b[31m24.1 MB/s\u001b[0m eta \u001b[36m0:00:00\u001b[0m\n",
            "\u001b[2K     \u001b[90m━━━━━━━━━━━━━━━━━━━━━━━━━━━━━━━━━━━━━━━━\u001b[0m \u001b[32m510.5/510.5 kB\u001b[0m \u001b[31m18.7 MB/s\u001b[0m eta \u001b[36m0:00:00\u001b[0m\n",
            "\u001b[2K     \u001b[90m━━━━━━━━━━━━━━━━━━━━━━━━━━━━━━━━━━━━━━━━\u001b[0m \u001b[32m179.2/179.2 kB\u001b[0m \u001b[31m20.2 MB/s\u001b[0m eta \u001b[36m0:00:00\u001b[0m\n",
            "\u001b[2K     \u001b[90m━━━━━━━━━━━━━━━━━━━━━━━━━━━━━━━━━━━━━━━━\u001b[0m \u001b[32m116.3/116.3 kB\u001b[0m \u001b[31m11.6 MB/s\u001b[0m eta \u001b[36m0:00:00\u001b[0m\n",
            "\u001b[2K     \u001b[90m━━━━━━━━━━━━━━━━━━━━━━━━━━━━━━━━━━━━━━━━\u001b[0m \u001b[32m194.1/194.1 kB\u001b[0m \u001b[31m15.4 MB/s\u001b[0m eta \u001b[36m0:00:00\u001b[0m\n",
            "\u001b[2K     \u001b[90m━━━━━━━━━━━━━━━━━━━━━━━━━━━━━━━━━━━━━━━━\u001b[0m \u001b[32m134.8/134.8 kB\u001b[0m \u001b[31m12.3 MB/s\u001b[0m eta \u001b[36m0:00:00\u001b[0m\n",
            "\u001b[?25h"
          ]
        }
      ],
      "source": [
        "!pip install transformers datasets torcheval --upgrade --quiet"
      ]
    },
    {
      "cell_type": "code",
      "source": [
        "import transformers\n",
        "from transformers import BertModel, BertTokenizer, AdamW, get_linear_schedule_with_warmup\n",
        "from transformers import BertForSequenceClassification\n",
        "import torch\n",
        "import numpy as np\n",
        "import pandas as pd\n",
        "import seaborn as sns\n",
        "from pylab import rcParams\n",
        "import matplotlib.pyplot as plt\n",
        "from matplotlib import rc\n",
        "from sklearn.model_selection import train_test_split\n",
        "from sklearn.metrics import confusion_matrix, classification_report\n",
        "from collections import defaultdict\n",
        "from textwrap import wrap\n",
        "from torch import nn, optim\n",
        "from torch.utils.data import Dataset, DataLoader\n",
        "from torch.nn import functional as F\n",
        "from torcheval.metrics import BinaryAccuracy,BinaryF1Score,BinaryPrecision,BinaryRecall,BinaryConfusionMatrix\n",
        "from tqdm import tqdm\n",
        "import warnings\n",
        "warnings.filterwarnings(\"ignore\")\n",
        "%matplotlib inline\n",
        "%config InlineBackend.figure_format='retina'\n",
        "sns.set(style='whitegrid', palette='muted', font_scale=1.2)\n",
        "HAPPY_COLORS_PALETTE = [\"#01BEFE\", \"#FFDD00\", \"#FF7D00\", \"#FF006D\", \"#ADFF02\", \"#8F00FF\"]\n",
        "sns.set_palette(sns.color_palette(HAPPY_COLORS_PALETTE))\n",
        "rcParams['figure.figsize'] = 8, 8\n",
        "pd.set_option('display.max_columns', None)\n",
        "pd.set_option('display.max_rows', None)\n",
        "pd.set_option('display.max_colwidth', None)"
      ],
      "metadata": {
        "id": "MIezO24JG-49"
      },
      "execution_count": 2,
      "outputs": []
    },
    {
      "cell_type": "code",
      "source": [
        "RANDOM_SEED = 42\n",
        "np.random.seed(RANDOM_SEED)\n",
        "torch.manual_seed(RANDOM_SEED)\n",
        "device = torch.device(\"cuda:0\" if torch.cuda.is_available() else \"cpu\")"
      ],
      "metadata": {
        "id": "hjmsvEexT3ZR"
      },
      "execution_count": 3,
      "outputs": []
    },
    {
      "cell_type": "markdown",
      "source": [
        "## Data Loading from git repo"
      ],
      "metadata": {
        "id": "E_wAHUnvT42Q"
      }
    },
    {
      "cell_type": "code",
      "source": [
        "df1 = pd.read_csv(\"https://raw.githubusercontent.com/soutrik71/MInMaxBERT/main/data/classifier_data.csv\")\n",
        "df2 = pd.read_csv(\"https://raw.githubusercontent.com/soutrik71/MInMaxBERT/main/data/maz_abiconnect_curated_question_list.csv\")\n",
        "df3  = pd.read_csv(\"https://raw.githubusercontent.com/soutrik71/MInMaxBERT/main/data/cpna_curated_list.csv\")"
      ],
      "metadata": {
        "id": "tm13K2PaT9o4"
      },
      "execution_count": 50,
      "outputs": []
    },
    {
      "cell_type": "code",
      "source": [
        "final_df = pd.concat([df1, df2,df3], ignore_index=True)"
      ],
      "metadata": {
        "id": "pNI0CF7MT9s7"
      },
      "execution_count": 51,
      "outputs": []
    },
    {
      "cell_type": "code",
      "source": [
        "final_df.head()"
      ],
      "metadata": {
        "colab": {
          "base_uri": "https://localhost:8080/",
          "height": 206
        },
        "id": "bN5JVzc9T9xD",
        "outputId": "baa3d115-e348-4340-8dda-054cc612b347"
      },
      "execution_count": 52,
      "outputs": [
        {
          "output_type": "execute_result",
          "data": {
            "text/plain": [
              "                  Domain  \\\n",
              "0              logistics   \n",
              "1              logistics   \n",
              "2  marketing_abi_connect   \n",
              "3              logistics   \n",
              "4         maz_commercial   \n",
              "\n",
              "                                                                                                                      Question  \\\n",
              "0       What is the percentage change in volume for same brand by different regions in August 2023 as compared previous month?   \n",
              "1                                                              what should beThe target average time in route (Depot to Depot)   \n",
              "2  Which social media platform has the highest number of negative sentiments followed by male population for the above brands?   \n",
              "3                                                                What Are Tools And Equipment Used In Truck Departure Process?   \n",
              "4            What is the net revenue per HL in Aug 2023, July 2023 and percentage change from July to Aug for the above brand?   \n",
              "\n",
              "  FinalLabel  \n",
              "0     Simple  \n",
              "1     Simple  \n",
              "2     Simple  \n",
              "3     Simple  \n",
              "4     Simple  "
            ],
            "text/html": [
              "\n",
              "  <div id=\"df-8584e285-5942-4ed5-b997-1bd6c68d33a3\" class=\"colab-df-container\">\n",
              "    <div>\n",
              "<style scoped>\n",
              "    .dataframe tbody tr th:only-of-type {\n",
              "        vertical-align: middle;\n",
              "    }\n",
              "\n",
              "    .dataframe tbody tr th {\n",
              "        vertical-align: top;\n",
              "    }\n",
              "\n",
              "    .dataframe thead th {\n",
              "        text-align: right;\n",
              "    }\n",
              "</style>\n",
              "<table border=\"1\" class=\"dataframe\">\n",
              "  <thead>\n",
              "    <tr style=\"text-align: right;\">\n",
              "      <th></th>\n",
              "      <th>Domain</th>\n",
              "      <th>Question</th>\n",
              "      <th>FinalLabel</th>\n",
              "    </tr>\n",
              "  </thead>\n",
              "  <tbody>\n",
              "    <tr>\n",
              "      <th>0</th>\n",
              "      <td>logistics</td>\n",
              "      <td>What is the percentage change in volume for same brand by different regions in August 2023 as compared previous month?</td>\n",
              "      <td>Simple</td>\n",
              "    </tr>\n",
              "    <tr>\n",
              "      <th>1</th>\n",
              "      <td>logistics</td>\n",
              "      <td>what should beThe target average time in route (Depot to Depot)</td>\n",
              "      <td>Simple</td>\n",
              "    </tr>\n",
              "    <tr>\n",
              "      <th>2</th>\n",
              "      <td>marketing_abi_connect</td>\n",
              "      <td>Which social media platform has the highest number of negative sentiments followed by male population for the above brands?</td>\n",
              "      <td>Simple</td>\n",
              "    </tr>\n",
              "    <tr>\n",
              "      <th>3</th>\n",
              "      <td>logistics</td>\n",
              "      <td>What Are Tools And Equipment Used In Truck Departure Process?</td>\n",
              "      <td>Simple</td>\n",
              "    </tr>\n",
              "    <tr>\n",
              "      <th>4</th>\n",
              "      <td>maz_commercial</td>\n",
              "      <td>What is the net revenue per HL in Aug 2023, July 2023 and percentage change from July to Aug for the above brand?</td>\n",
              "      <td>Simple</td>\n",
              "    </tr>\n",
              "  </tbody>\n",
              "</table>\n",
              "</div>\n",
              "    <div class=\"colab-df-buttons\">\n",
              "\n",
              "  <div class=\"colab-df-container\">\n",
              "    <button class=\"colab-df-convert\" onclick=\"convertToInteractive('df-8584e285-5942-4ed5-b997-1bd6c68d33a3')\"\n",
              "            title=\"Convert this dataframe to an interactive table.\"\n",
              "            style=\"display:none;\">\n",
              "\n",
              "  <svg xmlns=\"http://www.w3.org/2000/svg\" height=\"24px\" viewBox=\"0 -960 960 960\">\n",
              "    <path d=\"M120-120v-720h720v720H120Zm60-500h600v-160H180v160Zm220 220h160v-160H400v160Zm0 220h160v-160H400v160ZM180-400h160v-160H180v160Zm440 0h160v-160H620v160ZM180-180h160v-160H180v160Zm440 0h160v-160H620v160Z\"/>\n",
              "  </svg>\n",
              "    </button>\n",
              "\n",
              "  <style>\n",
              "    .colab-df-container {\n",
              "      display:flex;\n",
              "      gap: 12px;\n",
              "    }\n",
              "\n",
              "    .colab-df-convert {\n",
              "      background-color: #E8F0FE;\n",
              "      border: none;\n",
              "      border-radius: 50%;\n",
              "      cursor: pointer;\n",
              "      display: none;\n",
              "      fill: #1967D2;\n",
              "      height: 32px;\n",
              "      padding: 0 0 0 0;\n",
              "      width: 32px;\n",
              "    }\n",
              "\n",
              "    .colab-df-convert:hover {\n",
              "      background-color: #E2EBFA;\n",
              "      box-shadow: 0px 1px 2px rgba(60, 64, 67, 0.3), 0px 1px 3px 1px rgba(60, 64, 67, 0.15);\n",
              "      fill: #174EA6;\n",
              "    }\n",
              "\n",
              "    .colab-df-buttons div {\n",
              "      margin-bottom: 4px;\n",
              "    }\n",
              "\n",
              "    [theme=dark] .colab-df-convert {\n",
              "      background-color: #3B4455;\n",
              "      fill: #D2E3FC;\n",
              "    }\n",
              "\n",
              "    [theme=dark] .colab-df-convert:hover {\n",
              "      background-color: #434B5C;\n",
              "      box-shadow: 0px 1px 3px 1px rgba(0, 0, 0, 0.15);\n",
              "      filter: drop-shadow(0px 1px 2px rgba(0, 0, 0, 0.3));\n",
              "      fill: #FFFFFF;\n",
              "    }\n",
              "  </style>\n",
              "\n",
              "    <script>\n",
              "      const buttonEl =\n",
              "        document.querySelector('#df-8584e285-5942-4ed5-b997-1bd6c68d33a3 button.colab-df-convert');\n",
              "      buttonEl.style.display =\n",
              "        google.colab.kernel.accessAllowed ? 'block' : 'none';\n",
              "\n",
              "      async function convertToInteractive(key) {\n",
              "        const element = document.querySelector('#df-8584e285-5942-4ed5-b997-1bd6c68d33a3');\n",
              "        const dataTable =\n",
              "          await google.colab.kernel.invokeFunction('convertToInteractive',\n",
              "                                                    [key], {});\n",
              "        if (!dataTable) return;\n",
              "\n",
              "        const docLinkHtml = 'Like what you see? Visit the ' +\n",
              "          '<a target=\"_blank\" href=https://colab.research.google.com/notebooks/data_table.ipynb>data table notebook</a>'\n",
              "          + ' to learn more about interactive tables.';\n",
              "        element.innerHTML = '';\n",
              "        dataTable['output_type'] = 'display_data';\n",
              "        await google.colab.output.renderOutput(dataTable, element);\n",
              "        const docLink = document.createElement('div');\n",
              "        docLink.innerHTML = docLinkHtml;\n",
              "        element.appendChild(docLink);\n",
              "      }\n",
              "    </script>\n",
              "  </div>\n",
              "\n",
              "\n",
              "<div id=\"df-a7e919e9-7db6-4e90-b164-ee476eead260\">\n",
              "  <button class=\"colab-df-quickchart\" onclick=\"quickchart('df-a7e919e9-7db6-4e90-b164-ee476eead260')\"\n",
              "            title=\"Suggest charts\"\n",
              "            style=\"display:none;\">\n",
              "\n",
              "<svg xmlns=\"http://www.w3.org/2000/svg\" height=\"24px\"viewBox=\"0 0 24 24\"\n",
              "     width=\"24px\">\n",
              "    <g>\n",
              "        <path d=\"M19 3H5c-1.1 0-2 .9-2 2v14c0 1.1.9 2 2 2h14c1.1 0 2-.9 2-2V5c0-1.1-.9-2-2-2zM9 17H7v-7h2v7zm4 0h-2V7h2v10zm4 0h-2v-4h2v4z\"/>\n",
              "    </g>\n",
              "</svg>\n",
              "  </button>\n",
              "\n",
              "<style>\n",
              "  .colab-df-quickchart {\n",
              "      --bg-color: #E8F0FE;\n",
              "      --fill-color: #1967D2;\n",
              "      --hover-bg-color: #E2EBFA;\n",
              "      --hover-fill-color: #174EA6;\n",
              "      --disabled-fill-color: #AAA;\n",
              "      --disabled-bg-color: #DDD;\n",
              "  }\n",
              "\n",
              "  [theme=dark] .colab-df-quickchart {\n",
              "      --bg-color: #3B4455;\n",
              "      --fill-color: #D2E3FC;\n",
              "      --hover-bg-color: #434B5C;\n",
              "      --hover-fill-color: #FFFFFF;\n",
              "      --disabled-bg-color: #3B4455;\n",
              "      --disabled-fill-color: #666;\n",
              "  }\n",
              "\n",
              "  .colab-df-quickchart {\n",
              "    background-color: var(--bg-color);\n",
              "    border: none;\n",
              "    border-radius: 50%;\n",
              "    cursor: pointer;\n",
              "    display: none;\n",
              "    fill: var(--fill-color);\n",
              "    height: 32px;\n",
              "    padding: 0;\n",
              "    width: 32px;\n",
              "  }\n",
              "\n",
              "  .colab-df-quickchart:hover {\n",
              "    background-color: var(--hover-bg-color);\n",
              "    box-shadow: 0 1px 2px rgba(60, 64, 67, 0.3), 0 1px 3px 1px rgba(60, 64, 67, 0.15);\n",
              "    fill: var(--button-hover-fill-color);\n",
              "  }\n",
              "\n",
              "  .colab-df-quickchart-complete:disabled,\n",
              "  .colab-df-quickchart-complete:disabled:hover {\n",
              "    background-color: var(--disabled-bg-color);\n",
              "    fill: var(--disabled-fill-color);\n",
              "    box-shadow: none;\n",
              "  }\n",
              "\n",
              "  .colab-df-spinner {\n",
              "    border: 2px solid var(--fill-color);\n",
              "    border-color: transparent;\n",
              "    border-bottom-color: var(--fill-color);\n",
              "    animation:\n",
              "      spin 1s steps(1) infinite;\n",
              "  }\n",
              "\n",
              "  @keyframes spin {\n",
              "    0% {\n",
              "      border-color: transparent;\n",
              "      border-bottom-color: var(--fill-color);\n",
              "      border-left-color: var(--fill-color);\n",
              "    }\n",
              "    20% {\n",
              "      border-color: transparent;\n",
              "      border-left-color: var(--fill-color);\n",
              "      border-top-color: var(--fill-color);\n",
              "    }\n",
              "    30% {\n",
              "      border-color: transparent;\n",
              "      border-left-color: var(--fill-color);\n",
              "      border-top-color: var(--fill-color);\n",
              "      border-right-color: var(--fill-color);\n",
              "    }\n",
              "    40% {\n",
              "      border-color: transparent;\n",
              "      border-right-color: var(--fill-color);\n",
              "      border-top-color: var(--fill-color);\n",
              "    }\n",
              "    60% {\n",
              "      border-color: transparent;\n",
              "      border-right-color: var(--fill-color);\n",
              "    }\n",
              "    80% {\n",
              "      border-color: transparent;\n",
              "      border-right-color: var(--fill-color);\n",
              "      border-bottom-color: var(--fill-color);\n",
              "    }\n",
              "    90% {\n",
              "      border-color: transparent;\n",
              "      border-bottom-color: var(--fill-color);\n",
              "    }\n",
              "  }\n",
              "</style>\n",
              "\n",
              "  <script>\n",
              "    async function quickchart(key) {\n",
              "      const quickchartButtonEl =\n",
              "        document.querySelector('#' + key + ' button');\n",
              "      quickchartButtonEl.disabled = true;  // To prevent multiple clicks.\n",
              "      quickchartButtonEl.classList.add('colab-df-spinner');\n",
              "      try {\n",
              "        const charts = await google.colab.kernel.invokeFunction(\n",
              "            'suggestCharts', [key], {});\n",
              "      } catch (error) {\n",
              "        console.error('Error during call to suggestCharts:', error);\n",
              "      }\n",
              "      quickchartButtonEl.classList.remove('colab-df-spinner');\n",
              "      quickchartButtonEl.classList.add('colab-df-quickchart-complete');\n",
              "    }\n",
              "    (() => {\n",
              "      let quickchartButtonEl =\n",
              "        document.querySelector('#df-a7e919e9-7db6-4e90-b164-ee476eead260 button');\n",
              "      quickchartButtonEl.style.display =\n",
              "        google.colab.kernel.accessAllowed ? 'block' : 'none';\n",
              "    })();\n",
              "  </script>\n",
              "</div>\n",
              "\n",
              "    </div>\n",
              "  </div>\n"
            ],
            "application/vnd.google.colaboratory.intrinsic+json": {
              "type": "dataframe",
              "variable_name": "final_df",
              "summary": "{\n  \"name\": \"final_df\",\n  \"rows\": 870,\n  \"fields\": [\n    {\n      \"column\": \"Domain\",\n      \"properties\": {\n        \"dtype\": \"category\",\n        \"num_unique_values\": 8,\n        \"samples\": [\n          \"marketing_abi_connect\",\n          \"financial_reports\",\n          \"logistics\"\n        ],\n        \"semantic_type\": \"\",\n        \"description\": \"\"\n      }\n    },\n    {\n      \"column\": \"Question\",\n      \"properties\": {\n        \"dtype\": \"string\",\n        \"num_unique_values\": 869,\n        \"samples\": [\n          \"How do the sentiments of mentions about Bud Light by male authors compare with those by female authors in the last month?\",\n          \"What is the percentage change in volume for the above brand by different regions in August 2023 as compared previous month?\",\n          \"Why do mentions of Brahma in Brazil have more likes than those in Argentina?\"\n        ],\n        \"semantic_type\": \"\",\n        \"description\": \"\"\n      }\n    },\n    {\n      \"column\": \"FinalLabel\",\n      \"properties\": {\n        \"dtype\": \"category\",\n        \"num_unique_values\": 2,\n        \"samples\": [\n          \"Complex\",\n          \"Simple\"\n        ],\n        \"semantic_type\": \"\",\n        \"description\": \"\"\n      }\n    }\n  ]\n}"
            }
          },
          "metadata": {},
          "execution_count": 52
        }
      ]
    },
    {
      "source": [
        "# @title Complex Questions by Domain\n",
        "\n",
        "sns.countplot(x = final_df['Domain'], hue = final_df['FinalLabel'], order = final_df['Domain'].value_counts().index)"
      ],
      "cell_type": "code",
      "execution_count": 53,
      "outputs": [
        {
          "output_type": "execute_result",
          "data": {
            "text/plain": [
              "<Axes: xlabel='Domain', ylabel='count'>"
            ]
          },
          "metadata": {},
          "execution_count": 53
        },
        {
          "output_type": "display_data",
          "data": {
            "text/plain": [
              "<Figure size 800x800 with 1 Axes>"
            ],
            "image/png": "[encoded data removed]"
          },
          "metadata": {
            "image/png": {
              "width": 713,
              "height": 693
            }
          }
        }
      ],
      "metadata": {
        "cellView": "form",
        "colab": {
          "base_uri": "https://localhost:8080/",
          "height": 728
        },
        "id": "a-NhQMNq-JEx",
        "outputId": "beec4e2e-8f3f-472b-dd9f-f68aa0eb7254"
      }
    },
    {
      "cell_type": "code",
      "source": [
        "final_df[\"FinalLabel\"].value_counts()"
      ],
      "metadata": {
        "colab": {
          "base_uri": "https://localhost:8080/"
        },
        "id": "p998M8N1T91F",
        "outputId": "68eb6f4a-0ca3-4e76-c65e-7447e6514315"
      },
      "execution_count": 58,
      "outputs": [
        {
          "output_type": "execute_result",
          "data": {
            "text/plain": [
              "0    604\n",
              "1    266\n",
              "Name: FinalLabel, dtype: int64"
            ]
          },
          "metadata": {},
          "execution_count": 58
        }
      ]
    },
    {
      "cell_type": "code",
      "source": [
        "final_df.isnull().sum()"
      ],
      "metadata": {
        "colab": {
          "base_uri": "https://localhost:8080/"
        },
        "id": "l-mEOt3y-QMO",
        "outputId": "7f67d2d2-63ef-411e-f392-7f32d6ead950"
      },
      "execution_count": 57,
      "outputs": [
        {
          "output_type": "execute_result",
          "data": {
            "text/plain": [
              "Domain        0\n",
              "Question      0\n",
              "FinalLabel    0\n",
              "dtype: int64"
            ]
          },
          "metadata": {},
          "execution_count": 57
        }
      ]
    },
    {
      "cell_type": "code",
      "source": [
        "final_df[\"FinalLabel\"] = final_df[\"FinalLabel\"].apply(lambda x: x.upper()).map({\"SIMPLE\":0,\"COMPLEX\":1})\n",
        "final_df[\"FinalLabel\"] = final_df[\"FinalLabel\"].astype(int)"
      ],
      "metadata": {
        "id": "Y10coTGQT942"
      },
      "execution_count": 56,
      "outputs": []
    },
    {
      "cell_type": "markdown",
      "source": [],
      "metadata": {
        "id": "jFS6GCMuyQbT"
      }
    },
    {
      "cell_type": "code",
      "source": [
        "final_df.head()"
      ],
      "metadata": {
        "colab": {
          "base_uri": "https://localhost:8080/",
          "height": 206
        },
        "id": "k5K7g9MjT98u",
        "outputId": "dddb42ff-b53c-49e9-b940-d21fd29e0fab"
      },
      "execution_count": 9,
      "outputs": [
        {
          "output_type": "execute_result",
          "data": {
            "text/plain": [
              "                  Domain  \\\n",
              "0              logistics   \n",
              "1              logistics   \n",
              "2  marketing_abi_connect   \n",
              "3              logistics   \n",
              "4         maz_commercial   \n",
              "\n",
              "                                                                                                                      Question  \\\n",
              "0       What is the percentage change in volume for same brand by different regions in August 2023 as compared previous month?   \n",
              "1                                                              what should beThe target average time in route (Depot to Depot)   \n",
              "2  Which social media platform has the highest number of negative sentiments followed by male population for the above brands?   \n",
              "3                                                                What Are Tools And Equipment Used In Truck Departure Process?   \n",
              "4            What is the net revenue per HL in Aug 2023, July 2023 and percentage change from July to Aug for the above brand?   \n",
              "\n",
              "   FinalLabel  \n",
              "0           0  \n",
              "1           0  \n",
              "2           0  \n",
              "3           0  \n",
              "4           0  "
            ],
            "text/html": [
              "\n",
              "  <div id=\"df-9b311849-0ef5-467e-a9d8-817cf7f63bbc\" class=\"colab-df-container\">\n",
              "    <div>\n",
              "<style scoped>\n",
              "    .dataframe tbody tr th:only-of-type {\n",
              "        vertical-align: middle;\n",
              "    }\n",
              "\n",
              "    .dataframe tbody tr th {\n",
              "        vertical-align: top;\n",
              "    }\n",
              "\n",
              "    .dataframe thead th {\n",
              "        text-align: right;\n",
              "    }\n",
              "</style>\n",
              "<table border=\"1\" class=\"dataframe\">\n",
              "  <thead>\n",
              "    <tr style=\"text-align: right;\">\n",
              "      <th></th>\n",
              "      <th>Domain</th>\n",
              "      <th>Question</th>\n",
              "      <th>FinalLabel</th>\n",
              "    </tr>\n",
              "  </thead>\n",
              "  <tbody>\n",
              "    <tr>\n",
              "      <th>0</th>\n",
              "      <td>logistics</td>\n",
              "      <td>What is the percentage change in volume for same brand by different regions in August 2023 as compared previous month?</td>\n",
              "      <td>0</td>\n",
              "    </tr>\n",
              "    <tr>\n",
              "      <th>1</th>\n",
              "      <td>logistics</td>\n",
              "      <td>what should beThe target average time in route (Depot to Depot)</td>\n",
              "      <td>0</td>\n",
              "    </tr>\n",
              "    <tr>\n",
              "      <th>2</th>\n",
              "      <td>marketing_abi_connect</td>\n",
              "      <td>Which social media platform has the highest number of negative sentiments followed by male population for the above brands?</td>\n",
              "      <td>0</td>\n",
              "    </tr>\n",
              "    <tr>\n",
              "      <th>3</th>\n",
              "      <td>logistics</td>\n",
              "      <td>What Are Tools And Equipment Used In Truck Departure Process?</td>\n",
              "      <td>0</td>\n",
              "    </tr>\n",
              "    <tr>\n",
              "      <th>4</th>\n",
              "      <td>maz_commercial</td>\n",
              "      <td>What is the net revenue per HL in Aug 2023, July 2023 and percentage change from July to Aug for the above brand?</td>\n",
              "      <td>0</td>\n",
              "    </tr>\n",
              "  </tbody>\n",
              "</table>\n",
              "</div>\n",
              "    <div class=\"colab-df-buttons\">\n",
              "\n",
              "  <div class=\"colab-df-container\">\n",
              "    <button class=\"colab-df-convert\" onclick=\"convertToInteractive('df-9b311849-0ef5-467e-a9d8-817cf7f63bbc')\"\n",
              "            title=\"Convert this dataframe to an interactive table.\"\n",
              "            style=\"display:none;\">\n",
              "\n",
              "  <svg xmlns=\"http://www.w3.org/2000/svg\" height=\"24px\" viewBox=\"0 -960 960 960\">\n",
              "    <path d=\"M120-120v-720h720v720H120Zm60-500h600v-160H180v160Zm220 220h160v-160H400v160Zm0 220h160v-160H400v160ZM180-400h160v-160H180v160Zm440 0h160v-160H620v160ZM180-180h160v-160H180v160Zm440 0h160v-160H620v160Z\"/>\n",
              "  </svg>\n",
              "    </button>\n",
              "\n",
              "  <style>\n",
              "    .colab-df-container {\n",
              "      display:flex;\n",
              "      gap: 12px;\n",
              "    }\n",
              "\n",
              "    .colab-df-convert {\n",
              "      background-color: #E8F0FE;\n",
              "      border: none;\n",
              "      border-radius: 50%;\n",
              "      cursor: pointer;\n",
              "      display: none;\n",
              "      fill: #1967D2;\n",
              "      height: 32px;\n",
              "      padding: 0 0 0 0;\n",
              "      width: 32px;\n",
              "    }\n",
              "\n",
              "    .colab-df-convert:hover {\n",
              "      background-color: #E2EBFA;\n",
              "      box-shadow: 0px 1px 2px rgba(60, 64, 67, 0.3), 0px 1px 3px 1px rgba(60, 64, 67, 0.15);\n",
              "      fill: #174EA6;\n",
              "    }\n",
              "\n",
              "    .colab-df-buttons div {\n",
              "      margin-bottom: 4px;\n",
              "    }\n",
              "\n",
              "    [theme=dark] .colab-df-convert {\n",
              "      background-color: #3B4455;\n",
              "      fill: #D2E3FC;\n",
              "    }\n",
              "\n",
              "    [theme=dark] .colab-df-convert:hover {\n",
              "      background-color: #434B5C;\n",
              "      box-shadow: 0px 1px 3px 1px rgba(0, 0, 0, 0.15);\n",
              "      filter: drop-shadow(0px 1px 2px rgba(0, 0, 0, 0.3));\n",
              "      fill: #FFFFFF;\n",
              "    }\n",
              "  </style>\n",
              "\n",
              "    <script>\n",
              "      const buttonEl =\n",
              "        document.querySelector('#df-9b311849-0ef5-467e-a9d8-817cf7f63bbc button.colab-df-convert');\n",
              "      buttonEl.style.display =\n",
              "        google.colab.kernel.accessAllowed ? 'block' : 'none';\n",
              "\n",
              "      async function convertToInteractive(key) {\n",
              "        const element = document.querySelector('#df-9b311849-0ef5-467e-a9d8-817cf7f63bbc');\n",
              "        const dataTable =\n",
              "          await google.colab.kernel.invokeFunction('convertToInteractive',\n",
              "                                                    [key], {});\n",
              "        if (!dataTable) return;\n",
              "\n",
              "        const docLinkHtml = 'Like what you see? Visit the ' +\n",
              "          '<a target=\"_blank\" href=https://colab.research.google.com/notebooks/data_table.ipynb>data table notebook</a>'\n",
              "          + ' to learn more about interactive tables.';\n",
              "        element.innerHTML = '';\n",
              "        dataTable['output_type'] = 'display_data';\n",
              "        await google.colab.output.renderOutput(dataTable, element);\n",
              "        const docLink = document.createElement('div');\n",
              "        docLink.innerHTML = docLinkHtml;\n",
              "        element.appendChild(docLink);\n",
              "      }\n",
              "    </script>\n",
              "  </div>\n",
              "\n",
              "\n",
              "<div id=\"df-4dcea996-c159-49ca-aa6b-97c997da83a7\">\n",
              "  <button class=\"colab-df-quickchart\" onclick=\"quickchart('df-4dcea996-c159-49ca-aa6b-97c997da83a7')\"\n",
              "            title=\"Suggest charts\"\n",
              "            style=\"display:none;\">\n",
              "\n",
              "<svg xmlns=\"http://www.w3.org/2000/svg\" height=\"24px\"viewBox=\"0 0 24 24\"\n",
              "     width=\"24px\">\n",
              "    <g>\n",
              "        <path d=\"M19 3H5c-1.1 0-2 .9-2 2v14c0 1.1.9 2 2 2h14c1.1 0 2-.9 2-2V5c0-1.1-.9-2-2-2zM9 17H7v-7h2v7zm4 0h-2V7h2v10zm4 0h-2v-4h2v4z\"/>\n",
              "    </g>\n",
              "</svg>\n",
              "  </button>\n",
              "\n",
              "<style>\n",
              "  .colab-df-quickchart {\n",
              "      --bg-color: #E8F0FE;\n",
              "      --fill-color: #1967D2;\n",
              "      --hover-bg-color: #E2EBFA;\n",
              "      --hover-fill-color: #174EA6;\n",
              "      --disabled-fill-color: #AAA;\n",
              "      --disabled-bg-color: #DDD;\n",
              "  }\n",
              "\n",
              "  [theme=dark] .colab-df-quickchart {\n",
              "      --bg-color: #3B4455;\n",
              "      --fill-color: #D2E3FC;\n",
              "      --hover-bg-color: #434B5C;\n",
              "      --hover-fill-color: #FFFFFF;\n",
              "      --disabled-bg-color: #3B4455;\n",
              "      --disabled-fill-color: #666;\n",
              "  }\n",
              "\n",
              "  .colab-df-quickchart {\n",
              "    background-color: var(--bg-color);\n",
              "    border: none;\n",
              "    border-radius: 50%;\n",
              "    cursor: pointer;\n",
              "    display: none;\n",
              "    fill: var(--fill-color);\n",
              "    height: 32px;\n",
              "    padding: 0;\n",
              "    width: 32px;\n",
              "  }\n",
              "\n",
              "  .colab-df-quickchart:hover {\n",
              "    background-color: var(--hover-bg-color);\n",
              "    box-shadow: 0 1px 2px rgba(60, 64, 67, 0.3), 0 1px 3px 1px rgba(60, 64, 67, 0.15);\n",
              "    fill: var(--button-hover-fill-color);\n",
              "  }\n",
              "\n",
              "  .colab-df-quickchart-complete:disabled,\n",
              "  .colab-df-quickchart-complete:disabled:hover {\n",
              "    background-color: var(--disabled-bg-color);\n",
              "    fill: var(--disabled-fill-color);\n",
              "    box-shadow: none;\n",
              "  }\n",
              "\n",
              "  .colab-df-spinner {\n",
              "    border: 2px solid var(--fill-color);\n",
              "    border-color: transparent;\n",
              "    border-bottom-color: var(--fill-color);\n",
              "    animation:\n",
              "      spin 1s steps(1) infinite;\n",
              "  }\n",
              "\n",
              "  @keyframes spin {\n",
              "    0% {\n",
              "      border-color: transparent;\n",
              "      border-bottom-color: var(--fill-color);\n",
              "      border-left-color: var(--fill-color);\n",
              "    }\n",
              "    20% {\n",
              "      border-color: transparent;\n",
              "      border-left-color: var(--fill-color);\n",
              "      border-top-color: var(--fill-color);\n",
              "    }\n",
              "    30% {\n",
              "      border-color: transparent;\n",
              "      border-left-color: var(--fill-color);\n",
              "      border-top-color: var(--fill-color);\n",
              "      border-right-color: var(--fill-color);\n",
              "    }\n",
              "    40% {\n",
              "      border-color: transparent;\n",
              "      border-right-color: var(--fill-color);\n",
              "      border-top-color: var(--fill-color);\n",
              "    }\n",
              "    60% {\n",
              "      border-color: transparent;\n",
              "      border-right-color: var(--fill-color);\n",
              "    }\n",
              "    80% {\n",
              "      border-color: transparent;\n",
              "      border-right-color: var(--fill-color);\n",
              "      border-bottom-color: var(--fill-color);\n",
              "    }\n",
              "    90% {\n",
              "      border-color: transparent;\n",
              "      border-bottom-color: var(--fill-color);\n",
              "    }\n",
              "  }\n",
              "</style>\n",
              "\n",
              "  <script>\n",
              "    async function quickchart(key) {\n",
              "      const quickchartButtonEl =\n",
              "        document.querySelector('#' + key + ' button');\n",
              "      quickchartButtonEl.disabled = true;  // To prevent multiple clicks.\n",
              "      quickchartButtonEl.classList.add('colab-df-spinner');\n",
              "      try {\n",
              "        const charts = await google.colab.kernel.invokeFunction(\n",
              "            'suggestCharts', [key], {});\n",
              "      } catch (error) {\n",
              "        console.error('Error during call to suggestCharts:', error);\n",
              "      }\n",
              "      quickchartButtonEl.classList.remove('colab-df-spinner');\n",
              "      quickchartButtonEl.classList.add('colab-df-quickchart-complete');\n",
              "    }\n",
              "    (() => {\n",
              "      let quickchartButtonEl =\n",
              "        document.querySelector('#df-4dcea996-c159-49ca-aa6b-97c997da83a7 button');\n",
              "      quickchartButtonEl.style.display =\n",
              "        google.colab.kernel.accessAllowed ? 'block' : 'none';\n",
              "    })();\n",
              "  </script>\n",
              "</div>\n",
              "\n",
              "    </div>\n",
              "  </div>\n"
            ],
            "application/vnd.google.colaboratory.intrinsic+json": {
              "type": "dataframe",
              "variable_name": "final_df",
              "summary": "{\n  \"name\": \"final_df\",\n  \"rows\": 870,\n  \"fields\": [\n    {\n      \"column\": \"Domain\",\n      \"properties\": {\n        \"dtype\": \"category\",\n        \"num_unique_values\": 8,\n        \"samples\": [\n          \"marketing_abi_connect\",\n          \"financial_reports\",\n          \"logistics\"\n        ],\n        \"semantic_type\": \"\",\n        \"description\": \"\"\n      }\n    },\n    {\n      \"column\": \"Question\",\n      \"properties\": {\n        \"dtype\": \"string\",\n        \"num_unique_values\": 869,\n        \"samples\": [\n          \"How do the sentiments of mentions about Bud Light by male authors compare with those by female authors in the last month?\",\n          \"What is the percentage change in volume for the above brand by different regions in August 2023 as compared previous month?\",\n          \"Why do mentions of Brahma in Brazil have more likes than those in Argentina?\"\n        ],\n        \"semantic_type\": \"\",\n        \"description\": \"\"\n      }\n    },\n    {\n      \"column\": \"FinalLabel\",\n      \"properties\": {\n        \"dtype\": \"number\",\n        \"std\": 0,\n        \"min\": 0,\n        \"max\": 1,\n        \"num_unique_values\": 2,\n        \"samples\": [\n          1,\n          0\n        ],\n        \"semantic_type\": \"\",\n        \"description\": \"\"\n      }\n    }\n  ]\n}"
            }
          },
          "metadata": {},
          "execution_count": 9
        }
      ]
    },
    {
      "source": [
        "# @title Domain\n",
        "\n",
        "from matplotlib import pyplot as plt\n",
        "import seaborn as sns\n",
        "final_df.groupby('Domain').size().plot(kind='barh', color=sns.palettes.mpl_palette('Dark2'))\n",
        "plt.gca().spines[['top', 'right',]].set_visible(False)"
      ],
      "cell_type": "code",
      "execution_count": 11,
      "outputs": [
        {
          "output_type": "display_data",
          "data": {
            "text/plain": [
              "<Figure size 800x800 with 1 Axes>"
            ],
            "image/png": "[encoded data removed]"
          },
          "metadata": {
            "image/png": {
              "width": 927,
              "height": 667
            }
          }
        }
      ],
      "metadata": {
        "cellView": "form",
        "colab": {
          "base_uri": "https://localhost:8080/",
          "height": 684
        },
        "id": "29ERoRUN5KYr",
        "outputId": "961c71d0-4724-4fec-96de-0c04772112bc"
      }
    },
    {
      "source": [
        "final_df['FinalLabel'].plot(kind='hist', bins=[0,1,2], title='FinalLabel')\n",
        "plt.gca().spines[['top', 'right',]].set_visible(False)"
      ],
      "cell_type": "code",
      "execution_count": 12,
      "outputs": [
        {
          "output_type": "display_data",
          "data": {
            "text/plain": [
              "<Figure size 800x800 with 1 Axes>"
            ],
            "image/png": "[encoded data removed]"
          },
          "metadata": {
            "image/png": {
              "width": 713,
              "height": 691
            }
          }
        }
      ],
      "metadata": {
        "colab": {
          "base_uri": "https://localhost:8080/",
          "height": 708
        },
        "id": "JQkLpRqhWUer",
        "outputId": "ae904481-a149-4096-c406-43c0846bd5a3"
      }
    },
    {
      "cell_type": "code",
      "source": [
        "final_df.info(),\"Null values\",final_df.isnull().sum()"
      ],
      "metadata": {
        "colab": {
          "base_uri": "https://localhost:8080/"
        },
        "id": "rxMpxtYgT-Ae",
        "outputId": "ace59f0f-35df-4f84-8c01-6b920774e51f"
      },
      "execution_count": 59,
      "outputs": [
        {
          "output_type": "stream",
          "name": "stdout",
          "text": [
            "<class 'pandas.core.frame.DataFrame'>\n",
            "RangeIndex: 870 entries, 0 to 869\n",
            "Data columns (total 3 columns):\n",
            " #   Column      Non-Null Count  Dtype \n",
            "---  ------      --------------  ----- \n",
            " 0   Domain      870 non-null    object\n",
            " 1   Question    870 non-null    object\n",
            " 2   FinalLabel  870 non-null    int64 \n",
            "dtypes: int64(1), object(2)\n",
            "memory usage: 20.5+ KB\n"
          ]
        },
        {
          "output_type": "execute_result",
          "data": {
            "text/plain": [
              "(None,\n",
              " 'Null values',\n",
              " Domain        0\n",
              " Question      0\n",
              " FinalLabel    0\n",
              " dtype: int64)"
            ]
          },
          "metadata": {},
          "execution_count": 59
        }
      ]
    },
    {
      "cell_type": "code",
      "source": [
        "class_names = ['Simple', 'Complex']"
      ],
      "metadata": {
        "id": "scj1FCStT-Em"
      },
      "execution_count": 60,
      "outputs": []
    },
    {
      "cell_type": "code",
      "source": [
        "final_df['FinalLabel'].value_counts()"
      ],
      "metadata": {
        "colab": {
          "base_uri": "https://localhost:8080/"
        },
        "id": "Om_ThWCTT-I4",
        "outputId": "64626b8c-d528-4fd1-8630-d33ff4b3494a"
      },
      "execution_count": 61,
      "outputs": [
        {
          "output_type": "execute_result",
          "data": {
            "text/plain": [
              "0    604\n",
              "1    266\n",
              "Name: FinalLabel, dtype: int64"
            ]
          },
          "metadata": {},
          "execution_count": 61
        }
      ]
    },
    {
      "cell_type": "markdown",
      "source": [
        "## Data Preprocessing using Bert tokenizer"
      ],
      "metadata": {
        "id": "Yu_i7HeLT-SW"
      }
    },
    {
      "cell_type": "code",
      "source": [
        "PRE_TRAINED_MODEL_NAME = 'bert-base-cased' # cased means What is considered different to what ie case sensitive\n",
        "MAX_LEN = 128\n",
        "BATCH_SIZE = 8\n",
        "EPOCHS = 10\n",
        "learning_rate = 2e-05"
      ],
      "metadata": {
        "id": "92g_B89lXEYz"
      },
      "execution_count": 62,
      "outputs": []
    },
    {
      "cell_type": "code",
      "source": [
        "sample_text = final_df[\"Question\"].values[0]\n",
        "print(sample_text)"
      ],
      "metadata": {
        "colab": {
          "base_uri": "https://localhost:8080/"
        },
        "id": "1ilPvd5HXEdr",
        "outputId": "f24fd1fa-e0c3-4c29-dd03-ff8eeb3fcc7b"
      },
      "execution_count": 63,
      "outputs": [
        {
          "output_type": "stream",
          "name": "stdout",
          "text": [
            "What is the percentage change in volume for same brand by different regions in August 2023 as compared previous month?\n"
          ]
        }
      ]
    },
    {
      "cell_type": "markdown",
      "source": [
        "We use tokenizer.encode_plus to do the follwing activities\n",
        "1. Add speacila tokens like CLS[101] SEP[102] PADDING[0] and UNK[100] in the text\n",
        "2. Tokenize the tokens with int encoding\n",
        "3. Provide attention mask which confirms actual tokens and paddings"
      ],
      "metadata": {
        "id": "Wp9xp0UGXElh"
      }
    },
    {
      "cell_type": "code",
      "source": [
        "tokenizer = BertTokenizer.from_pretrained(PRE_TRAINED_MODEL_NAME)"
      ],
      "metadata": {
        "id": "pEXrLAIFYlhR"
      },
      "execution_count": 64,
      "outputs": []
    },
    {
      "cell_type": "code",
      "source": [
        "encoding = tokenizer.encode_plus(\n",
        "  sample_text,\n",
        "  max_length=MAX_LEN,\n",
        "  add_special_tokens=True, # Add '[CLS]' and '[SEP]'\n",
        "  return_token_type_ids=False,\n",
        "  pad_to_max_length=True,\n",
        "  return_attention_mask=True,\n",
        "  truncation=True, # in case larger\n",
        "  return_tensors='pt',  # Return PyTorch tensors\n",
        ")\n",
        "\n",
        "print(encoding.keys())"
      ],
      "metadata": {
        "colab": {
          "base_uri": "https://localhost:8080/"
        },
        "id": "WN0e6J5rXEpH",
        "outputId": "be9f394d-5736-46c1-fa1b-e841db557219"
      },
      "execution_count": 65,
      "outputs": [
        {
          "output_type": "stream",
          "name": "stdout",
          "text": [
            "dict_keys(['input_ids', 'attention_mask'])\n"
          ]
        }
      ]
    },
    {
      "cell_type": "code",
      "source": [
        "print(len(encoding['input_ids'][0]))\n",
        "print(encoding['input_ids'].shape)\n",
        "print(len(encoding['attention_mask'][0]))\n",
        "print(encoding['attention_mask'].shape)"
      ],
      "metadata": {
        "colab": {
          "base_uri": "https://localhost:8080/"
        },
        "id": "3FwsPAKuXEte",
        "outputId": "db92003e-3790-47d7-c18b-394be828a940"
      },
      "execution_count": 66,
      "outputs": [
        {
          "output_type": "stream",
          "name": "stdout",
          "text": [
            "128\n",
            "torch.Size([1, 128])\n",
            "128\n",
            "torch.Size([1, 128])\n"
          ]
        }
      ]
    },
    {
      "cell_type": "markdown",
      "source": [
        "1 added dim is the batch size, which we have to remove while we call this within the custom torch dataset creation"
      ],
      "metadata": {
        "id": "MmJvfCjqXExn"
      }
    },
    {
      "cell_type": "markdown",
      "source": [
        "## Training and evaluation dataprep"
      ],
      "metadata": {
        "id": "pH9EiqB-kAeY"
      }
    },
    {
      "cell_type": "markdown",
      "source": [
        "### Custom Pytorch Dataset creation"
      ],
      "metadata": {
        "id": "hhLdwEdPXE11"
      }
    },
    {
      "cell_type": "code",
      "source": [
        "class QuestionClassficationDataset(Dataset):\n",
        "\n",
        "  def __init__(self, question, targets, tokenizer, max_len):\n",
        "    self.question = question\n",
        "    self.targets = targets\n",
        "    self.tokenizer = tokenizer\n",
        "    self.max_len = max_len\n",
        "\n",
        "  def __len__(self):\n",
        "    return len(self.question)\n",
        "\n",
        "  def __getitem__(self, item):\n",
        "    review = str(self.question[item])\n",
        "    if self.targets is not None:\n",
        "      target = self.targets[item]\n",
        "\n",
        "    # token encoder\n",
        "    encoding = self.tokenizer.encode_plus(\n",
        "      review,\n",
        "      add_special_tokens=True,\n",
        "      max_length=self.max_len,\n",
        "      return_token_type_ids=False,\n",
        "      pad_to_max_length=True,\n",
        "      return_attention_mask=True,\n",
        "      truncation=True,\n",
        "      return_tensors='pt',\n",
        "    )\n",
        "\n",
        "    if self.targets is not None:\n",
        "      return {\n",
        "        'review_text': review,\n",
        "        'input_ids': encoding['input_ids'].squeeze(),\n",
        "        'attention_mask': encoding['attention_mask'].squeeze(),\n",
        "        'targets': torch.tensor(target, dtype=torch.float)\n",
        "      }\n",
        "\n",
        "    else:\n",
        "\n",
        "      return {\n",
        "        'review_text': review,\n",
        "        'input_ids': encoding['input_ids'].squeeze(),\n",
        "        'attention_mask': encoding['attention_mask'],\n",
        "      }\n",
        "\n"
      ],
      "metadata": {
        "id": "PGixBtCbXE5q"
      },
      "execution_count": 67,
      "outputs": []
    },
    {
      "cell_type": "code",
      "source": [
        "sample_dataset = QuestionClassficationDataset(\n",
        "  question=[final_df[\"Question\"].values[0]],\n",
        "  targets=[final_df[\"FinalLabel\"].values[0]],\n",
        "  tokenizer=tokenizer,\n",
        "  max_len=MAX_LEN\n",
        ")"
      ],
      "metadata": {
        "id": "ZUjKQ9LbXE9l"
      },
      "execution_count": 68,
      "outputs": []
    },
    {
      "cell_type": "code",
      "source": [
        "for ds in sample_dataset:\n",
        "  print(ds.keys())"
      ],
      "metadata": {
        "colab": {
          "base_uri": "https://localhost:8080/"
        },
        "id": "s1qRIZXhT-Wo",
        "outputId": "3331b57d-d032-466e-9c6c-2039c478d499"
      },
      "execution_count": 69,
      "outputs": [
        {
          "output_type": "stream",
          "name": "stdout",
          "text": [
            "dict_keys(['review_text', 'input_ids', 'attention_mask', 'targets'])\n"
          ]
        }
      ]
    },
    {
      "cell_type": "code",
      "source": [
        "next(iter(sample_dataset))"
      ],
      "metadata": {
        "colab": {
          "base_uri": "https://localhost:8080/"
        },
        "id": "zvQEEaMei5GS",
        "outputId": "e7f9d719-1a4c-47c6-9c2a-8e0d4c3ef55f"
      },
      "execution_count": 70,
      "outputs": [
        {
          "output_type": "execute_result",
          "data": {
            "text/plain": [
              "{'review_text': 'What is the percentage change in volume for same brand by different regions in August 2023 as compared previous month?',\n",
              " 'input_ids': tensor([  101,  1327,  1110,  1103,  6556,  1849,  1107,  3884,  1111,  1269,\n",
              "          4097,  1118,  1472,  4001,  1107,  1360, 17881,  1495,  1112,  3402,\n",
              "          2166,  2370,   136,   102,     0,     0,     0,     0,     0,     0,\n",
              "             0,     0,     0,     0,     0,     0,     0,     0,     0,     0,\n",
              "             0,     0,     0,     0,     0,     0,     0,     0,     0,     0,\n",
              "             0,     0,     0,     0,     0,     0,     0,     0,     0,     0,\n",
              "             0,     0,     0,     0,     0,     0,     0,     0,     0,     0,\n",
              "             0,     0,     0,     0,     0,     0,     0,     0,     0,     0,\n",
              "             0,     0,     0,     0,     0,     0,     0,     0,     0,     0,\n",
              "             0,     0,     0,     0,     0,     0,     0,     0,     0,     0,\n",
              "             0,     0,     0,     0,     0,     0,     0,     0,     0,     0,\n",
              "             0,     0,     0,     0,     0,     0,     0,     0,     0,     0,\n",
              "             0,     0,     0,     0,     0,     0,     0,     0]),\n",
              " 'attention_mask': tensor([1, 1, 1, 1, 1, 1, 1, 1, 1, 1, 1, 1, 1, 1, 1, 1, 1, 1, 1, 1, 1, 1, 1, 1,\n",
              "         0, 0, 0, 0, 0, 0, 0, 0, 0, 0, 0, 0, 0, 0, 0, 0, 0, 0, 0, 0, 0, 0, 0, 0,\n",
              "         0, 0, 0, 0, 0, 0, 0, 0, 0, 0, 0, 0, 0, 0, 0, 0, 0, 0, 0, 0, 0, 0, 0, 0,\n",
              "         0, 0, 0, 0, 0, 0, 0, 0, 0, 0, 0, 0, 0, 0, 0, 0, 0, 0, 0, 0, 0, 0, 0, 0,\n",
              "         0, 0, 0, 0, 0, 0, 0, 0, 0, 0, 0, 0, 0, 0, 0, 0, 0, 0, 0, 0, 0, 0, 0, 0,\n",
              "         0, 0, 0, 0, 0, 0, 0, 0]),\n",
              " 'targets': tensor(0.)}"
            ]
          },
          "metadata": {},
          "execution_count": 70
        }
      ]
    },
    {
      "cell_type": "code",
      "source": [
        "def create_data_loader(df, tokenizer, max_len, batch_size, shuffle):\n",
        "  dataset = QuestionClassficationDataset(\n",
        "    question=df[\"Question\"].values,\n",
        "    targets=df[\"FinalLabel\"].values,\n",
        "    tokenizer=tokenizer,\n",
        "    max_len=max_len\n",
        "  )\n",
        "\n",
        "  return DataLoader(\n",
        "    dataset,\n",
        "    batch_size=batch_size,\n",
        "    shuffle=shuffle\n",
        "  )"
      ],
      "metadata": {
        "id": "c0f1fK-Bi5Km"
      },
      "execution_count": 71,
      "outputs": []
    },
    {
      "cell_type": "code",
      "source": [
        "# startified train test split\n",
        "train_df , test_df = train_test_split(final_df, test_size=0.25, random_state=42, stratify=final_df[\"FinalLabel\"])\n",
        "print(train_df.shape)\n",
        "print(test_df.shape)"
      ],
      "metadata": {
        "colab": {
          "base_uri": "https://localhost:8080/"
        },
        "id": "vUGKm2mhi5Ob",
        "outputId": "5688272a-6c4f-48ee-eb70-107acd38f5a7"
      },
      "execution_count": 72,
      "outputs": [
        {
          "output_type": "stream",
          "name": "stdout",
          "text": [
            "(652, 3)\n",
            "(218, 3)\n"
          ]
        }
      ]
    },
    {
      "cell_type": "code",
      "source": [
        "print(train_df[\"FinalLabel\"].value_counts()/len(train_df))\n",
        "print(test_df[\"FinalLabel\"].value_counts()/len(test_df))"
      ],
      "metadata": {
        "colab": {
          "base_uri": "https://localhost:8080/"
        },
        "id": "dMS3VUlqi5S1",
        "outputId": "405b8bb6-162f-43b1-e331-069bc5e93e0a"
      },
      "execution_count": 73,
      "outputs": [
        {
          "output_type": "stream",
          "name": "stdout",
          "text": [
            "0    0.694785\n",
            "1    0.305215\n",
            "Name: FinalLabel, dtype: float64\n",
            "0    0.692661\n",
            "1    0.307339\n",
            "Name: FinalLabel, dtype: float64\n"
          ]
        }
      ]
    },
    {
      "cell_type": "code",
      "source": [
        "# train test dataloader\n",
        "train_loader = create_data_loader(train_df, tokenizer, MAX_LEN, BATCH_SIZE, True)\n",
        "test_loader = create_data_loader(test_df, tokenizer, MAX_LEN, BATCH_SIZE, False)"
      ],
      "metadata": {
        "id": "2Z_MVb7pi5Wg"
      },
      "execution_count": 74,
      "outputs": []
    },
    {
      "cell_type": "code",
      "source": [
        "# batched of 8 with 128 token size\n",
        "for sample_data in train_loader:\n",
        "  print(sample_data.keys())\n",
        "  print(sample_data[\"input_ids\"].shape)\n",
        "  print(sample_data[\"attention_mask\"].shape)\n",
        "  print(sample_data[\"targets\"].shape)\n",
        "  print(\"\\n\")\n",
        "  break"
      ],
      "metadata": {
        "colab": {
          "base_uri": "https://localhost:8080/"
        },
        "id": "4wMYMhhVi5ah",
        "outputId": "92a6878f-9a13-4570-eb39-17f90fab15fb"
      },
      "execution_count": 75,
      "outputs": [
        {
          "output_type": "stream",
          "name": "stdout",
          "text": [
            "dict_keys(['review_text', 'input_ids', 'attention_mask', 'targets'])\n",
            "torch.Size([8, 128])\n",
            "torch.Size([8, 128])\n",
            "torch.Size([8])\n",
            "\n",
            "\n"
          ]
        }
      ]
    },
    {
      "cell_type": "code",
      "source": [
        "for test_data in test_loader:\n",
        "  print(test_data.keys())\n",
        "  print(test_data[\"input_ids\"].shape)\n",
        "  print(test_data[\"attention_mask\"].shape)\n",
        "  print(test_data[\"targets\"].shape)\n",
        "  print(\"\\n\")\n",
        "  break"
      ],
      "metadata": {
        "colab": {
          "base_uri": "https://localhost:8080/"
        },
        "id": "o7MqCZMIvsHH",
        "outputId": "1ecd55eb-5cd1-4edf-c88d-f876faffa719"
      },
      "execution_count": 76,
      "outputs": [
        {
          "output_type": "stream",
          "name": "stdout",
          "text": [
            "dict_keys(['review_text', 'input_ids', 'attention_mask', 'targets'])\n",
            "torch.Size([8, 128])\n",
            "torch.Size([8, 128])\n",
            "torch.Size([8])\n",
            "\n",
            "\n"
          ]
        }
      ]
    },
    {
      "cell_type": "markdown",
      "source": [
        "## Bert Classifier"
      ],
      "metadata": {
        "id": "l6diiD-_i5fo"
      }
    },
    {
      "cell_type": "code",
      "source": [
        "bert_model = BertModel.from_pretrained(PRE_TRAINED_MODEL_NAME)"
      ],
      "metadata": {
        "id": "VVFyfJjvi5kP"
      },
      "execution_count": 77,
      "outputs": []
    },
    {
      "cell_type": "code",
      "source": [
        "bert_model_direct = BertForSequenceClassification.from_pretrained(PRE_TRAINED_MODEL_NAME, num_labels=1)"
      ],
      "metadata": {
        "colab": {
          "base_uri": "https://localhost:8080/"
        },
        "id": "wYQZpC3KodKY",
        "outputId": "9d474a9d-554c-4647-9f9e-97947ace2bf9"
      },
      "execution_count": 78,
      "outputs": [
        {
          "output_type": "stream",
          "name": "stderr",
          "text": [
            "Some weights of BertForSequenceClassification were not initialized from the model checkpoint at bert-base-cased and are newly initialized: ['classifier.bias', 'classifier.weight']\n",
            "You should probably TRAIN this model on a down-stream task to be able to use it for predictions and inference.\n"
          ]
        }
      ]
    },
    {
      "cell_type": "code",
      "source": [
        "bert_model"
      ],
      "metadata": {
        "colab": {
          "base_uri": "https://localhost:8080/"
        },
        "id": "5bc9AbeLmX2m",
        "outputId": "d851bc5e-53c2-4fba-d817-485915dbebf1"
      },
      "execution_count": 79,
      "outputs": [
        {
          "output_type": "execute_result",
          "data": {
            "text/plain": [
              "BertModel(\n",
              "  (embeddings): BertEmbeddings(\n",
              "    (word_embeddings): Embedding(28996, 768, padding_idx=0)\n",
              "    (position_embeddings): Embedding(512, 768)\n",
              "    (token_type_embeddings): Embedding(2, 768)\n",
              "    (LayerNorm): LayerNorm((768,), eps=1e-12, elementwise_affine=True)\n",
              "    (dropout): Dropout(p=0.1, inplace=False)\n",
              "  )\n",
              "  (encoder): BertEncoder(\n",
              "    (layer): ModuleList(\n",
              "      (0-11): 12 x BertLayer(\n",
              "        (attention): BertAttention(\n",
              "          (self): BertSelfAttention(\n",
              "            (query): Linear(in_features=768, out_features=768, bias=True)\n",
              "            (key): Linear(in_features=768, out_features=768, bias=True)\n",
              "            (value): Linear(in_features=768, out_features=768, bias=True)\n",
              "            (dropout): Dropout(p=0.1, inplace=False)\n",
              "          )\n",
              "          (output): BertSelfOutput(\n",
              "            (dense): Linear(in_features=768, out_features=768, bias=True)\n",
              "            (LayerNorm): LayerNorm((768,), eps=1e-12, elementwise_affine=True)\n",
              "            (dropout): Dropout(p=0.1, inplace=False)\n",
              "          )\n",
              "        )\n",
              "        (intermediate): BertIntermediate(\n",
              "          (dense): Linear(in_features=768, out_features=3072, bias=True)\n",
              "          (intermediate_act_fn): GELUActivation()\n",
              "        )\n",
              "        (output): BertOutput(\n",
              "          (dense): Linear(in_features=3072, out_features=768, bias=True)\n",
              "          (LayerNorm): LayerNorm((768,), eps=1e-12, elementwise_affine=True)\n",
              "          (dropout): Dropout(p=0.1, inplace=False)\n",
              "        )\n",
              "      )\n",
              "    )\n",
              "  )\n",
              "  (pooler): BertPooler(\n",
              "    (dense): Linear(in_features=768, out_features=768, bias=True)\n",
              "    (activation): Tanh()\n",
              "  )\n",
              ")"
            ]
          },
          "metadata": {},
          "execution_count": 79
        }
      ]
    },
    {
      "cell_type": "code",
      "source": [
        "bert_model_direct"
      ],
      "metadata": {
        "colab": {
          "base_uri": "https://localhost:8080/"
        },
        "id": "o3KMzP42mX6A",
        "outputId": "42146144-d152-401f-d5ee-4032ee459bec"
      },
      "execution_count": 80,
      "outputs": [
        {
          "output_type": "execute_result",
          "data": {
            "text/plain": [
              "BertForSequenceClassification(\n",
              "  (bert): BertModel(\n",
              "    (embeddings): BertEmbeddings(\n",
              "      (word_embeddings): Embedding(28996, 768, padding_idx=0)\n",
              "      (position_embeddings): Embedding(512, 768)\n",
              "      (token_type_embeddings): Embedding(2, 768)\n",
              "      (LayerNorm): LayerNorm((768,), eps=1e-12, elementwise_affine=True)\n",
              "      (dropout): Dropout(p=0.1, inplace=False)\n",
              "    )\n",
              "    (encoder): BertEncoder(\n",
              "      (layer): ModuleList(\n",
              "        (0-11): 12 x BertLayer(\n",
              "          (attention): BertAttention(\n",
              "            (self): BertSelfAttention(\n",
              "              (query): Linear(in_features=768, out_features=768, bias=True)\n",
              "              (key): Linear(in_features=768, out_features=768, bias=True)\n",
              "              (value): Linear(in_features=768, out_features=768, bias=True)\n",
              "              (dropout): Dropout(p=0.1, inplace=False)\n",
              "            )\n",
              "            (output): BertSelfOutput(\n",
              "              (dense): Linear(in_features=768, out_features=768, bias=True)\n",
              "              (LayerNorm): LayerNorm((768,), eps=1e-12, elementwise_affine=True)\n",
              "              (dropout): Dropout(p=0.1, inplace=False)\n",
              "            )\n",
              "          )\n",
              "          (intermediate): BertIntermediate(\n",
              "            (dense): Linear(in_features=768, out_features=3072, bias=True)\n",
              "            (intermediate_act_fn): GELUActivation()\n",
              "          )\n",
              "          (output): BertOutput(\n",
              "            (dense): Linear(in_features=3072, out_features=768, bias=True)\n",
              "            (LayerNorm): LayerNorm((768,), eps=1e-12, elementwise_affine=True)\n",
              "            (dropout): Dropout(p=0.1, inplace=False)\n",
              "          )\n",
              "        )\n",
              "      )\n",
              "    )\n",
              "    (pooler): BertPooler(\n",
              "      (dense): Linear(in_features=768, out_features=768, bias=True)\n",
              "      (activation): Tanh()\n",
              "    )\n",
              "  )\n",
              "  (dropout): Dropout(p=0.1, inplace=False)\n",
              "  (classifier): Linear(in_features=768, out_features=1, bias=True)\n",
              ")"
            ]
          },
          "metadata": {},
          "execution_count": 80
        }
      ]
    },
    {
      "cell_type": "markdown",
      "source": [
        "The bert model gives you only 1 pooler with same 768 hidden units as input and output passed through a tanh activation function.\n",
        "\n",
        "The bert_model_direct is a classfier which is build on top of the bert model with a linear classifier layer at the end"
      ],
      "metadata": {
        "id": "UDqoPqSzmX-N"
      }
    },
    {
      "cell_type": "code",
      "source": [
        "# application\n",
        "op = bert_model(\n",
        "  input_ids=sample_data['input_ids'],\n",
        "  attention_mask=sample_data['attention_mask']\n",
        ")"
      ],
      "metadata": {
        "id": "66lj_SMfn5U1"
      },
      "execution_count": 81,
      "outputs": []
    },
    {
      "cell_type": "code",
      "source": [
        "op['last_hidden_state'].shape"
      ],
      "metadata": {
        "colab": {
          "base_uri": "https://localhost:8080/"
        },
        "id": "7rRQbg9doSbw",
        "outputId": "88641c9e-005c-44a4-a690-7ad2b87253b9"
      },
      "execution_count": 82,
      "outputs": [
        {
          "output_type": "execute_result",
          "data": {
            "text/plain": [
              "torch.Size([8, 128, 768])"
            ]
          },
          "metadata": {},
          "execution_count": 82
        }
      ]
    },
    {
      "cell_type": "code",
      "source": [
        "op['pooler_output'].shape"
      ],
      "metadata": {
        "colab": {
          "base_uri": "https://localhost:8080/"
        },
        "id": "i55Bkp0To24y",
        "outputId": "d2596a97-3495-41ac-c210-cc05e51d63bf"
      },
      "execution_count": 83,
      "outputs": [
        {
          "output_type": "execute_result",
          "data": {
            "text/plain": [
              "torch.Size([8, 768])"
            ]
          },
          "metadata": {},
          "execution_count": 83
        }
      ]
    },
    {
      "cell_type": "markdown",
      "source": [
        "* representation : 8 sentences with 128 tokens with each having a vector of dim 768\n",
        "* Bert base has 12 sets of transformers where bert large has a set of 24\n",
        "* For any downstream task we will use the pooler output"
      ],
      "metadata": {
        "id": "vyyuDMDVoyqQ"
      }
    },
    {
      "cell_type": "markdown",
      "source": [
        "### Model Training"
      ],
      "metadata": {
        "id": "C1Cv2_FC6oym"
      }
    },
    {
      "cell_type": "code",
      "source": [
        "class BertSentimentClassifier(nn.Module):\n",
        "\n",
        "  def __init__(self, n_classes, dropout = 0.1):\n",
        "    super(BertSentimentClassifier, self).__init__()\n",
        "    self.bert = BertModel.from_pretrained(PRE_TRAINED_MODEL_NAME)\n",
        "    self.drop = nn.Dropout(p=dropout)\n",
        "    self.classifier = nn.Linear(self.bert.config.hidden_size, n_classes)\n",
        "\n",
        "  def forward(self, input_ids, attention_mask):\n",
        "\n",
        "    model_op = self.bert(\n",
        "      input_ids=input_ids,\n",
        "      attention_mask=attention_mask\n",
        "    )\n",
        "    pooled_output = model_op['pooler_output']\n",
        "    output = self.drop(pooled_output)\n",
        "    return self.classifier(output)"
      ],
      "metadata": {
        "id": "P7430GTzmYBg"
      },
      "execution_count": 84,
      "outputs": []
    },
    {
      "cell_type": "code",
      "source": [
        "bert_base_classifier = BertSentimentClassifier(1).to(device)\n",
        "bert_base_classifier"
      ],
      "metadata": {
        "colab": {
          "base_uri": "https://localhost:8080/"
        },
        "id": "1tc0hkGqmYFD",
        "outputId": "a50902ec-4d02-4b41-df72-c86afa6ab1bd"
      },
      "execution_count": 85,
      "outputs": [
        {
          "output_type": "execute_result",
          "data": {
            "text/plain": [
              "BertSentimentClassifier(\n",
              "  (bert): BertModel(\n",
              "    (embeddings): BertEmbeddings(\n",
              "      (word_embeddings): Embedding(28996, 768, padding_idx=0)\n",
              "      (position_embeddings): Embedding(512, 768)\n",
              "      (token_type_embeddings): Embedding(2, 768)\n",
              "      (LayerNorm): LayerNorm((768,), eps=1e-12, elementwise_affine=True)\n",
              "      (dropout): Dropout(p=0.1, inplace=False)\n",
              "    )\n",
              "    (encoder): BertEncoder(\n",
              "      (layer): ModuleList(\n",
              "        (0-11): 12 x BertLayer(\n",
              "          (attention): BertAttention(\n",
              "            (self): BertSelfAttention(\n",
              "              (query): Linear(in_features=768, out_features=768, bias=True)\n",
              "              (key): Linear(in_features=768, out_features=768, bias=True)\n",
              "              (value): Linear(in_features=768, out_features=768, bias=True)\n",
              "              (dropout): Dropout(p=0.1, inplace=False)\n",
              "            )\n",
              "            (output): BertSelfOutput(\n",
              "              (dense): Linear(in_features=768, out_features=768, bias=True)\n",
              "              (LayerNorm): LayerNorm((768,), eps=1e-12, elementwise_affine=True)\n",
              "              (dropout): Dropout(p=0.1, inplace=False)\n",
              "            )\n",
              "          )\n",
              "          (intermediate): BertIntermediate(\n",
              "            (dense): Linear(in_features=768, out_features=3072, bias=True)\n",
              "            (intermediate_act_fn): GELUActivation()\n",
              "          )\n",
              "          (output): BertOutput(\n",
              "            (dense): Linear(in_features=3072, out_features=768, bias=True)\n",
              "            (LayerNorm): LayerNorm((768,), eps=1e-12, elementwise_affine=True)\n",
              "            (dropout): Dropout(p=0.1, inplace=False)\n",
              "          )\n",
              "        )\n",
              "      )\n",
              "    )\n",
              "    (pooler): BertPooler(\n",
              "      (dense): Linear(in_features=768, out_features=768, bias=True)\n",
              "      (activation): Tanh()\n",
              "    )\n",
              "  )\n",
              "  (drop): Dropout(p=0.1, inplace=False)\n",
              "  (classifier): Linear(in_features=768, out_features=1, bias=True)\n",
              ")"
            ]
          },
          "metadata": {},
          "execution_count": 85
        }
      ]
    },
    {
      "cell_type": "code",
      "source": [
        "# input_ids=sample_data['input_ids'].to(device)\n",
        "# attention_mask=sample_data['attention_mask'].to(device)\n",
        "\n",
        "# print(input_ids.shape) # batch size x seq length\n",
        "# print(attention_mask.shape) # batch size x seq length"
      ],
      "metadata": {
        "id": "LavREwtfmYIj"
      },
      "execution_count": 86,
      "outputs": []
    },
    {
      "cell_type": "code",
      "source": [
        "# model_op = bert_base_classifier(input_ids, attention_mask)\n",
        "# print(model_op.squeeze().shape)\n",
        "# print(sample_data[\"targets\"].shape)"
      ],
      "metadata": {
        "id": "KyjavUbimYMI"
      },
      "execution_count": 87,
      "outputs": []
    },
    {
      "cell_type": "code",
      "source": [
        "# device_setup-----\n",
        "# loss\n",
        "criterion = torch.nn.BCEWithLogitsLoss()\n",
        "# optimizer\n",
        "optimizer = AdamW(bert_base_classifier.parameters(), lr=learning_rate, correct_bias=False)\n",
        "# scheduler\n",
        "total_steps = len(train_loader) * EPOCHS\n",
        "scheduler = get_linear_schedule_with_warmup(\n",
        "  optimizer,\n",
        "  num_warmup_steps=0,\n",
        "  num_training_steps=total_steps\n",
        ")\n",
        "# metrics\n",
        "metric = BinaryF1Score(device = device)"
      ],
      "metadata": {
        "id": "LbsS4T0dmYP6"
      },
      "execution_count": 88,
      "outputs": []
    },
    {
      "cell_type": "code",
      "source": [
        "def train_module(model:torch.nn.Module,\n",
        "                 device:torch.device,\n",
        "                 train_dataloader:torch.utils.data.DataLoader ,\n",
        "                 optimizer:torch.optim.Optimizer,\n",
        "                 criterion:torch.nn.Module,\n",
        "                 metric,\n",
        "                 scheduler,\n",
        "                 train_losses:list,\n",
        "                 train_metrics:list):\n",
        "\n",
        "  # setting model to train mode\n",
        "  model.train()\n",
        "  pbar = tqdm(train_dataloader)\n",
        "\n",
        "  # batch metrics\n",
        "  train_loss = 0\n",
        "  train_metric = 0\n",
        "  processed_batch = 0\n",
        "\n",
        "  for _,data in enumerate(pbar):\n",
        "\n",
        "    ids = data['input_ids'].to(device)\n",
        "    mask = data['attention_mask'].to(device)\n",
        "    targets = data['targets'].to(device)\n",
        "\n",
        "    # print(f\"The target shape is {targets.shape}\")\n",
        "\n",
        "    # model output\n",
        "    outputs = model(ids, mask)\n",
        "    outputs = outputs.flatten()\n",
        "    # print(f\"The output shape is {outputs.shape}\")\n",
        "\n",
        "    # calc loss\n",
        "    loss = criterion(outputs, targets)\n",
        "    train_loss += loss.item()\n",
        "    # print(f\"training loss for batch {idx} is {loss}\")\n",
        "\n",
        "    # backpropagation\n",
        "    optimizer.zero_grad() # flush out  existing grads\n",
        "    loss.backward() # back prop of weights wrt loss\n",
        "    # gradient clipping -- prevent gradient explosion\n",
        "    nn.utils.clip_grad_norm_(model.parameters(), max_norm=1.0)\n",
        "\n",
        "    # improvement steps\n",
        "    optimizer.step() # optimizer step -> minima\n",
        "    if scheduler is not None:\n",
        "      scheduler.step() # scheduler step -> lr scheduling\n",
        "\n",
        "    # metric calc\n",
        "    metric.update(outputs,targets)\n",
        "    train_metric += metric.compute().detach().item()\n",
        "\n",
        "    #updating batch count\n",
        "    processed_batch += 1\n",
        "\n",
        "    pbar.set_description(f\"Avg Train Loss: {train_loss/processed_batch} Avg Train Metric: {train_metric/processed_batch}\")\n",
        "\n",
        "  # It's typically called after the epoch completes\n",
        "  metric.reset()\n",
        "  # updating epoch metrics\n",
        "  train_losses.append(train_loss/processed_batch)\n",
        "  train_metrics.append(train_metric/processed_batch)\n",
        "\n",
        "  return train_losses, train_metrics\n"
      ],
      "metadata": {
        "id": "t_vvuiw7mYTc"
      },
      "execution_count": 89,
      "outputs": []
    },
    {
      "cell_type": "code",
      "source": [
        "def test_module(model:torch.nn.Module,\n",
        "                device:torch.device,\n",
        "                test_dataloader:torch.utils.data.DataLoader,\n",
        "                criterion:torch.nn.Module,\n",
        "                metric,\n",
        "                test_losses,\n",
        "                test_metrics):\n",
        "  # setting model to eval mode\n",
        "  model.eval()\n",
        "  pbar = tqdm(test_dataloader)\n",
        "\n",
        "  # batch metrics\n",
        "  test_loss = 0\n",
        "  test_metric = 0\n",
        "  processed_batch = 0\n",
        "\n",
        "  with torch.inference_mode():\n",
        "    for _, data in enumerate(pbar, 0):\n",
        "      ids = data['input_ids'].to(device)\n",
        "      mask = data['attention_mask'].to(device)\n",
        "      targets = data['targets'].to(device)\n",
        "\n",
        "      # print(f\"The target shape is {targets.shape}\")\n",
        "\n",
        "      # model output\n",
        "      outputs = model(ids, mask)\n",
        "      outputs = outputs.flatten()\n",
        "\n",
        "      # print(f\"The output shape is {outputs.shape}\")\n",
        "\n",
        "     # calc loss\n",
        "      loss = criterion(outputs, targets)\n",
        "      test_loss += loss.item()\n",
        "\n",
        "      # metric calc\n",
        "      metric.update(outputs, targets)\n",
        "      test_metric += metric.compute().detach().item()\n",
        "\n",
        "      #updating batch count\n",
        "      processed_batch += 1\n",
        "\n",
        "      pbar.set_description(f\"Avg Test Loss: {test_loss/processed_batch} Avg Test Metric: {test_metric/processed_batch}\")\n",
        "\n",
        "    # It's typically called after the epoch completes\n",
        "    metric.reset()\n",
        "    # updating epoch metrics\n",
        "    test_losses.append(test_loss/processed_batch)\n",
        "    test_metrics.append(test_metric/processed_batch)\n",
        "\n",
        "  return test_losses, test_metrics"
      ],
      "metadata": {
        "id": "mO0W6tuBi5o2"
      },
      "execution_count": 90,
      "outputs": []
    },
    {
      "cell_type": "code",
      "source": [
        "%%time\n",
        "\n",
        "train_losses = []\n",
        "train_metrics = []\n",
        "test_losses = []\n",
        "test_metrics = []\n",
        "\n",
        "for epoch in range(EPOCHS):\n",
        "\n",
        "  print(f'Epoch {epoch + 1}/{EPOCHS}')\n",
        "  print('-' * 10)\n",
        "\n",
        "  train_losses, train_metrics = train_module(\n",
        "      model = bert_base_classifier,\n",
        "      device = device,\n",
        "      train_dataloader = train_loader,\n",
        "      optimizer = optimizer,\n",
        "      criterion = criterion,\n",
        "      metric = metric,\n",
        "      scheduler = scheduler,\n",
        "      train_losses = train_losses,\n",
        "      train_metrics = train_metrics,\n",
        "  )\n",
        "\n",
        "  test_losses, test_metrics = test_module(\n",
        "      model = bert_base_classifier,\n",
        "      device = device,\n",
        "      test_dataloader = test_loader,\n",
        "      criterion = criterion,\n",
        "      metric = metric,\n",
        "      test_losses = test_losses,\n",
        "      test_metrics = test_metrics,\n",
        "  )\n",
        "\n",
        "  print(f\"The learing rate is {scheduler.get_last_lr()}\")\n"
      ],
      "metadata": {
        "colab": {
          "base_uri": "https://localhost:8080/"
        },
        "id": "9szf7tQei5s_",
        "outputId": "bd9ae124-cf7c-4345-a2f7-69cb1fdee625"
      },
      "execution_count": 91,
      "outputs": [
        {
          "output_type": "stream",
          "name": "stdout",
          "text": [
            "Epoch 1/10\n",
            "----------\n"
          ]
        },
        {
          "output_type": "stream",
          "name": "stderr",
          "text": [
            "Avg Train Loss: 0.4098349318544312 Avg Train Metric: 0.37605711322550367: 100%|██████████| 82/82 [00:16<00:00,  4.83it/s]\n",
            "Avg Test Loss: 0.20130368767838394 Avg Test Metric: 0.9062236739056451: 100%|██████████| 28/28 [00:01<00:00, 14.21it/s]\n"
          ]
        },
        {
          "output_type": "stream",
          "name": "stdout",
          "text": [
            "The learing rate is [1.8e-05]\n",
            "Epoch 2/10\n",
            "----------\n"
          ]
        },
        {
          "output_type": "stream",
          "name": "stderr",
          "text": [
            "Avg Train Loss: 0.19642843946632815 Avg Train Metric: 0.8570051985542949: 100%|██████████| 82/82 [00:17<00:00,  4.68it/s]\n",
            "Avg Test Loss: 0.16399063120063925 Avg Test Metric: 0.9483653498547417: 100%|██████████| 28/28 [00:01<00:00, 14.78it/s]\n"
          ]
        },
        {
          "output_type": "stream",
          "name": "stdout",
          "text": [
            "The learing rate is [1.6000000000000003e-05]\n",
            "Epoch 3/10\n",
            "----------\n"
          ]
        },
        {
          "output_type": "stream",
          "name": "stderr",
          "text": [
            "Avg Train Loss: 0.171660875966886 Avg Train Metric: 0.9514937226365252: 100%|██████████| 82/82 [00:17<00:00,  4.79it/s]\n",
            "Avg Test Loss: 0.12028169350898159 Avg Test Metric: 0.9753951707056591: 100%|██████████| 28/28 [00:01<00:00, 15.83it/s]\n"
          ]
        },
        {
          "output_type": "stream",
          "name": "stdout",
          "text": [
            "The learing rate is [1.4e-05]\n",
            "Epoch 4/10\n",
            "----------\n"
          ]
        },
        {
          "output_type": "stream",
          "name": "stderr",
          "text": [
            "Avg Train Loss: 0.14080725376857672 Avg Train Metric: 0.9425134775115223: 100%|██████████| 82/82 [00:16<00:00,  4.88it/s]\n",
            "Avg Test Loss: 0.31268853507936 Avg Test Metric: 0.8935952335596085: 100%|██████████| 28/28 [00:01<00:00, 15.91it/s]\n"
          ]
        },
        {
          "output_type": "stream",
          "name": "stdout",
          "text": [
            "The learing rate is [1.2e-05]\n",
            "Epoch 5/10\n",
            "----------\n"
          ]
        },
        {
          "output_type": "stream",
          "name": "stderr",
          "text": [
            "Avg Train Loss: 0.10088705437019377 Avg Train Metric: 0.9539289481756164: 100%|██████████| 82/82 [00:16<00:00,  4.92it/s]\n",
            "Avg Test Loss: 0.14707697958718718 Avg Test Metric: 0.9472332894802094: 100%|██████████| 28/28 [00:01<00:00, 15.81it/s]\n"
          ]
        },
        {
          "output_type": "stream",
          "name": "stdout",
          "text": [
            "The learing rate is [1e-05]\n",
            "Epoch 6/10\n",
            "----------\n"
          ]
        },
        {
          "output_type": "stream",
          "name": "stderr",
          "text": [
            "Avg Train Loss: 0.06314047099028645 Avg Train Metric: 0.974156495274567: 100%|██████████| 82/82 [00:16<00:00,  4.83it/s]\n",
            "Avg Test Loss: 0.1531810105994477 Avg Test Metric: 0.9517986859594073: 100%|██████████| 28/28 [00:01<00:00, 15.55it/s]\n"
          ]
        },
        {
          "output_type": "stream",
          "name": "stdout",
          "text": [
            "The learing rate is [8.000000000000001e-06]\n",
            "Epoch 7/10\n",
            "----------\n"
          ]
        },
        {
          "output_type": "stream",
          "name": "stderr",
          "text": [
            "Avg Train Loss: 0.04937603528378531 Avg Train Metric: 0.9641552036855279: 100%|██████████| 82/82 [00:17<00:00,  4.80it/s]\n",
            "Avg Test Loss: 0.17156431267462072 Avg Test Metric: 0.9403866870062692: 100%|██████████| 28/28 [00:01<00:00, 15.58it/s]\n"
          ]
        },
        {
          "output_type": "stream",
          "name": "stdout",
          "text": [
            "The learing rate is [6e-06]\n",
            "Epoch 8/10\n",
            "----------\n"
          ]
        },
        {
          "output_type": "stream",
          "name": "stderr",
          "text": [
            "Avg Train Loss: 0.03614846642679966 Avg Train Metric: 0.9843323899478447: 100%|██████████| 82/82 [00:17<00:00,  4.82it/s]\n",
            "Avg Test Loss: 0.1881339296607101 Avg Test Metric: 0.9388094948870795: 100%|██████████| 28/28 [00:01<00:00, 15.85it/s]\n"
          ]
        },
        {
          "output_type": "stream",
          "name": "stdout",
          "text": [
            "The learing rate is [4.000000000000001e-06]\n",
            "Epoch 9/10\n",
            "----------\n"
          ]
        },
        {
          "output_type": "stream",
          "name": "stderr",
          "text": [
            "Avg Train Loss: 0.028362551194377153 Avg Train Metric: 0.984670069159531: 100%|██████████| 82/82 [00:16<00:00,  4.84it/s]\n",
            "Avg Test Loss: 0.20062541015171778 Avg Test Metric: 0.9403866870062692: 100%|██████████| 28/28 [00:01<00:00, 15.21it/s]\n"
          ]
        },
        {
          "output_type": "stream",
          "name": "stdout",
          "text": [
            "The learing rate is [2.0000000000000003e-06]\n",
            "Epoch 10/10\n",
            "----------\n"
          ]
        },
        {
          "output_type": "stream",
          "name": "stderr",
          "text": [
            "Avg Train Loss: 0.027078722964222656 Avg Train Metric: 0.9976389975082584: 100%|██████████| 82/82 [00:16<00:00,  4.84it/s]\n",
            "Avg Test Loss: 0.1938850926131376 Avg Test Metric: 0.9403866870062692: 100%|██████████| 28/28 [00:01<00:00, 15.63it/s]"
          ]
        },
        {
          "output_type": "stream",
          "name": "stdout",
          "text": [
            "The learing rate is [0.0]\n",
            "CPU times: user 2min 19s, sys: 45.7 s, total: 3min 4s\n",
            "Wall time: 3min 8s\n"
          ]
        },
        {
          "output_type": "stream",
          "name": "stderr",
          "text": [
            "\n"
          ]
        }
      ]
    },
    {
      "cell_type": "code",
      "source": [
        "plt.plot(train_metrics, label='train f1')\n",
        "plt.plot(test_metrics ,label='validation f1')\n",
        "\n",
        "plt.title('Training history')\n",
        "plt.ylabel('Metric')\n",
        "plt.xlabel('Epoch')\n",
        "plt.legend()\n",
        "plt.ylim([0, 1]);"
      ],
      "metadata": {
        "colab": {
          "base_uri": "https://localhost:8080/",
          "height": 734
        },
        "id": "iML6v56e68BA",
        "outputId": "3a3c2486-6cd6-4443-86ba-9806ca046883"
      },
      "execution_count": 92,
      "outputs": [
        {
          "output_type": "display_data",
          "data": {
            "text/plain": [
              "<Figure size 800x800 with 1 Axes>"
            ],
            "image/png": "[encoded data removed]"
          },
          "metadata": {
            "image/png": {
              "width": 707,
              "height": 717
            }
          }
        }
      ]
    },
    {
      "cell_type": "markdown",
      "source": [
        "### Evalutaion Framework"
      ],
      "metadata": {
        "id": "N4PVz3T5tgew"
      }
    },
    {
      "cell_type": "code",
      "source": [
        "def get_predictions(model, data_loader):\n",
        "\n",
        "  review_texts = []\n",
        "  predictions = []\n",
        "  prediction_probs = []\n",
        "  real_values = []\n",
        "\n",
        "  model.eval()\n",
        "  with torch.no_grad():\n",
        "    for d in data_loader:\n",
        "      texts = d[\"review_text\"]\n",
        "      input_ids = d[\"input_ids\"].to(device)\n",
        "      attention_mask = d[\"attention_mask\"].to(device)\n",
        "\n",
        "      outputs = model(\n",
        "        input_ids=input_ids,\n",
        "        attention_mask=attention_mask\n",
        "      ).flatten()\n",
        "\n",
        "      probs = torch.sigmoid(outputs)\n",
        "      preds = torch.round(probs)\n",
        "\n",
        "\n",
        "      review_texts.extend(texts)\n",
        "      predictions.extend(preds)\n",
        "      prediction_probs.extend(probs)\n",
        "\n",
        "  predictions = torch.stack(predictions).cpu()\n",
        "  prediction_probs = torch.stack(prediction_probs).cpu()\n",
        "\n",
        "  return review_texts, predictions, prediction_probs"
      ],
      "metadata": {
        "id": "dqK91UYYtgi4"
      },
      "execution_count": 93,
      "outputs": []
    },
    {
      "cell_type": "code",
      "source": [
        "raw_sentences = [\"What was the sales for brand Hurricane in India?\",\n",
        "                 \"How did the sales for brand X varied over last one year?\",\n",
        "                 \"Explain how has the impact on water shortage on the production of beer in India?\",\n",
        "                 \"How is the performance of Classic lager segment in LP TY compared to LP YA?\",\n",
        "                 \"Detail the reasons for drop in sales for brand Corona in the west?\",\n",
        "                 \"How did the sales evolved for brand Jupiter over the period of last 6 months?\"]"
      ],
      "metadata": {
        "id": "f11OXcGhtgng"
      },
      "execution_count": 94,
      "outputs": []
    },
    {
      "cell_type": "code",
      "source": [
        "eval_dataset = QuestionClassficationDataset(\n",
        "  question=raw_sentences,\n",
        "  targets=None,\n",
        "  tokenizer=tokenizer,\n",
        "  max_len=MAX_LEN\n",
        ")"
      ],
      "metadata": {
        "id": "X8y0PxRZtgsU"
      },
      "execution_count": 95,
      "outputs": []
    },
    {
      "cell_type": "code",
      "source": [
        "eval_dataloader = DataLoader(\n",
        "  eval_dataset,\n",
        "  batch_size=1,\n",
        "  shuffle=False\n",
        ")"
      ],
      "metadata": {
        "id": "6A67xj5L53A0"
      },
      "execution_count": 96,
      "outputs": []
    },
    {
      "cell_type": "code",
      "source": [
        "review_texts, predictions, prediction_probs = get_predictions(bert_base_classifier , eval_dataloader)"
      ],
      "metadata": {
        "id": "OJ_nJdPA53Sf"
      },
      "execution_count": 97,
      "outputs": []
    },
    {
      "cell_type": "code",
      "source": [
        "predictions"
      ],
      "metadata": {
        "colab": {
          "base_uri": "https://localhost:8080/"
        },
        "id": "VRAkSKdJ53V8",
        "outputId": "45ba94de-b9ce-4a92-9e3e-55fe420be476"
      },
      "execution_count": 98,
      "outputs": [
        {
          "output_type": "execute_result",
          "data": {
            "text/plain": [
              "tensor([0., 0., 1., 1., 1., 0.])"
            ]
          },
          "metadata": {},
          "execution_count": 98
        }
      ]
    },
    {
      "cell_type": "code",
      "source": [
        "prediction_probs"
      ],
      "metadata": {
        "colab": {
          "base_uri": "https://localhost:8080/"
        },
        "id": "EYBb9Pq_8hsV",
        "outputId": "3bc9e7fc-dbf8-48b3-fa2b-130a445b8083"
      },
      "execution_count": 99,
      "outputs": [
        {
          "output_type": "execute_result",
          "data": {
            "text/plain": [
              "tensor([0.0011, 0.0017, 0.9996, 0.9985, 0.9997, 0.0024])"
            ]
          },
          "metadata": {},
          "execution_count": 99
        }
      ]
    },
    {
      "cell_type": "markdown",
      "source": [
        "1. Application of Focal loss for unbalanced data\n",
        "2. application of weights in loss functions\n",
        "3. A bit more conservative model to tackle overfitting\n",
        "4. Assure the data to be hetergenous ie use embedding and cosine sim"
      ],
      "metadata": {
        "id": "I0UE3xRX8jWw"
      }
    },
    {
      "cell_type": "markdown",
      "source": [
        "## Application of a conservative Model"
      ],
      "metadata": {
        "id": "7L_8Xa1z-cjo"
      }
    },
    {
      "cell_type": "code",
      "source": [
        "class BertSentimentClassifierExtended(nn.Module):\n",
        "\n",
        "  def __init__(self, n_classes, fc_hidden = 128 , dropout = 0.1):\n",
        "    super(BertSentimentClassifier, self).__init__()\n",
        "    self.bert = BertModel.from_pretrained(PRE_TRAINED_MODEL_NAME)\n",
        "    self.drop = nn.Dropout(p=dropout)\n",
        "    self.pooler = nn.Linear(self.bert.config.hidden_size, fc_hidden)\n",
        "    self.classifier = nn.Linear(fc_hidden n_classes)\n",
        "\n",
        "\n",
        "  def forward(self, input_ids, attention_mask):\n",
        "\n",
        "    model_op = self.bert(\n",
        "      input_ids=input_ids,\n",
        "      attention_mask=attention_mask\n",
        "    )\n",
        "    pooled_output = model_op['pooler_output']\n",
        "    output = self.drop(pooled_output)\n",
        "    output = self.pooler(output)\n",
        "    output = nn.BatchNorm1d(output)\n",
        "    return self.classifier(output)"
      ],
      "metadata": {
        "id": "hbAO5-Sk-cnY"
      },
      "execution_count": null,
      "outputs": []
    },
    {
      "cell_type": "code",
      "source": [],
      "metadata": {
        "id": "pBG6RCjK-crf"
      },
      "execution_count": null,
      "outputs": []
    },
    {
      "cell_type": "code",
      "source": [],
      "metadata": {
        "id": "0cfvOuUz-cv5"
      },
      "execution_count": null,
      "outputs": []
    }
  ]
}