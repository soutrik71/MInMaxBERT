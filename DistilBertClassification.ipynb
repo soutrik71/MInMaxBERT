{
  "nbformat": 4,
  "nbformat_minor": 0,
  "metadata": {
    "colab": {
      "provenance": [],
      "gpuType": "T4",
      "authorship_tag": "ABX9TyPa5vJ197cPKq3J2NV/uep4",
      "include_colab_link": true
    },
    "kernelspec": {
      "name": "python3",
      "display_name": "Python 3"
    },
    "language_info": {
      "name": "python"
    },
    "widgets": {
      "application/vnd.jupyter.widget-state+json": {
        "765bade31dd84ebe8bb14829c367662d": {
          "model_module": "@jupyter-widgets/controls",
          "model_name": "HBoxModel",
          "model_module_version": "1.5.0",
          "state": {
            "_dom_classes": [],
            "_model_module": "@jupyter-widgets/controls",
            "_model_module_version": "1.5.0",
            "_model_name": "HBoxModel",
            "_view_count": null,
            "_view_module": "@jupyter-widgets/controls",
            "_view_module_version": "1.5.0",
            "_view_name": "HBoxView",
            "box_style": "",
            "children": [
              "IPY_MODEL_586debe4f4bb4cc89fc2a2766ed60e5b",
              "IPY_MODEL_9b8a20abba1d495983e2703cdd7057bc",
              "IPY_MODEL_65c0001515fa4b668e5f8a8c4f32ca1e"
            ],
            "layout": "IPY_MODEL_e66dc5ff9a9f4dd7aa60c055a3afdb27"
          }
        },
        "586debe4f4bb4cc89fc2a2766ed60e5b": {
          "model_module": "@jupyter-widgets/controls",
          "model_name": "HTMLModel",
          "model_module_version": "1.5.0",
          "state": {
            "_dom_classes": [],
            "_model_module": "@jupyter-widgets/controls",
            "_model_module_version": "1.5.0",
            "_model_name": "HTMLModel",
            "_view_count": null,
            "_view_module": "@jupyter-widgets/controls",
            "_view_module_version": "1.5.0",
            "_view_name": "HTMLView",
            "description": "",
            "description_tooltip": null,
            "layout": "IPY_MODEL_8f3dc7064bea49178365dbadb4664210",
            "placeholder": "​",
            "style": "IPY_MODEL_4cc9920266354adcb93d5bd8137c34f3",
            "value": "tokenizer_config.json: 100%"
          }
        },
        "9b8a20abba1d495983e2703cdd7057bc": {
          "model_module": "@jupyter-widgets/controls",
          "model_name": "FloatProgressModel",
          "model_module_version": "1.5.0",
          "state": {
            "_dom_classes": [],
            "_model_module": "@jupyter-widgets/controls",
            "_model_module_version": "1.5.0",
            "_model_name": "FloatProgressModel",
            "_view_count": null,
            "_view_module": "@jupyter-widgets/controls",
            "_view_module_version": "1.5.0",
            "_view_name": "ProgressView",
            "bar_style": "success",
            "description": "",
            "description_tooltip": null,
            "layout": "IPY_MODEL_7501591675fb46fd94b22038a66ebf46",
            "max": 29,
            "min": 0,
            "orientation": "horizontal",
            "style": "IPY_MODEL_477a92a8f0e946a0921e845643ba4e58",
            "value": 29
          }
        },
        "65c0001515fa4b668e5f8a8c4f32ca1e": {
          "model_module": "@jupyter-widgets/controls",
          "model_name": "HTMLModel",
          "model_module_version": "1.5.0",
          "state": {
            "_dom_classes": [],
            "_model_module": "@jupyter-widgets/controls",
            "_model_module_version": "1.5.0",
            "_model_name": "HTMLModel",
            "_view_count": null,
            "_view_module": "@jupyter-widgets/controls",
            "_view_module_version": "1.5.0",
            "_view_name": "HTMLView",
            "description": "",
            "description_tooltip": null,
            "layout": "IPY_MODEL_7d8f6122785b42d884df1b1da5f1db8d",
            "placeholder": "​",
            "style": "IPY_MODEL_397b4a1569344005ad19e9329f082631",
            "value": " 29.0/29.0 [00:00&lt;00:00, 1.29kB/s]"
          }
        },
        "e66dc5ff9a9f4dd7aa60c055a3afdb27": {
          "model_module": "@jupyter-widgets/base",
          "model_name": "LayoutModel",
          "model_module_version": "1.2.0",
          "state": {
            "_model_module": "@jupyter-widgets/base",
            "_model_module_version": "1.2.0",
            "_model_name": "LayoutModel",
            "_view_count": null,
            "_view_module": "@jupyter-widgets/base",
            "_view_module_version": "1.2.0",
            "_view_name": "LayoutView",
            "align_content": null,
            "align_items": null,
            "align_self": null,
            "border": null,
            "bottom": null,
            "display": null,
            "flex": null,
            "flex_flow": null,
            "grid_area": null,
            "grid_auto_columns": null,
            "grid_auto_flow": null,
            "grid_auto_rows": null,
            "grid_column": null,
            "grid_gap": null,
            "grid_row": null,
            "grid_template_areas": null,
            "grid_template_columns": null,
            "grid_template_rows": null,
            "height": null,
            "justify_content": null,
            "justify_items": null,
            "left": null,
            "margin": null,
            "max_height": null,
            "max_width": null,
            "min_height": null,
            "min_width": null,
            "object_fit": null,
            "object_position": null,
            "order": null,
            "overflow": null,
            "overflow_x": null,
            "overflow_y": null,
            "padding": null,
            "right": null,
            "top": null,
            "visibility": null,
            "width": null
          }
        },
        "8f3dc7064bea49178365dbadb4664210": {
          "model_module": "@jupyter-widgets/base",
          "model_name": "LayoutModel",
          "model_module_version": "1.2.0",
          "state": {
            "_model_module": "@jupyter-widgets/base",
            "_model_module_version": "1.2.0",
            "_model_name": "LayoutModel",
            "_view_count": null,
            "_view_module": "@jupyter-widgets/base",
            "_view_module_version": "1.2.0",
            "_view_name": "LayoutView",
            "align_content": null,
            "align_items": null,
            "align_self": null,
            "border": null,
            "bottom": null,
            "display": null,
            "flex": null,
            "flex_flow": null,
            "grid_area": null,
            "grid_auto_columns": null,
            "grid_auto_flow": null,
            "grid_auto_rows": null,
            "grid_column": null,
            "grid_gap": null,
            "grid_row": null,
            "grid_template_areas": null,
            "grid_template_columns": null,
            "grid_template_rows": null,
            "height": null,
            "justify_content": null,
            "justify_items": null,
            "left": null,
            "margin": null,
            "max_height": null,
            "max_width": null,
            "min_height": null,
            "min_width": null,
            "object_fit": null,
            "object_position": null,
            "order": null,
            "overflow": null,
            "overflow_x": null,
            "overflow_y": null,
            "padding": null,
            "right": null,
            "top": null,
            "visibility": null,
            "width": null
          }
        },
        "4cc9920266354adcb93d5bd8137c34f3": {
          "model_module": "@jupyter-widgets/controls",
          "model_name": "DescriptionStyleModel",
          "model_module_version": "1.5.0",
          "state": {
            "_model_module": "@jupyter-widgets/controls",
            "_model_module_version": "1.5.0",
            "_model_name": "DescriptionStyleModel",
            "_view_count": null,
            "_view_module": "@jupyter-widgets/base",
            "_view_module_version": "1.2.0",
            "_view_name": "StyleView",
            "description_width": ""
          }
        },
        "7501591675fb46fd94b22038a66ebf46": {
          "model_module": "@jupyter-widgets/base",
          "model_name": "LayoutModel",
          "model_module_version": "1.2.0",
          "state": {
            "_model_module": "@jupyter-widgets/base",
            "_model_module_version": "1.2.0",
            "_model_name": "LayoutModel",
            "_view_count": null,
            "_view_module": "@jupyter-widgets/base",
            "_view_module_version": "1.2.0",
            "_view_name": "LayoutView",
            "align_content": null,
            "align_items": null,
            "align_self": null,
            "border": null,
            "bottom": null,
            "display": null,
            "flex": null,
            "flex_flow": null,
            "grid_area": null,
            "grid_auto_columns": null,
            "grid_auto_flow": null,
            "grid_auto_rows": null,
            "grid_column": null,
            "grid_gap": null,
            "grid_row": null,
            "grid_template_areas": null,
            "grid_template_columns": null,
            "grid_template_rows": null,
            "height": null,
            "justify_content": null,
            "justify_items": null,
            "left": null,
            "margin": null,
            "max_height": null,
            "max_width": null,
            "min_height": null,
            "min_width": null,
            "object_fit": null,
            "object_position": null,
            "order": null,
            "overflow": null,
            "overflow_x": null,
            "overflow_y": null,
            "padding": null,
            "right": null,
            "top": null,
            "visibility": null,
            "width": null
          }
        },
        "477a92a8f0e946a0921e845643ba4e58": {
          "model_module": "@jupyter-widgets/controls",
          "model_name": "ProgressStyleModel",
          "model_module_version": "1.5.0",
          "state": {
            "_model_module": "@jupyter-widgets/controls",
            "_model_module_version": "1.5.0",
            "_model_name": "ProgressStyleModel",
            "_view_count": null,
            "_view_module": "@jupyter-widgets/base",
            "_view_module_version": "1.2.0",
            "_view_name": "StyleView",
            "bar_color": null,
            "description_width": ""
          }
        },
        "7d8f6122785b42d884df1b1da5f1db8d": {
          "model_module": "@jupyter-widgets/base",
          "model_name": "LayoutModel",
          "model_module_version": "1.2.0",
          "state": {
            "_model_module": "@jupyter-widgets/base",
            "_model_module_version": "1.2.0",
            "_model_name": "LayoutModel",
            "_view_count": null,
            "_view_module": "@jupyter-widgets/base",
            "_view_module_version": "1.2.0",
            "_view_name": "LayoutView",
            "align_content": null,
            "align_items": null,
            "align_self": null,
            "border": null,
            "bottom": null,
            "display": null,
            "flex": null,
            "flex_flow": null,
            "grid_area": null,
            "grid_auto_columns": null,
            "grid_auto_flow": null,
            "grid_auto_rows": null,
            "grid_column": null,
            "grid_gap": null,
            "grid_row": null,
            "grid_template_areas": null,
            "grid_template_columns": null,
            "grid_template_rows": null,
            "height": null,
            "justify_content": null,
            "justify_items": null,
            "left": null,
            "margin": null,
            "max_height": null,
            "max_width": null,
            "min_height": null,
            "min_width": null,
            "object_fit": null,
            "object_position": null,
            "order": null,
            "overflow": null,
            "overflow_x": null,
            "overflow_y": null,
            "padding": null,
            "right": null,
            "top": null,
            "visibility": null,
            "width": null
          }
        },
        "397b4a1569344005ad19e9329f082631": {
          "model_module": "@jupyter-widgets/controls",
          "model_name": "DescriptionStyleModel",
          "model_module_version": "1.5.0",
          "state": {
            "_model_module": "@jupyter-widgets/controls",
            "_model_module_version": "1.5.0",
            "_model_name": "DescriptionStyleModel",
            "_view_count": null,
            "_view_module": "@jupyter-widgets/base",
            "_view_module_version": "1.2.0",
            "_view_name": "StyleView",
            "description_width": ""
          }
        },
        "77f91e899f0b48919c3cf03c0aabaded": {
          "model_module": "@jupyter-widgets/controls",
          "model_name": "HBoxModel",
          "model_module_version": "1.5.0",
          "state": {
            "_dom_classes": [],
            "_model_module": "@jupyter-widgets/controls",
            "_model_module_version": "1.5.0",
            "_model_name": "HBoxModel",
            "_view_count": null,
            "_view_module": "@jupyter-widgets/controls",
            "_view_module_version": "1.5.0",
            "_view_name": "HBoxView",
            "box_style": "",
            "children": [
              "IPY_MODEL_702c0514d75b49fdac9211024d48b904",
              "IPY_MODEL_5fed296996754014a86c108f15b69300",
              "IPY_MODEL_d2168e31a266412aa3e227e58dd0bbd5"
            ],
            "layout": "IPY_MODEL_ef42465c33a14ac29bcae1659f743063"
          }
        },
        "702c0514d75b49fdac9211024d48b904": {
          "model_module": "@jupyter-widgets/controls",
          "model_name": "HTMLModel",
          "model_module_version": "1.5.0",
          "state": {
            "_dom_classes": [],
            "_model_module": "@jupyter-widgets/controls",
            "_model_module_version": "1.5.0",
            "_model_name": "HTMLModel",
            "_view_count": null,
            "_view_module": "@jupyter-widgets/controls",
            "_view_module_version": "1.5.0",
            "_view_name": "HTMLView",
            "description": "",
            "description_tooltip": null,
            "layout": "IPY_MODEL_471a0e6b9caf46799408a80cd97247ee",
            "placeholder": "​",
            "style": "IPY_MODEL_0ffee7c863a74794a7ed05467179fe11",
            "value": "vocab.txt: 100%"
          }
        },
        "5fed296996754014a86c108f15b69300": {
          "model_module": "@jupyter-widgets/controls",
          "model_name": "FloatProgressModel",
          "model_module_version": "1.5.0",
          "state": {
            "_dom_classes": [],
            "_model_module": "@jupyter-widgets/controls",
            "_model_module_version": "1.5.0",
            "_model_name": "FloatProgressModel",
            "_view_count": null,
            "_view_module": "@jupyter-widgets/controls",
            "_view_module_version": "1.5.0",
            "_view_name": "ProgressView",
            "bar_style": "success",
            "description": "",
            "description_tooltip": null,
            "layout": "IPY_MODEL_b97bd1dbc3944982988831cd5c37d524",
            "max": 213450,
            "min": 0,
            "orientation": "horizontal",
            "style": "IPY_MODEL_3ab75cd0790341aea3a4234553ef86d6",
            "value": 213450
          }
        },
        "d2168e31a266412aa3e227e58dd0bbd5": {
          "model_module": "@jupyter-widgets/controls",
          "model_name": "HTMLModel",
          "model_module_version": "1.5.0",
          "state": {
            "_dom_classes": [],
            "_model_module": "@jupyter-widgets/controls",
            "_model_module_version": "1.5.0",
            "_model_name": "HTMLModel",
            "_view_count": null,
            "_view_module": "@jupyter-widgets/controls",
            "_view_module_version": "1.5.0",
            "_view_name": "HTMLView",
            "description": "",
            "description_tooltip": null,
            "layout": "IPY_MODEL_4e4772e4aa264cfc8844454a156838bd",
            "placeholder": "​",
            "style": "IPY_MODEL_3925640ff09a4dfe9713524b52b09fed",
            "value": " 213k/213k [00:00&lt;00:00, 3.07MB/s]"
          }
        },
        "ef42465c33a14ac29bcae1659f743063": {
          "model_module": "@jupyter-widgets/base",
          "model_name": "LayoutModel",
          "model_module_version": "1.2.0",
          "state": {
            "_model_module": "@jupyter-widgets/base",
            "_model_module_version": "1.2.0",
            "_model_name": "LayoutModel",
            "_view_count": null,
            "_view_module": "@jupyter-widgets/base",
            "_view_module_version": "1.2.0",
            "_view_name": "LayoutView",
            "align_content": null,
            "align_items": null,
            "align_self": null,
            "border": null,
            "bottom": null,
            "display": null,
            "flex": null,
            "flex_flow": null,
            "grid_area": null,
            "grid_auto_columns": null,
            "grid_auto_flow": null,
            "grid_auto_rows": null,
            "grid_column": null,
            "grid_gap": null,
            "grid_row": null,
            "grid_template_areas": null,
            "grid_template_columns": null,
            "grid_template_rows": null,
            "height": null,
            "justify_content": null,
            "justify_items": null,
            "left": null,
            "margin": null,
            "max_height": null,
            "max_width": null,
            "min_height": null,
            "min_width": null,
            "object_fit": null,
            "object_position": null,
            "order": null,
            "overflow": null,
            "overflow_x": null,
            "overflow_y": null,
            "padding": null,
            "right": null,
            "top": null,
            "visibility": null,
            "width": null
          }
        },
        "471a0e6b9caf46799408a80cd97247ee": {
          "model_module": "@jupyter-widgets/base",
          "model_name": "LayoutModel",
          "model_module_version": "1.2.0",
          "state": {
            "_model_module": "@jupyter-widgets/base",
            "_model_module_version": "1.2.0",
            "_model_name": "LayoutModel",
            "_view_count": null,
            "_view_module": "@jupyter-widgets/base",
            "_view_module_version": "1.2.0",
            "_view_name": "LayoutView",
            "align_content": null,
            "align_items": null,
            "align_self": null,
            "border": null,
            "bottom": null,
            "display": null,
            "flex": null,
            "flex_flow": null,
            "grid_area": null,
            "grid_auto_columns": null,
            "grid_auto_flow": null,
            "grid_auto_rows": null,
            "grid_column": null,
            "grid_gap": null,
            "grid_row": null,
            "grid_template_areas": null,
            "grid_template_columns": null,
            "grid_template_rows": null,
            "height": null,
            "justify_content": null,
            "justify_items": null,
            "left": null,
            "margin": null,
            "max_height": null,
            "max_width": null,
            "min_height": null,
            "min_width": null,
            "object_fit": null,
            "object_position": null,
            "order": null,
            "overflow": null,
            "overflow_x": null,
            "overflow_y": null,
            "padding": null,
            "right": null,
            "top": null,
            "visibility": null,
            "width": null
          }
        },
        "0ffee7c863a74794a7ed05467179fe11": {
          "model_module": "@jupyter-widgets/controls",
          "model_name": "DescriptionStyleModel",
          "model_module_version": "1.5.0",
          "state": {
            "_model_module": "@jupyter-widgets/controls",
            "_model_module_version": "1.5.0",
            "_model_name": "DescriptionStyleModel",
            "_view_count": null,
            "_view_module": "@jupyter-widgets/base",
            "_view_module_version": "1.2.0",
            "_view_name": "StyleView",
            "description_width": ""
          }
        },
        "b97bd1dbc3944982988831cd5c37d524": {
          "model_module": "@jupyter-widgets/base",
          "model_name": "LayoutModel",
          "model_module_version": "1.2.0",
          "state": {
            "_model_module": "@jupyter-widgets/base",
            "_model_module_version": "1.2.0",
            "_model_name": "LayoutModel",
            "_view_count": null,
            "_view_module": "@jupyter-widgets/base",
            "_view_module_version": "1.2.0",
            "_view_name": "LayoutView",
            "align_content": null,
            "align_items": null,
            "align_self": null,
            "border": null,
            "bottom": null,
            "display": null,
            "flex": null,
            "flex_flow": null,
            "grid_area": null,
            "grid_auto_columns": null,
            "grid_auto_flow": null,
            "grid_auto_rows": null,
            "grid_column": null,
            "grid_gap": null,
            "grid_row": null,
            "grid_template_areas": null,
            "grid_template_columns": null,
            "grid_template_rows": null,
            "height": null,
            "justify_content": null,
            "justify_items": null,
            "left": null,
            "margin": null,
            "max_height": null,
            "max_width": null,
            "min_height": null,
            "min_width": null,
            "object_fit": null,
            "object_position": null,
            "order": null,
            "overflow": null,
            "overflow_x": null,
            "overflow_y": null,
            "padding": null,
            "right": null,
            "top": null,
            "visibility": null,
            "width": null
          }
        },
        "3ab75cd0790341aea3a4234553ef86d6": {
          "model_module": "@jupyter-widgets/controls",
          "model_name": "ProgressStyleModel",
          "model_module_version": "1.5.0",
          "state": {
            "_model_module": "@jupyter-widgets/controls",
            "_model_module_version": "1.5.0",
            "_model_name": "ProgressStyleModel",
            "_view_count": null,
            "_view_module": "@jupyter-widgets/base",
            "_view_module_version": "1.2.0",
            "_view_name": "StyleView",
            "bar_color": null,
            "description_width": ""
          }
        },
        "4e4772e4aa264cfc8844454a156838bd": {
          "model_module": "@jupyter-widgets/base",
          "model_name": "LayoutModel",
          "model_module_version": "1.2.0",
          "state": {
            "_model_module": "@jupyter-widgets/base",
            "_model_module_version": "1.2.0",
            "_model_name": "LayoutModel",
            "_view_count": null,
            "_view_module": "@jupyter-widgets/base",
            "_view_module_version": "1.2.0",
            "_view_name": "LayoutView",
            "align_content": null,
            "align_items": null,
            "align_self": null,
            "border": null,
            "bottom": null,
            "display": null,
            "flex": null,
            "flex_flow": null,
            "grid_area": null,
            "grid_auto_columns": null,
            "grid_auto_flow": null,
            "grid_auto_rows": null,
            "grid_column": null,
            "grid_gap": null,
            "grid_row": null,
            "grid_template_areas": null,
            "grid_template_columns": null,
            "grid_template_rows": null,
            "height": null,
            "justify_content": null,
            "justify_items": null,
            "left": null,
            "margin": null,
            "max_height": null,
            "max_width": null,
            "min_height": null,
            "min_width": null,
            "object_fit": null,
            "object_position": null,
            "order": null,
            "overflow": null,
            "overflow_x": null,
            "overflow_y": null,
            "padding": null,
            "right": null,
            "top": null,
            "visibility": null,
            "width": null
          }
        },
        "3925640ff09a4dfe9713524b52b09fed": {
          "model_module": "@jupyter-widgets/controls",
          "model_name": "DescriptionStyleModel",
          "model_module_version": "1.5.0",
          "state": {
            "_model_module": "@jupyter-widgets/controls",
            "_model_module_version": "1.5.0",
            "_model_name": "DescriptionStyleModel",
            "_view_count": null,
            "_view_module": "@jupyter-widgets/base",
            "_view_module_version": "1.2.0",
            "_view_name": "StyleView",
            "description_width": ""
          }
        },
        "eb169a8d5a5440c1b677777602401845": {
          "model_module": "@jupyter-widgets/controls",
          "model_name": "HBoxModel",
          "model_module_version": "1.5.0",
          "state": {
            "_dom_classes": [],
            "_model_module": "@jupyter-widgets/controls",
            "_model_module_version": "1.5.0",
            "_model_name": "HBoxModel",
            "_view_count": null,
            "_view_module": "@jupyter-widgets/controls",
            "_view_module_version": "1.5.0",
            "_view_name": "HBoxView",
            "box_style": "",
            "children": [
              "IPY_MODEL_7ef60c7ef6b0449a89ee9668f40f12d0",
              "IPY_MODEL_69205fc104554509a2d4d442e79ba52a",
              "IPY_MODEL_2d80785422db4d48b092fd042a1c9885"
            ],
            "layout": "IPY_MODEL_739b17a822ab4359818b20553ad6dc77"
          }
        },
        "7ef60c7ef6b0449a89ee9668f40f12d0": {
          "model_module": "@jupyter-widgets/controls",
          "model_name": "HTMLModel",
          "model_module_version": "1.5.0",
          "state": {
            "_dom_classes": [],
            "_model_module": "@jupyter-widgets/controls",
            "_model_module_version": "1.5.0",
            "_model_name": "HTMLModel",
            "_view_count": null,
            "_view_module": "@jupyter-widgets/controls",
            "_view_module_version": "1.5.0",
            "_view_name": "HTMLView",
            "description": "",
            "description_tooltip": null,
            "layout": "IPY_MODEL_2a7ec01e71364f7ab1b1a8e22c78de94",
            "placeholder": "​",
            "style": "IPY_MODEL_fd698a6ed57f4fc18a93e65b64fdf0cb",
            "value": "tokenizer.json: 100%"
          }
        },
        "69205fc104554509a2d4d442e79ba52a": {
          "model_module": "@jupyter-widgets/controls",
          "model_name": "FloatProgressModel",
          "model_module_version": "1.5.0",
          "state": {
            "_dom_classes": [],
            "_model_module": "@jupyter-widgets/controls",
            "_model_module_version": "1.5.0",
            "_model_name": "FloatProgressModel",
            "_view_count": null,
            "_view_module": "@jupyter-widgets/controls",
            "_view_module_version": "1.5.0",
            "_view_name": "ProgressView",
            "bar_style": "success",
            "description": "",
            "description_tooltip": null,
            "layout": "IPY_MODEL_d7c5e072e42f407d9bb885ee13bf8ce9",
            "max": 435797,
            "min": 0,
            "orientation": "horizontal",
            "style": "IPY_MODEL_c445546ed59a40feafc220eefcbe3b6a",
            "value": 435797
          }
        },
        "2d80785422db4d48b092fd042a1c9885": {
          "model_module": "@jupyter-widgets/controls",
          "model_name": "HTMLModel",
          "model_module_version": "1.5.0",
          "state": {
            "_dom_classes": [],
            "_model_module": "@jupyter-widgets/controls",
            "_model_module_version": "1.5.0",
            "_model_name": "HTMLModel",
            "_view_count": null,
            "_view_module": "@jupyter-widgets/controls",
            "_view_module_version": "1.5.0",
            "_view_name": "HTMLView",
            "description": "",
            "description_tooltip": null,
            "layout": "IPY_MODEL_27a38776ef654659b68440d20ffeb327",
            "placeholder": "​",
            "style": "IPY_MODEL_faf9dd04118a4af8aa2a3babd4e3eb46",
            "value": " 436k/436k [00:00&lt;00:00, 18.0MB/s]"
          }
        },
        "739b17a822ab4359818b20553ad6dc77": {
          "model_module": "@jupyter-widgets/base",
          "model_name": "LayoutModel",
          "model_module_version": "1.2.0",
          "state": {
            "_model_module": "@jupyter-widgets/base",
            "_model_module_version": "1.2.0",
            "_model_name": "LayoutModel",
            "_view_count": null,
            "_view_module": "@jupyter-widgets/base",
            "_view_module_version": "1.2.0",
            "_view_name": "LayoutView",
            "align_content": null,
            "align_items": null,
            "align_self": null,
            "border": null,
            "bottom": null,
            "display": null,
            "flex": null,
            "flex_flow": null,
            "grid_area": null,
            "grid_auto_columns": null,
            "grid_auto_flow": null,
            "grid_auto_rows": null,
            "grid_column": null,
            "grid_gap": null,
            "grid_row": null,
            "grid_template_areas": null,
            "grid_template_columns": null,
            "grid_template_rows": null,
            "height": null,
            "justify_content": null,
            "justify_items": null,
            "left": null,
            "margin": null,
            "max_height": null,
            "max_width": null,
            "min_height": null,
            "min_width": null,
            "object_fit": null,
            "object_position": null,
            "order": null,
            "overflow": null,
            "overflow_x": null,
            "overflow_y": null,
            "padding": null,
            "right": null,
            "top": null,
            "visibility": null,
            "width": null
          }
        },
        "2a7ec01e71364f7ab1b1a8e22c78de94": {
          "model_module": "@jupyter-widgets/base",
          "model_name": "LayoutModel",
          "model_module_version": "1.2.0",
          "state": {
            "_model_module": "@jupyter-widgets/base",
            "_model_module_version": "1.2.0",
            "_model_name": "LayoutModel",
            "_view_count": null,
            "_view_module": "@jupyter-widgets/base",
            "_view_module_version": "1.2.0",
            "_view_name": "LayoutView",
            "align_content": null,
            "align_items": null,
            "align_self": null,
            "border": null,
            "bottom": null,
            "display": null,
            "flex": null,
            "flex_flow": null,
            "grid_area": null,
            "grid_auto_columns": null,
            "grid_auto_flow": null,
            "grid_auto_rows": null,
            "grid_column": null,
            "grid_gap": null,
            "grid_row": null,
            "grid_template_areas": null,
            "grid_template_columns": null,
            "grid_template_rows": null,
            "height": null,
            "justify_content": null,
            "justify_items": null,
            "left": null,
            "margin": null,
            "max_height": null,
            "max_width": null,
            "min_height": null,
            "min_width": null,
            "object_fit": null,
            "object_position": null,
            "order": null,
            "overflow": null,
            "overflow_x": null,
            "overflow_y": null,
            "padding": null,
            "right": null,
            "top": null,
            "visibility": null,
            "width": null
          }
        },
        "fd698a6ed57f4fc18a93e65b64fdf0cb": {
          "model_module": "@jupyter-widgets/controls",
          "model_name": "DescriptionStyleModel",
          "model_module_version": "1.5.0",
          "state": {
            "_model_module": "@jupyter-widgets/controls",
            "_model_module_version": "1.5.0",
            "_model_name": "DescriptionStyleModel",
            "_view_count": null,
            "_view_module": "@jupyter-widgets/base",
            "_view_module_version": "1.2.0",
            "_view_name": "StyleView",
            "description_width": ""
          }
        },
        "d7c5e072e42f407d9bb885ee13bf8ce9": {
          "model_module": "@jupyter-widgets/base",
          "model_name": "LayoutModel",
          "model_module_version": "1.2.0",
          "state": {
            "_model_module": "@jupyter-widgets/base",
            "_model_module_version": "1.2.0",
            "_model_name": "LayoutModel",
            "_view_count": null,
            "_view_module": "@jupyter-widgets/base",
            "_view_module_version": "1.2.0",
            "_view_name": "LayoutView",
            "align_content": null,
            "align_items": null,
            "align_self": null,
            "border": null,
            "bottom": null,
            "display": null,
            "flex": null,
            "flex_flow": null,
            "grid_area": null,
            "grid_auto_columns": null,
            "grid_auto_flow": null,
            "grid_auto_rows": null,
            "grid_column": null,
            "grid_gap": null,
            "grid_row": null,
            "grid_template_areas": null,
            "grid_template_columns": null,
            "grid_template_rows": null,
            "height": null,
            "justify_content": null,
            "justify_items": null,
            "left": null,
            "margin": null,
            "max_height": null,
            "max_width": null,
            "min_height": null,
            "min_width": null,
            "object_fit": null,
            "object_position": null,
            "order": null,
            "overflow": null,
            "overflow_x": null,
            "overflow_y": null,
            "padding": null,
            "right": null,
            "top": null,
            "visibility": null,
            "width": null
          }
        },
        "c445546ed59a40feafc220eefcbe3b6a": {
          "model_module": "@jupyter-widgets/controls",
          "model_name": "ProgressStyleModel",
          "model_module_version": "1.5.0",
          "state": {
            "_model_module": "@jupyter-widgets/controls",
            "_model_module_version": "1.5.0",
            "_model_name": "ProgressStyleModel",
            "_view_count": null,
            "_view_module": "@jupyter-widgets/base",
            "_view_module_version": "1.2.0",
            "_view_name": "StyleView",
            "bar_color": null,
            "description_width": ""
          }
        },
        "27a38776ef654659b68440d20ffeb327": {
          "model_module": "@jupyter-widgets/base",
          "model_name": "LayoutModel",
          "model_module_version": "1.2.0",
          "state": {
            "_model_module": "@jupyter-widgets/base",
            "_model_module_version": "1.2.0",
            "_model_name": "LayoutModel",
            "_view_count": null,
            "_view_module": "@jupyter-widgets/base",
            "_view_module_version": "1.2.0",
            "_view_name": "LayoutView",
            "align_content": null,
            "align_items": null,
            "align_self": null,
            "border": null,
            "bottom": null,
            "display": null,
            "flex": null,
            "flex_flow": null,
            "grid_area": null,
            "grid_auto_columns": null,
            "grid_auto_flow": null,
            "grid_auto_rows": null,
            "grid_column": null,
            "grid_gap": null,
            "grid_row": null,
            "grid_template_areas": null,
            "grid_template_columns": null,
            "grid_template_rows": null,
            "height": null,
            "justify_content": null,
            "justify_items": null,
            "left": null,
            "margin": null,
            "max_height": null,
            "max_width": null,
            "min_height": null,
            "min_width": null,
            "object_fit": null,
            "object_position": null,
            "order": null,
            "overflow": null,
            "overflow_x": null,
            "overflow_y": null,
            "padding": null,
            "right": null,
            "top": null,
            "visibility": null,
            "width": null
          }
        },
        "faf9dd04118a4af8aa2a3babd4e3eb46": {
          "model_module": "@jupyter-widgets/controls",
          "model_name": "DescriptionStyleModel",
          "model_module_version": "1.5.0",
          "state": {
            "_model_module": "@jupyter-widgets/controls",
            "_model_module_version": "1.5.0",
            "_model_name": "DescriptionStyleModel",
            "_view_count": null,
            "_view_module": "@jupyter-widgets/base",
            "_view_module_version": "1.2.0",
            "_view_name": "StyleView",
            "description_width": ""
          }
        },
        "612a657fb51b477292db062ef3b2e936": {
          "model_module": "@jupyter-widgets/controls",
          "model_name": "HBoxModel",
          "model_module_version": "1.5.0",
          "state": {
            "_dom_classes": [],
            "_model_module": "@jupyter-widgets/controls",
            "_model_module_version": "1.5.0",
            "_model_name": "HBoxModel",
            "_view_count": null,
            "_view_module": "@jupyter-widgets/controls",
            "_view_module_version": "1.5.0",
            "_view_name": "HBoxView",
            "box_style": "",
            "children": [
              "IPY_MODEL_75ebff71d27a4d908baa59d672a53439",
              "IPY_MODEL_496483cee11742838474760d54a296bf",
              "IPY_MODEL_902a226759974ee6b6343b5f43e02833"
            ],
            "layout": "IPY_MODEL_79374d7c82924497960cf6a428670aab"
          }
        },
        "75ebff71d27a4d908baa59d672a53439": {
          "model_module": "@jupyter-widgets/controls",
          "model_name": "HTMLModel",
          "model_module_version": "1.5.0",
          "state": {
            "_dom_classes": [],
            "_model_module": "@jupyter-widgets/controls",
            "_model_module_version": "1.5.0",
            "_model_name": "HTMLModel",
            "_view_count": null,
            "_view_module": "@jupyter-widgets/controls",
            "_view_module_version": "1.5.0",
            "_view_name": "HTMLView",
            "description": "",
            "description_tooltip": null,
            "layout": "IPY_MODEL_f7c66fb09e80473797380ea19f7bbefd",
            "placeholder": "​",
            "style": "IPY_MODEL_d6cbc90c74954fbda98ea05cae10eadb",
            "value": "config.json: 100%"
          }
        },
        "496483cee11742838474760d54a296bf": {
          "model_module": "@jupyter-widgets/controls",
          "model_name": "FloatProgressModel",
          "model_module_version": "1.5.0",
          "state": {
            "_dom_classes": [],
            "_model_module": "@jupyter-widgets/controls",
            "_model_module_version": "1.5.0",
            "_model_name": "FloatProgressModel",
            "_view_count": null,
            "_view_module": "@jupyter-widgets/controls",
            "_view_module_version": "1.5.0",
            "_view_name": "ProgressView",
            "bar_style": "success",
            "description": "",
            "description_tooltip": null,
            "layout": "IPY_MODEL_bd0737e101ed40c08c8a776945e7058e",
            "max": 465,
            "min": 0,
            "orientation": "horizontal",
            "style": "IPY_MODEL_5f8f6b1f6e894f02a9d7fc04e13a5049",
            "value": 465
          }
        },
        "902a226759974ee6b6343b5f43e02833": {
          "model_module": "@jupyter-widgets/controls",
          "model_name": "HTMLModel",
          "model_module_version": "1.5.0",
          "state": {
            "_dom_classes": [],
            "_model_module": "@jupyter-widgets/controls",
            "_model_module_version": "1.5.0",
            "_model_name": "HTMLModel",
            "_view_count": null,
            "_view_module": "@jupyter-widgets/controls",
            "_view_module_version": "1.5.0",
            "_view_name": "HTMLView",
            "description": "",
            "description_tooltip": null,
            "layout": "IPY_MODEL_43a97ed85cc7406c911347f8bee89ee4",
            "placeholder": "​",
            "style": "IPY_MODEL_4673d8ea25754d0fa07779ba95dcfb8a",
            "value": " 465/465 [00:00&lt;00:00, 33.3kB/s]"
          }
        },
        "79374d7c82924497960cf6a428670aab": {
          "model_module": "@jupyter-widgets/base",
          "model_name": "LayoutModel",
          "model_module_version": "1.2.0",
          "state": {
            "_model_module": "@jupyter-widgets/base",
            "_model_module_version": "1.2.0",
            "_model_name": "LayoutModel",
            "_view_count": null,
            "_view_module": "@jupyter-widgets/base",
            "_view_module_version": "1.2.0",
            "_view_name": "LayoutView",
            "align_content": null,
            "align_items": null,
            "align_self": null,
            "border": null,
            "bottom": null,
            "display": null,
            "flex": null,
            "flex_flow": null,
            "grid_area": null,
            "grid_auto_columns": null,
            "grid_auto_flow": null,
            "grid_auto_rows": null,
            "grid_column": null,
            "grid_gap": null,
            "grid_row": null,
            "grid_template_areas": null,
            "grid_template_columns": null,
            "grid_template_rows": null,
            "height": null,
            "justify_content": null,
            "justify_items": null,
            "left": null,
            "margin": null,
            "max_height": null,
            "max_width": null,
            "min_height": null,
            "min_width": null,
            "object_fit": null,
            "object_position": null,
            "order": null,
            "overflow": null,
            "overflow_x": null,
            "overflow_y": null,
            "padding": null,
            "right": null,
            "top": null,
            "visibility": null,
            "width": null
          }
        },
        "f7c66fb09e80473797380ea19f7bbefd": {
          "model_module": "@jupyter-widgets/base",
          "model_name": "LayoutModel",
          "model_module_version": "1.2.0",
          "state": {
            "_model_module": "@jupyter-widgets/base",
            "_model_module_version": "1.2.0",
            "_model_name": "LayoutModel",
            "_view_count": null,
            "_view_module": "@jupyter-widgets/base",
            "_view_module_version": "1.2.0",
            "_view_name": "LayoutView",
            "align_content": null,
            "align_items": null,
            "align_self": null,
            "border": null,
            "bottom": null,
            "display": null,
            "flex": null,
            "flex_flow": null,
            "grid_area": null,
            "grid_auto_columns": null,
            "grid_auto_flow": null,
            "grid_auto_rows": null,
            "grid_column": null,
            "grid_gap": null,
            "grid_row": null,
            "grid_template_areas": null,
            "grid_template_columns": null,
            "grid_template_rows": null,
            "height": null,
            "justify_content": null,
            "justify_items": null,
            "left": null,
            "margin": null,
            "max_height": null,
            "max_width": null,
            "min_height": null,
            "min_width": null,
            "object_fit": null,
            "object_position": null,
            "order": null,
            "overflow": null,
            "overflow_x": null,
            "overflow_y": null,
            "padding": null,
            "right": null,
            "top": null,
            "visibility": null,
            "width": null
          }
        },
        "d6cbc90c74954fbda98ea05cae10eadb": {
          "model_module": "@jupyter-widgets/controls",
          "model_name": "DescriptionStyleModel",
          "model_module_version": "1.5.0",
          "state": {
            "_model_module": "@jupyter-widgets/controls",
            "_model_module_version": "1.5.0",
            "_model_name": "DescriptionStyleModel",
            "_view_count": null,
            "_view_module": "@jupyter-widgets/base",
            "_view_module_version": "1.2.0",
            "_view_name": "StyleView",
            "description_width": ""
          }
        },
        "bd0737e101ed40c08c8a776945e7058e": {
          "model_module": "@jupyter-widgets/base",
          "model_name": "LayoutModel",
          "model_module_version": "1.2.0",
          "state": {
            "_model_module": "@jupyter-widgets/base",
            "_model_module_version": "1.2.0",
            "_model_name": "LayoutModel",
            "_view_count": null,
            "_view_module": "@jupyter-widgets/base",
            "_view_module_version": "1.2.0",
            "_view_name": "LayoutView",
            "align_content": null,
            "align_items": null,
            "align_self": null,
            "border": null,
            "bottom": null,
            "display": null,
            "flex": null,
            "flex_flow": null,
            "grid_area": null,
            "grid_auto_columns": null,
            "grid_auto_flow": null,
            "grid_auto_rows": null,
            "grid_column": null,
            "grid_gap": null,
            "grid_row": null,
            "grid_template_areas": null,
            "grid_template_columns": null,
            "grid_template_rows": null,
            "height": null,
            "justify_content": null,
            "justify_items": null,
            "left": null,
            "margin": null,
            "max_height": null,
            "max_width": null,
            "min_height": null,
            "min_width": null,
            "object_fit": null,
            "object_position": null,
            "order": null,
            "overflow": null,
            "overflow_x": null,
            "overflow_y": null,
            "padding": null,
            "right": null,
            "top": null,
            "visibility": null,
            "width": null
          }
        },
        "5f8f6b1f6e894f02a9d7fc04e13a5049": {
          "model_module": "@jupyter-widgets/controls",
          "model_name": "ProgressStyleModel",
          "model_module_version": "1.5.0",
          "state": {
            "_model_module": "@jupyter-widgets/controls",
            "_model_module_version": "1.5.0",
            "_model_name": "ProgressStyleModel",
            "_view_count": null,
            "_view_module": "@jupyter-widgets/base",
            "_view_module_version": "1.2.0",
            "_view_name": "StyleView",
            "bar_color": null,
            "description_width": ""
          }
        },
        "43a97ed85cc7406c911347f8bee89ee4": {
          "model_module": "@jupyter-widgets/base",
          "model_name": "LayoutModel",
          "model_module_version": "1.2.0",
          "state": {
            "_model_module": "@jupyter-widgets/base",
            "_model_module_version": "1.2.0",
            "_model_name": "LayoutModel",
            "_view_count": null,
            "_view_module": "@jupyter-widgets/base",
            "_view_module_version": "1.2.0",
            "_view_name": "LayoutView",
            "align_content": null,
            "align_items": null,
            "align_self": null,
            "border": null,
            "bottom": null,
            "display": null,
            "flex": null,
            "flex_flow": null,
            "grid_area": null,
            "grid_auto_columns": null,
            "grid_auto_flow": null,
            "grid_auto_rows": null,
            "grid_column": null,
            "grid_gap": null,
            "grid_row": null,
            "grid_template_areas": null,
            "grid_template_columns": null,
            "grid_template_rows": null,
            "height": null,
            "justify_content": null,
            "justify_items": null,
            "left": null,
            "margin": null,
            "max_height": null,
            "max_width": null,
            "min_height": null,
            "min_width": null,
            "object_fit": null,
            "object_position": null,
            "order": null,
            "overflow": null,
            "overflow_x": null,
            "overflow_y": null,
            "padding": null,
            "right": null,
            "top": null,
            "visibility": null,
            "width": null
          }
        },
        "4673d8ea25754d0fa07779ba95dcfb8a": {
          "model_module": "@jupyter-widgets/controls",
          "model_name": "DescriptionStyleModel",
          "model_module_version": "1.5.0",
          "state": {
            "_model_module": "@jupyter-widgets/controls",
            "_model_module_version": "1.5.0",
            "_model_name": "DescriptionStyleModel",
            "_view_count": null,
            "_view_module": "@jupyter-widgets/base",
            "_view_module_version": "1.2.0",
            "_view_name": "StyleView",
            "description_width": ""
          }
        }
      }
    },
    "accelerator": "GPU"
  },
  "cells": [
    {
      "cell_type": "markdown",
      "metadata": {
        "id": "view-in-github",
        "colab_type": "text"
      },
      "source": [
        "<a href=\"https://colab.research.google.com/github/soutrik71/MInMaxBERT/blob/main/DistilBertClassification.ipynb\" target=\"_parent\"><img src=\"https://colab.research.google.com/assets/colab-badge.svg\" alt=\"Open In Colab\"/></a>"
      ]
    },
    {
      "cell_type": "markdown",
      "source": [
        "In this notebook we will experiment with distil-bert for classification problems and see how it performs.\n",
        "We will majorily experimenting with ideas from:\n",
        "\n",
        "https://github.com/Yorko/bert-finetuning-catalyst\n",
        "https://www.kaggle.com/code/kashnitsky/distillbert-catalyst-amazon-product-reviews\n",
        "https://huggingface.co/docs/transformers/model_doc/distilbert#distilbert\n",
        "https://huggingface.co/blog/sentiment-analysis-python\n",
        "https://medium.com/huggingface/distilbert-8cf3380435b5\n",
        "https://colab.research.google.com/github/huggingface/notebooks/blob/main/examples/text_classification.ipynb\n",
        "https://colab.research.google.com/github/huggingface/notebooks/blob/main/examples/token_classification.ipynb\n",
        "https://colab.research.google.com/github/DhavalTaunk08/Transformers_scripts/blob/master/Transformers_multilabel_distilbert.ipynb#scrollTo=I4R39UTxNKTk\n",
        "https://colab.research.google.com/github/abhimishra91/transformers-tutorials/blob/master/transformers_multiclass_classification.ipynb#scrollTo=8KIK6iRYOWr5"
      ],
      "metadata": {
        "id": "vcNwuYuHv-Qb"
      }
    },
    {
      "cell_type": "code",
      "source": [
        "!pip install transformers"
      ],
      "metadata": {
        "colab": {
          "base_uri": "https://localhost:8080/"
        },
        "id": "rzw9lTBhxlAm",
        "outputId": "121d3ad4-be87-444e-9e81-5dc9f50c9c56"
      },
      "execution_count": 1,
      "outputs": [
        {
          "output_type": "stream",
          "name": "stdout",
          "text": [
            "Requirement already satisfied: transformers in /usr/local/lib/python3.10/dist-packages (4.38.2)\n",
            "Requirement already satisfied: filelock in /usr/local/lib/python3.10/dist-packages (from transformers) (3.13.1)\n",
            "Requirement already satisfied: huggingface-hub<1.0,>=0.19.3 in /usr/local/lib/python3.10/dist-packages (from transformers) (0.20.3)\n",
            "Requirement already satisfied: numpy>=1.17 in /usr/local/lib/python3.10/dist-packages (from transformers) (1.25.2)\n",
            "Requirement already satisfied: packaging>=20.0 in /usr/local/lib/python3.10/dist-packages (from transformers) (24.0)\n",
            "Requirement already satisfied: pyyaml>=5.1 in /usr/local/lib/python3.10/dist-packages (from transformers) (6.0.1)\n",
            "Requirement already satisfied: regex!=2019.12.17 in /usr/local/lib/python3.10/dist-packages (from transformers) (2023.12.25)\n",
            "Requirement already satisfied: requests in /usr/local/lib/python3.10/dist-packages (from transformers) (2.31.0)\n",
            "Requirement already satisfied: tokenizers<0.19,>=0.14 in /usr/local/lib/python3.10/dist-packages (from transformers) (0.15.2)\n",
            "Requirement already satisfied: safetensors>=0.4.1 in /usr/local/lib/python3.10/dist-packages (from transformers) (0.4.2)\n",
            "Requirement already satisfied: tqdm>=4.27 in /usr/local/lib/python3.10/dist-packages (from transformers) (4.66.2)\n",
            "Requirement already satisfied: fsspec>=2023.5.0 in /usr/local/lib/python3.10/dist-packages (from huggingface-hub<1.0,>=0.19.3->transformers) (2023.6.0)\n",
            "Requirement already satisfied: typing-extensions>=3.7.4.3 in /usr/local/lib/python3.10/dist-packages (from huggingface-hub<1.0,>=0.19.3->transformers) (4.10.0)\n",
            "Requirement already satisfied: charset-normalizer<4,>=2 in /usr/local/lib/python3.10/dist-packages (from requests->transformers) (3.3.2)\n",
            "Requirement already satisfied: idna<4,>=2.5 in /usr/local/lib/python3.10/dist-packages (from requests->transformers) (3.6)\n",
            "Requirement already satisfied: urllib3<3,>=1.21.1 in /usr/local/lib/python3.10/dist-packages (from requests->transformers) (2.0.7)\n",
            "Requirement already satisfied: certifi>=2017.4.17 in /usr/local/lib/python3.10/dist-packages (from requests->transformers) (2024.2.2)\n"
          ]
        }
      ]
    },
    {
      "cell_type": "code",
      "execution_count": 2,
      "metadata": {
        "id": "pajLRSJ1tdn8"
      },
      "outputs": [],
      "source": [
        "# Importing stock ml libraries\n",
        "import warnings\n",
        "warnings.simplefilter('ignore')\n",
        "import numpy as np\n",
        "import pandas as pd\n",
        "from tqdm import tqdm\n",
        "from sklearn import metrics\n",
        "import transformers\n",
        "import torch\n",
        "from torch.utils.data import Dataset, DataLoader, RandomSampler, SequentialSampler\n",
        "from transformers import DistilBertTokenizer, DistilBertModel\n",
        "from sklearn.model_selection import train_test_split\n",
        "import logging\n",
        "import os\n",
        "import random\n",
        "from typing import List, Mapping, Dict\n",
        "from transformers import AutoConfig, AutoModel\n",
        "import torch.nn as nn\n",
        "logging.basicConfig(level=logging.DEBUG)"
      ]
    },
    {
      "cell_type": "code",
      "source": [
        "def set_seed(seed: int = 42) -> None:\n",
        "    np.random.seed(seed)\n",
        "    random.seed(seed)\n",
        "    torch.manual_seed(seed)\n",
        "    torch.cuda.manual_seed(seed)\n",
        "    # When running on the CuDNN backend, two further options must be set\n",
        "    torch.backends.cudnn.deterministic = True\n",
        "    torch.backends.cudnn.benchmark = False\n",
        "    # Set a fixed value for the hash seed\n",
        "    os.environ[\"PYTHONHASHSEED\"] = str(seed)\n",
        "    print(f\"Random seed set as {seed}\")"
      ],
      "metadata": {
        "id": "fXLkBsb3yJ-K"
      },
      "execution_count": 3,
      "outputs": []
    },
    {
      "cell_type": "code",
      "source": [
        "# Set manual seed since nn.Parameter are randomly initialzied\n",
        "set_seed(42)\n",
        "# Set device cuda for GPU if it's available otherwise run on the CPU\n",
        "device = torch.device(\"cuda\" if torch.cuda.is_available() else \"cpu\")\n",
        "print(device)\n",
        "MAX_LEN = 512\n",
        "BATCH_SIZE = 10\n",
        "EPOCHS = 10\n",
        "LEARNING_RATE = 1e-05"
      ],
      "metadata": {
        "colab": {
          "base_uri": "https://localhost:8080/"
        },
        "id": "fl7OVpbqyOcH",
        "outputId": "4fb55992-ed14-47e3-c1ed-737aa4958b66"
      },
      "execution_count": 4,
      "outputs": [
        {
          "output_type": "stream",
          "name": "stdout",
          "text": [
            "Random seed set as 42\n",
            "cuda\n"
          ]
        }
      ]
    },
    {
      "cell_type": "code",
      "source": [
        "tokenizer = DistilBertTokenizer.from_pretrained('distilbert-base-cased')"
      ],
      "metadata": {
        "colab": {
          "base_uri": "https://localhost:8080/",
          "height": 145,
          "referenced_widgets": [
            "765bade31dd84ebe8bb14829c367662d",
            "586debe4f4bb4cc89fc2a2766ed60e5b",
            "9b8a20abba1d495983e2703cdd7057bc",
            "65c0001515fa4b668e5f8a8c4f32ca1e",
            "e66dc5ff9a9f4dd7aa60c055a3afdb27",
            "8f3dc7064bea49178365dbadb4664210",
            "4cc9920266354adcb93d5bd8137c34f3",
            "7501591675fb46fd94b22038a66ebf46",
            "477a92a8f0e946a0921e845643ba4e58",
            "7d8f6122785b42d884df1b1da5f1db8d",
            "397b4a1569344005ad19e9329f082631",
            "77f91e899f0b48919c3cf03c0aabaded",
            "702c0514d75b49fdac9211024d48b904",
            "5fed296996754014a86c108f15b69300",
            "d2168e31a266412aa3e227e58dd0bbd5",
            "ef42465c33a14ac29bcae1659f743063",
            "471a0e6b9caf46799408a80cd97247ee",
            "0ffee7c863a74794a7ed05467179fe11",
            "b97bd1dbc3944982988831cd5c37d524",
            "3ab75cd0790341aea3a4234553ef86d6",
            "4e4772e4aa264cfc8844454a156838bd",
            "3925640ff09a4dfe9713524b52b09fed",
            "eb169a8d5a5440c1b677777602401845",
            "7ef60c7ef6b0449a89ee9668f40f12d0",
            "69205fc104554509a2d4d442e79ba52a",
            "2d80785422db4d48b092fd042a1c9885",
            "739b17a822ab4359818b20553ad6dc77",
            "2a7ec01e71364f7ab1b1a8e22c78de94",
            "fd698a6ed57f4fc18a93e65b64fdf0cb",
            "d7c5e072e42f407d9bb885ee13bf8ce9",
            "c445546ed59a40feafc220eefcbe3b6a",
            "27a38776ef654659b68440d20ffeb327",
            "faf9dd04118a4af8aa2a3babd4e3eb46",
            "612a657fb51b477292db062ef3b2e936",
            "75ebff71d27a4d908baa59d672a53439",
            "496483cee11742838474760d54a296bf",
            "902a226759974ee6b6343b5f43e02833",
            "79374d7c82924497960cf6a428670aab",
            "f7c66fb09e80473797380ea19f7bbefd",
            "d6cbc90c74954fbda98ea05cae10eadb",
            "bd0737e101ed40c08c8a776945e7058e",
            "5f8f6b1f6e894f02a9d7fc04e13a5049",
            "43a97ed85cc7406c911347f8bee89ee4",
            "4673d8ea25754d0fa07779ba95dcfb8a"
          ]
        },
        "id": "nSU1Jdna6N6S",
        "outputId": "a24fb565-6410-4939-ea6d-bfd99bb79eb5"
      },
      "execution_count": 5,
      "outputs": [
        {
          "output_type": "display_data",
          "data": {
            "text/plain": [
              "tokenizer_config.json:   0%|          | 0.00/29.0 [00:00<?, ?B/s]"
            ],
            "application/vnd.jupyter.widget-view+json": {
              "version_major": 2,
              "version_minor": 0,
              "model_id": "765bade31dd84ebe8bb14829c367662d"
            }
          },
          "metadata": {}
        },
        {
          "output_type": "display_data",
          "data": {
            "text/plain": [
              "vocab.txt:   0%|          | 0.00/213k [00:00<?, ?B/s]"
            ],
            "application/vnd.jupyter.widget-view+json": {
              "version_major": 2,
              "version_minor": 0,
              "model_id": "77f91e899f0b48919c3cf03c0aabaded"
            }
          },
          "metadata": {}
        },
        {
          "output_type": "display_data",
          "data": {
            "text/plain": [
              "tokenizer.json:   0%|          | 0.00/436k [00:00<?, ?B/s]"
            ],
            "application/vnd.jupyter.widget-view+json": {
              "version_major": 2,
              "version_minor": 0,
              "model_id": "eb169a8d5a5440c1b677777602401845"
            }
          },
          "metadata": {}
        },
        {
          "output_type": "display_data",
          "data": {
            "text/plain": [
              "config.json:   0%|          | 0.00/465 [00:00<?, ?B/s]"
            ],
            "application/vnd.jupyter.widget-view+json": {
              "version_major": 2,
              "version_minor": 0,
              "model_id": "612a657fb51b477292db062ef3b2e936"
            }
          },
          "metadata": {}
        }
      ]
    },
    {
      "cell_type": "code",
      "source": [
        "from transformers import AutoTokenizer\n",
        "tokenizer_cp = AutoTokenizer.from_pretrained(\"distilbert-base-cased\")"
      ],
      "metadata": {
        "id": "SJTISdkq1l0Y"
      },
      "execution_count": 6,
      "outputs": []
    },
    {
      "cell_type": "code",
      "source": [
        "tokenizer"
      ],
      "metadata": {
        "colab": {
          "base_uri": "https://localhost:8080/"
        },
        "id": "IWa24ReA1z_8",
        "outputId": "efaa45e4-f84a-43bd-e4f5-7c0af1d6f3d6"
      },
      "execution_count": 7,
      "outputs": [
        {
          "output_type": "execute_result",
          "data": {
            "text/plain": [
              "DistilBertTokenizer(name_or_path='distilbert-base-cased', vocab_size=28996, model_max_length=512, is_fast=False, padding_side='right', truncation_side='right', special_tokens={'unk_token': '[UNK]', 'sep_token': '[SEP]', 'pad_token': '[PAD]', 'cls_token': '[CLS]', 'mask_token': '[MASK]'}, clean_up_tokenization_spaces=True),  added_tokens_decoder={\n",
              "\t0: AddedToken(\"[PAD]\", rstrip=False, lstrip=False, single_word=False, normalized=False, special=True),\n",
              "\t100: AddedToken(\"[UNK]\", rstrip=False, lstrip=False, single_word=False, normalized=False, special=True),\n",
              "\t101: AddedToken(\"[CLS]\", rstrip=False, lstrip=False, single_word=False, normalized=False, special=True),\n",
              "\t102: AddedToken(\"[SEP]\", rstrip=False, lstrip=False, single_word=False, normalized=False, special=True),\n",
              "\t103: AddedToken(\"[MASK]\", rstrip=False, lstrip=False, single_word=False, normalized=False, special=True),\n",
              "}"
            ]
          },
          "metadata": {},
          "execution_count": 7
        }
      ]
    },
    {
      "cell_type": "code",
      "source": [
        "tokenizer_cp"
      ],
      "metadata": {
        "colab": {
          "base_uri": "https://localhost:8080/"
        },
        "id": "ebWwrlSX12vR",
        "outputId": "f391d8d8-6abf-40d8-d568-c282d99ea0d6"
      },
      "execution_count": 8,
      "outputs": [
        {
          "output_type": "execute_result",
          "data": {
            "text/plain": [
              "DistilBertTokenizerFast(name_or_path='distilbert-base-cased', vocab_size=28996, model_max_length=512, is_fast=True, padding_side='right', truncation_side='right', special_tokens={'unk_token': '[UNK]', 'sep_token': '[SEP]', 'pad_token': '[PAD]', 'cls_token': '[CLS]', 'mask_token': '[MASK]'}, clean_up_tokenization_spaces=True),  added_tokens_decoder={\n",
              "\t0: AddedToken(\"[PAD]\", rstrip=False, lstrip=False, single_word=False, normalized=False, special=True),\n",
              "\t100: AddedToken(\"[UNK]\", rstrip=False, lstrip=False, single_word=False, normalized=False, special=True),\n",
              "\t101: AddedToken(\"[CLS]\", rstrip=False, lstrip=False, single_word=False, normalized=False, special=True),\n",
              "\t102: AddedToken(\"[SEP]\", rstrip=False, lstrip=False, single_word=False, normalized=False, special=True),\n",
              "\t103: AddedToken(\"[MASK]\", rstrip=False, lstrip=False, single_word=False, normalized=False, special=True),\n",
              "}"
            ]
          },
          "metadata": {},
          "execution_count": 8
        }
      ]
    },
    {
      "cell_type": "markdown",
      "source": [
        "## Basic Data Preprocessing"
      ],
      "metadata": {
        "id": "Rn4dheXlzxvp"
      }
    },
    {
      "cell_type": "code",
      "source": [
        "full_df = pd.read_csv(\"https://raw.githubusercontent.com/Yorko/bert-finetuning-catalyst/main/data/sdg_classification/train_set_sdg_1_7_8_12_13_toy.csv\")"
      ],
      "metadata": {
        "id": "CydAxCCgv63s"
      },
      "execution_count": 9,
      "outputs": []
    },
    {
      "cell_type": "code",
      "source": [
        "full_df.head()"
      ],
      "metadata": {
        "colab": {
          "base_uri": "https://localhost:8080/",
          "height": 241
        },
        "id": "WE9Vq-iNv7Sn",
        "outputId": "30a042d9-341c-4da8-9cb3-960f018b7b47"
      },
      "execution_count": 10,
      "outputs": [
        {
          "output_type": "execute_result",
          "data": {
            "text/plain": [
              "           eid  sdg_id                                              title  \\\n",
              "0  84895022699      13  GIS-based risk assessment for the Nile Delta c...   \n",
              "1  84978997581       1  Ritual well-being: toward a social signaling m...   \n",
              "2  61949197853       8  Calculation method of eco-environmental water ...   \n",
              "3  84866626961       8  Labour market and human resources development:...   \n",
              "4  85072723300      13  Spinel oxides as coke-resistant supports for N...   \n",
              "\n",
              "                                            keywords  \\\n",
              "0                      GIS Inundation Sea level rise   \n",
              "1  Costly signaling religion and mental health re...   \n",
              "2  Dongchang lake Eco-environmental water demand ...   \n",
              "3  Challenges Employment Enterprises Human resour...   \n",
              "4  Carbon capture Chemical looping Coke inhibitio...   \n",
              "\n",
              "                                            abstract  \\\n",
              "0  Sea level changes are caused by several natura...   \n",
              "1  Religion is positively correlated with subject...   \n",
              "2  Quantity and quality are inseparable propertie...   \n",
              "3  The Human Resources Development Survey (HRDS),...   \n",
              "4  Due to their high activity for methane convers...   \n",
              "\n",
              "                             title_keywords_abstract  \n",
              "0  [TITLE] gis-based risk assessment for the nile...  \n",
              "1  [TITLE] ritual well-being: toward a social sig...  \n",
              "2  [TITLE] calculation method of eco-environmenta...  \n",
              "3  [TITLE] labour market and human resources deve...  \n",
              "4  [TITLE] spinel oxides as coke-resistant suppor...  "
            ],
            "text/html": [
              "\n",
              "  <div id=\"df-dc5eec95-79e5-4fe4-ae10-f7878a993128\" class=\"colab-df-container\">\n",
              "    <div>\n",
              "<style scoped>\n",
              "    .dataframe tbody tr th:only-of-type {\n",
              "        vertical-align: middle;\n",
              "    }\n",
              "\n",
              "    .dataframe tbody tr th {\n",
              "        vertical-align: top;\n",
              "    }\n",
              "\n",
              "    .dataframe thead th {\n",
              "        text-align: right;\n",
              "    }\n",
              "</style>\n",
              "<table border=\"1\" class=\"dataframe\">\n",
              "  <thead>\n",
              "    <tr style=\"text-align: right;\">\n",
              "      <th></th>\n",
              "      <th>eid</th>\n",
              "      <th>sdg_id</th>\n",
              "      <th>title</th>\n",
              "      <th>keywords</th>\n",
              "      <th>abstract</th>\n",
              "      <th>title_keywords_abstract</th>\n",
              "    </tr>\n",
              "  </thead>\n",
              "  <tbody>\n",
              "    <tr>\n",
              "      <th>0</th>\n",
              "      <td>84895022699</td>\n",
              "      <td>13</td>\n",
              "      <td>GIS-based risk assessment for the Nile Delta c...</td>\n",
              "      <td>GIS Inundation Sea level rise</td>\n",
              "      <td>Sea level changes are caused by several natura...</td>\n",
              "      <td>[TITLE] gis-based risk assessment for the nile...</td>\n",
              "    </tr>\n",
              "    <tr>\n",
              "      <th>1</th>\n",
              "      <td>84978997581</td>\n",
              "      <td>1</td>\n",
              "      <td>Ritual well-being: toward a social signaling m...</td>\n",
              "      <td>Costly signaling religion and mental health re...</td>\n",
              "      <td>Religion is positively correlated with subject...</td>\n",
              "      <td>[TITLE] ritual well-being: toward a social sig...</td>\n",
              "    </tr>\n",
              "    <tr>\n",
              "      <th>2</th>\n",
              "      <td>61949197853</td>\n",
              "      <td>8</td>\n",
              "      <td>Calculation method of eco-environmental water ...</td>\n",
              "      <td>Dongchang lake Eco-environmental water demand ...</td>\n",
              "      <td>Quantity and quality are inseparable propertie...</td>\n",
              "      <td>[TITLE] calculation method of eco-environmenta...</td>\n",
              "    </tr>\n",
              "    <tr>\n",
              "      <th>3</th>\n",
              "      <td>84866626961</td>\n",
              "      <td>8</td>\n",
              "      <td>Labour market and human resources development:...</td>\n",
              "      <td>Challenges Employment Enterprises Human resour...</td>\n",
              "      <td>The Human Resources Development Survey (HRDS),...</td>\n",
              "      <td>[TITLE] labour market and human resources deve...</td>\n",
              "    </tr>\n",
              "    <tr>\n",
              "      <th>4</th>\n",
              "      <td>85072723300</td>\n",
              "      <td>13</td>\n",
              "      <td>Spinel oxides as coke-resistant supports for N...</td>\n",
              "      <td>Carbon capture Chemical looping Coke inhibitio...</td>\n",
              "      <td>Due to their high activity for methane convers...</td>\n",
              "      <td>[TITLE] spinel oxides as coke-resistant suppor...</td>\n",
              "    </tr>\n",
              "  </tbody>\n",
              "</table>\n",
              "</div>\n",
              "    <div class=\"colab-df-buttons\">\n",
              "\n",
              "  <div class=\"colab-df-container\">\n",
              "    <button class=\"colab-df-convert\" onclick=\"convertToInteractive('df-dc5eec95-79e5-4fe4-ae10-f7878a993128')\"\n",
              "            title=\"Convert this dataframe to an interactive table.\"\n",
              "            style=\"display:none;\">\n",
              "\n",
              "  <svg xmlns=\"http://www.w3.org/2000/svg\" height=\"24px\" viewBox=\"0 -960 960 960\">\n",
              "    <path d=\"M120-120v-720h720v720H120Zm60-500h600v-160H180v160Zm220 220h160v-160H400v160Zm0 220h160v-160H400v160ZM180-400h160v-160H180v160Zm440 0h160v-160H620v160ZM180-180h160v-160H180v160Zm440 0h160v-160H620v160Z\"/>\n",
              "  </svg>\n",
              "    </button>\n",
              "\n",
              "  <style>\n",
              "    .colab-df-container {\n",
              "      display:flex;\n",
              "      gap: 12px;\n",
              "    }\n",
              "\n",
              "    .colab-df-convert {\n",
              "      background-color: #E8F0FE;\n",
              "      border: none;\n",
              "      border-radius: 50%;\n",
              "      cursor: pointer;\n",
              "      display: none;\n",
              "      fill: #1967D2;\n",
              "      height: 32px;\n",
              "      padding: 0 0 0 0;\n",
              "      width: 32px;\n",
              "    }\n",
              "\n",
              "    .colab-df-convert:hover {\n",
              "      background-color: #E2EBFA;\n",
              "      box-shadow: 0px 1px 2px rgba(60, 64, 67, 0.3), 0px 1px 3px 1px rgba(60, 64, 67, 0.15);\n",
              "      fill: #174EA6;\n",
              "    }\n",
              "\n",
              "    .colab-df-buttons div {\n",
              "      margin-bottom: 4px;\n",
              "    }\n",
              "\n",
              "    [theme=dark] .colab-df-convert {\n",
              "      background-color: #3B4455;\n",
              "      fill: #D2E3FC;\n",
              "    }\n",
              "\n",
              "    [theme=dark] .colab-df-convert:hover {\n",
              "      background-color: #434B5C;\n",
              "      box-shadow: 0px 1px 3px 1px rgba(0, 0, 0, 0.15);\n",
              "      filter: drop-shadow(0px 1px 2px rgba(0, 0, 0, 0.3));\n",
              "      fill: #FFFFFF;\n",
              "    }\n",
              "  </style>\n",
              "\n",
              "    <script>\n",
              "      const buttonEl =\n",
              "        document.querySelector('#df-dc5eec95-79e5-4fe4-ae10-f7878a993128 button.colab-df-convert');\n",
              "      buttonEl.style.display =\n",
              "        google.colab.kernel.accessAllowed ? 'block' : 'none';\n",
              "\n",
              "      async function convertToInteractive(key) {\n",
              "        const element = document.querySelector('#df-dc5eec95-79e5-4fe4-ae10-f7878a993128');\n",
              "        const dataTable =\n",
              "          await google.colab.kernel.invokeFunction('convertToInteractive',\n",
              "                                                    [key], {});\n",
              "        if (!dataTable) return;\n",
              "\n",
              "        const docLinkHtml = 'Like what you see? Visit the ' +\n",
              "          '<a target=\"_blank\" href=https://colab.research.google.com/notebooks/data_table.ipynb>data table notebook</a>'\n",
              "          + ' to learn more about interactive tables.';\n",
              "        element.innerHTML = '';\n",
              "        dataTable['output_type'] = 'display_data';\n",
              "        await google.colab.output.renderOutput(dataTable, element);\n",
              "        const docLink = document.createElement('div');\n",
              "        docLink.innerHTML = docLinkHtml;\n",
              "        element.appendChild(docLink);\n",
              "      }\n",
              "    </script>\n",
              "  </div>\n",
              "\n",
              "\n",
              "<div id=\"df-8fd3d378-b86a-44c7-8d64-284b58d0317c\">\n",
              "  <button class=\"colab-df-quickchart\" onclick=\"quickchart('df-8fd3d378-b86a-44c7-8d64-284b58d0317c')\"\n",
              "            title=\"Suggest charts\"\n",
              "            style=\"display:none;\">\n",
              "\n",
              "<svg xmlns=\"http://www.w3.org/2000/svg\" height=\"24px\"viewBox=\"0 0 24 24\"\n",
              "     width=\"24px\">\n",
              "    <g>\n",
              "        <path d=\"M19 3H5c-1.1 0-2 .9-2 2v14c0 1.1.9 2 2 2h14c1.1 0 2-.9 2-2V5c0-1.1-.9-2-2-2zM9 17H7v-7h2v7zm4 0h-2V7h2v10zm4 0h-2v-4h2v4z\"/>\n",
              "    </g>\n",
              "</svg>\n",
              "  </button>\n",
              "\n",
              "<style>\n",
              "  .colab-df-quickchart {\n",
              "      --bg-color: #E8F0FE;\n",
              "      --fill-color: #1967D2;\n",
              "      --hover-bg-color: #E2EBFA;\n",
              "      --hover-fill-color: #174EA6;\n",
              "      --disabled-fill-color: #AAA;\n",
              "      --disabled-bg-color: #DDD;\n",
              "  }\n",
              "\n",
              "  [theme=dark] .colab-df-quickchart {\n",
              "      --bg-color: #3B4455;\n",
              "      --fill-color: #D2E3FC;\n",
              "      --hover-bg-color: #434B5C;\n",
              "      --hover-fill-color: #FFFFFF;\n",
              "      --disabled-bg-color: #3B4455;\n",
              "      --disabled-fill-color: #666;\n",
              "  }\n",
              "\n",
              "  .colab-df-quickchart {\n",
              "    background-color: var(--bg-color);\n",
              "    border: none;\n",
              "    border-radius: 50%;\n",
              "    cursor: pointer;\n",
              "    display: none;\n",
              "    fill: var(--fill-color);\n",
              "    height: 32px;\n",
              "    padding: 0;\n",
              "    width: 32px;\n",
              "  }\n",
              "\n",
              "  .colab-df-quickchart:hover {\n",
              "    background-color: var(--hover-bg-color);\n",
              "    box-shadow: 0 1px 2px rgba(60, 64, 67, 0.3), 0 1px 3px 1px rgba(60, 64, 67, 0.15);\n",
              "    fill: var(--button-hover-fill-color);\n",
              "  }\n",
              "\n",
              "  .colab-df-quickchart-complete:disabled,\n",
              "  .colab-df-quickchart-complete:disabled:hover {\n",
              "    background-color: var(--disabled-bg-color);\n",
              "    fill: var(--disabled-fill-color);\n",
              "    box-shadow: none;\n",
              "  }\n",
              "\n",
              "  .colab-df-spinner {\n",
              "    border: 2px solid var(--fill-color);\n",
              "    border-color: transparent;\n",
              "    border-bottom-color: var(--fill-color);\n",
              "    animation:\n",
              "      spin 1s steps(1) infinite;\n",
              "  }\n",
              "\n",
              "  @keyframes spin {\n",
              "    0% {\n",
              "      border-color: transparent;\n",
              "      border-bottom-color: var(--fill-color);\n",
              "      border-left-color: var(--fill-color);\n",
              "    }\n",
              "    20% {\n",
              "      border-color: transparent;\n",
              "      border-left-color: var(--fill-color);\n",
              "      border-top-color: var(--fill-color);\n",
              "    }\n",
              "    30% {\n",
              "      border-color: transparent;\n",
              "      border-left-color: var(--fill-color);\n",
              "      border-top-color: var(--fill-color);\n",
              "      border-right-color: var(--fill-color);\n",
              "    }\n",
              "    40% {\n",
              "      border-color: transparent;\n",
              "      border-right-color: var(--fill-color);\n",
              "      border-top-color: var(--fill-color);\n",
              "    }\n",
              "    60% {\n",
              "      border-color: transparent;\n",
              "      border-right-color: var(--fill-color);\n",
              "    }\n",
              "    80% {\n",
              "      border-color: transparent;\n",
              "      border-right-color: var(--fill-color);\n",
              "      border-bottom-color: var(--fill-color);\n",
              "    }\n",
              "    90% {\n",
              "      border-color: transparent;\n",
              "      border-bottom-color: var(--fill-color);\n",
              "    }\n",
              "  }\n",
              "</style>\n",
              "\n",
              "  <script>\n",
              "    async function quickchart(key) {\n",
              "      const quickchartButtonEl =\n",
              "        document.querySelector('#' + key + ' button');\n",
              "      quickchartButtonEl.disabled = true;  // To prevent multiple clicks.\n",
              "      quickchartButtonEl.classList.add('colab-df-spinner');\n",
              "      try {\n",
              "        const charts = await google.colab.kernel.invokeFunction(\n",
              "            'suggestCharts', [key], {});\n",
              "      } catch (error) {\n",
              "        console.error('Error during call to suggestCharts:', error);\n",
              "      }\n",
              "      quickchartButtonEl.classList.remove('colab-df-spinner');\n",
              "      quickchartButtonEl.classList.add('colab-df-quickchart-complete');\n",
              "    }\n",
              "    (() => {\n",
              "      let quickchartButtonEl =\n",
              "        document.querySelector('#df-8fd3d378-b86a-44c7-8d64-284b58d0317c button');\n",
              "      quickchartButtonEl.style.display =\n",
              "        google.colab.kernel.accessAllowed ? 'block' : 'none';\n",
              "    })();\n",
              "  </script>\n",
              "</div>\n",
              "\n",
              "    </div>\n",
              "  </div>\n"
            ],
            "application/vnd.google.colaboratory.intrinsic+json": {
              "type": "dataframe",
              "variable_name": "full_df",
              "summary": "{\n  \"name\": \"full_df\",\n  \"rows\": 150,\n  \"fields\": [\n    {\n      \"column\": \"eid\",\n      \"properties\": {\n        \"dtype\": \"number\",\n        \"std\": 23944985207,\n        \"min\": 6088291,\n        \"max\": 85078288568,\n        \"num_unique_values\": 150,\n        \"samples\": [\n          85073710565,\n          85072348098,\n          84928890981\n        ],\n        \"semantic_type\": \"\",\n        \"description\": \"\"\n      }\n    },\n    {\n      \"column\": \"sdg_id\",\n      \"properties\": {\n        \"dtype\": \"number\",\n        \"std\": 4,\n        \"min\": 1,\n        \"max\": 13,\n        \"num_unique_values\": 5,\n        \"samples\": [\n          1,\n          12,\n          8\n        ],\n        \"semantic_type\": \"\",\n        \"description\": \"\"\n      }\n    },\n    {\n      \"column\": \"title\",\n      \"properties\": {\n        \"dtype\": \"string\",\n        \"num_unique_values\": 150,\n        \"samples\": [\n          \"The TRIPS agreement implementation in Mexico. Implications for social responsibility and development\",\n          \"Well placement optimization under geological statistical uncertainty\",\n          \"Varieties of resource nationalism in sub-Saharan Africa's energy and minerals markets\"\n        ],\n        \"semantic_type\": \"\",\n        \"description\": \"\"\n      }\n    },\n    {\n      \"column\": \"keywords\",\n      \"properties\": {\n        \"dtype\": \"string\",\n        \"num_unique_values\": 117,\n        \"samples\": [\n          \"Latino youth Protective factors Resilience Sexual health Social environment Structural barriers\",\n          \"Carbon capture Chemical looping Coke inhibition Methane Nickel oxide Spinel oxides\",\n          \"Bifunctional Catalyst CO2 Conversion Catalytic Intermediate Tandem Catalysis\"\n        ],\n        \"semantic_type\": \"\",\n        \"description\": \"\"\n      }\n    },\n    {\n      \"column\": \"abstract\",\n      \"properties\": {\n        \"dtype\": \"string\",\n        \"num_unique_values\": 150,\n        \"samples\": [\n          \"The relation between intellectual property vs international commerce can be either positive, or negative, favoring certain countries with better technological infrastructure or increasing their international commerce, but it might also represent a barrier to commerce in case of abuse with its implementation. It could also be an impediment for social responsibility, remarkably in case of developing nations. This research focuses on intellectual property rights in Mexico, its effects on international competitiveness, and analyzes the influence of the TRIPS1 Agreement on Mexico's technological upgrade, modernization and industrialization and the effects it has on the social responsibility aspects, such as human rights, poverty eradication and the relation between supply chain and sustainability.\",\n          \"To control fluid flow in underground geologic formations, the placement of injection/production wells needs to be optimized taking geological characteristics of the reservoir into account. However, the optimum solution might not perform beneficially in the real world as the simulation result indicated because a reservoir model generally contains considerable geological uncertainty due to limited information of deep underground. Optimizing objective function integrating the response values from different models can be considered as an approach to this difficulty. In the previous study, such objective functions were proposed. However, their applicability has not been evaluated deeply. Therefore, their applicability was examined through well placement optimization for Carbon dioxide Capture and Storage (CCS) under geological statistical uncertainty as a case study. In the case study, we considered an optimization of the multiple wells for CO2 injection in a heterogeneous reservoir whose geological uncertainty was represented by 50 statistically independent reservoir models. As a result, the optimum solution with using all models showed the high applicability by comparing with the sensitivity analysis of nominal solutions, which is independently optimized for the single model, against the uncertainty. In addition, one of the proposed objective functions showed the superior result.\",\n          \"This article examines resource nationalism in sub-Saharan Africa's energy and minerals markets. It does so by exploring economic and political developments in three cases: Nigeria as an example of a petro-state established by means of expropriation in the wake of decolonisation; South Africa, a mature mining industry shaped by its settler colonial history; and Mozambique, a new and therefore highly-dependent entrant into the league of significant natural gas producers. Extractive industries have played a controversial role in sub-Saharan Africa due in particular to the prevalence of the resource curse. Nevertheless, energy exports will continue to play an important role in fuelling economic growth and, potentially, also development as new deposits of natural gas and oil are discovered across the region. Resource nationalism has, moreover, increasingly constrained operations of the traditionally dominant Western energy companies, in particular as competition from state-owned energy companies in sub-Saharan Africa and from emerging powers such as China is increasing.\"\n        ],\n        \"semantic_type\": \"\",\n        \"description\": \"\"\n      }\n    },\n    {\n      \"column\": \"title_keywords_abstract\",\n      \"properties\": {\n        \"dtype\": \"string\",\n        \"num_unique_values\": 150,\n        \"samples\": [\n          \"[TITLE] the trips agreement implementation in mexico. implications for social responsibility and development [KEYWORDS] competitiveness intellectual property international commerce modernization m\\u00e9xico social responsibility [ABSTRACT] the relation between intellectual property vs international commerce can be either positive, or negative, favoring certain countries with better technological infrastructure or increasing their international commerce, but it might also represent a barrier to commerce in case of abuse with its implementation. it could also be an impediment for social responsibility, remarkably in case of developing nations. this research focuses on intellectual property rights in mexico, its effects on international competitiveness, and analyzes the influence of the trips1 agreement on mexico's technological upgrade, modernization and industrialization and the effects it has on the social responsibility aspects, such as human rights, poverty eradication and the relation between supply chain and sustainability.\",\n          \"[TITLE] well placement optimization under geological statistical uncertainty [KEYWORDS] cma-es carbon dioxide capture and storage geological statistical uncertainty robust optimization well placement optimization [ABSTRACT] to control fluid flow in underground geologic formations, the placement of injection/production wells needs to be optimized taking geological characteristics of the reservoir into account. however, the optimum solution might not perform beneficially in the real world as the simulation result indicated because a reservoir model generally contains considerable geological uncertainty due to limited information of deep underground. optimizing objective function integrating the response values from different models can be considered as an approach to this difficulty. in the previous study, such objective functions were proposed. however, their applicability has not been evaluated deeply. therefore, their applicability was examined through well placement optimization for carbon dioxide capture and storage (ccs) under geological statistical uncertainty as a case study. in the case study, we considered an optimization of the multiple wells for co2 injection in a heterogeneous reservoir whose geological uncertainty was represented by 50 statistically independent reservoir models. as a result, the optimum solution with using all models showed the high applicability by comparing with the sensitivity analysis of nominal solutions, which is independently optimized for the single model, against the uncertainty. in addition, one of the proposed objective functions showed the superior result.\",\n          \"[TITLE] varieties of resource nationalism in sub-saharan africa's energy and minerals markets [KEYWORDS] africa energy minerals natural resources resource nationalism [ABSTRACT] this article examines resource nationalism in sub-saharan africa's energy and minerals markets. it does so by exploring economic and political developments in three cases: nigeria as an example of a petro-state established by means of expropriation in the wake of decolonisation; south africa, a mature mining industry shaped by its settler colonial history; and mozambique, a new and therefore highly-dependent entrant into the league of significant natural gas producers. extractive industries have played a controversial role in sub-saharan africa due in particular to the prevalence of the resource curse. nevertheless, energy exports will continue to play an important role in fuelling economic growth and, potentially, also development as new deposits of natural gas and oil are discovered across the region. resource nationalism has, moreover, increasingly constrained operations of the traditionally dominant western energy companies, in particular as competition from state-owned energy companies in sub-saharan africa and from emerging powers such as china is increasing.\"\n        ],\n        \"semantic_type\": \"\",\n        \"description\": \"\"\n      }\n    }\n  ]\n}"
            }
          },
          "metadata": {},
          "execution_count": 10
        }
      ]
    },
    {
      "cell_type": "code",
      "source": [
        "full_df = full_df[['title_keywords_abstract','sdg_id']]"
      ],
      "metadata": {
        "id": "0k2MeOEav7Xl"
      },
      "execution_count": 11,
      "outputs": []
    },
    {
      "cell_type": "code",
      "source": [
        "full_df.shape"
      ],
      "metadata": {
        "colab": {
          "base_uri": "https://localhost:8080/"
        },
        "id": "76NRaKFPv7cH",
        "outputId": "d5c0e827-2a99-491e-8143-fa9a5ad79bee"
      },
      "execution_count": 12,
      "outputs": [
        {
          "output_type": "execute_result",
          "data": {
            "text/plain": [
              "(150, 2)"
            ]
          },
          "metadata": {},
          "execution_count": 12
        }
      ]
    },
    {
      "cell_type": "code",
      "source": [
        "full_df['sdg_id'].value_counts()"
      ],
      "metadata": {
        "colab": {
          "base_uri": "https://localhost:8080/"
        },
        "id": "m06IOylcv7gJ",
        "outputId": "32b2a188-938f-4d60-c9ba-fed64694ac70"
      },
      "execution_count": 13,
      "outputs": [
        {
          "output_type": "execute_result",
          "data": {
            "text/plain": [
              "13    33\n",
              "8     31\n",
              "12    31\n",
              "1     29\n",
              "7     26\n",
              "Name: sdg_id, dtype: int64"
            ]
          },
          "metadata": {},
          "execution_count": 13
        }
      ]
    },
    {
      "cell_type": "code",
      "source": [
        "target_dict = dict(zip(sorted(full_df['sdg_id'].unique().tolist()), range(len(full_df['sdg_id'].unique()))))\n",
        "print(target_dict)"
      ],
      "metadata": {
        "id": "2k9vRw0kv7kk",
        "colab": {
          "base_uri": "https://localhost:8080/"
        },
        "outputId": "da66e426-f85b-4cd2-98ab-8408d556d063"
      },
      "execution_count": 14,
      "outputs": [
        {
          "output_type": "stream",
          "name": "stdout",
          "text": [
            "{1: 0, 7: 1, 8: 2, 12: 3, 13: 4}\n"
          ]
        }
      ]
    },
    {
      "cell_type": "code",
      "source": [
        "full_df['target'] = full_df['sdg_id'].map(target_dict)"
      ],
      "metadata": {
        "id": "V2GAGgQ7v7o3"
      },
      "execution_count": 15,
      "outputs": []
    },
    {
      "cell_type": "code",
      "source": [
        "full_df.head()"
      ],
      "metadata": {
        "colab": {
          "base_uri": "https://localhost:8080/",
          "height": 206
        },
        "id": "Vuh9i-Pav7tT",
        "outputId": "3aeb9deb-b1ee-4af7-fb30-6ed242863482"
      },
      "execution_count": 16,
      "outputs": [
        {
          "output_type": "execute_result",
          "data": {
            "text/plain": [
              "                             title_keywords_abstract  sdg_id  target\n",
              "0  [TITLE] gis-based risk assessment for the nile...      13       4\n",
              "1  [TITLE] ritual well-being: toward a social sig...       1       0\n",
              "2  [TITLE] calculation method of eco-environmenta...       8       2\n",
              "3  [TITLE] labour market and human resources deve...       8       2\n",
              "4  [TITLE] spinel oxides as coke-resistant suppor...      13       4"
            ],
            "text/html": [
              "\n",
              "  <div id=\"df-3fd53557-4828-452c-a5f6-0ba297a80205\" class=\"colab-df-container\">\n",
              "    <div>\n",
              "<style scoped>\n",
              "    .dataframe tbody tr th:only-of-type {\n",
              "        vertical-align: middle;\n",
              "    }\n",
              "\n",
              "    .dataframe tbody tr th {\n",
              "        vertical-align: top;\n",
              "    }\n",
              "\n",
              "    .dataframe thead th {\n",
              "        text-align: right;\n",
              "    }\n",
              "</style>\n",
              "<table border=\"1\" class=\"dataframe\">\n",
              "  <thead>\n",
              "    <tr style=\"text-align: right;\">\n",
              "      <th></th>\n",
              "      <th>title_keywords_abstract</th>\n",
              "      <th>sdg_id</th>\n",
              "      <th>target</th>\n",
              "    </tr>\n",
              "  </thead>\n",
              "  <tbody>\n",
              "    <tr>\n",
              "      <th>0</th>\n",
              "      <td>[TITLE] gis-based risk assessment for the nile...</td>\n",
              "      <td>13</td>\n",
              "      <td>4</td>\n",
              "    </tr>\n",
              "    <tr>\n",
              "      <th>1</th>\n",
              "      <td>[TITLE] ritual well-being: toward a social sig...</td>\n",
              "      <td>1</td>\n",
              "      <td>0</td>\n",
              "    </tr>\n",
              "    <tr>\n",
              "      <th>2</th>\n",
              "      <td>[TITLE] calculation method of eco-environmenta...</td>\n",
              "      <td>8</td>\n",
              "      <td>2</td>\n",
              "    </tr>\n",
              "    <tr>\n",
              "      <th>3</th>\n",
              "      <td>[TITLE] labour market and human resources deve...</td>\n",
              "      <td>8</td>\n",
              "      <td>2</td>\n",
              "    </tr>\n",
              "    <tr>\n",
              "      <th>4</th>\n",
              "      <td>[TITLE] spinel oxides as coke-resistant suppor...</td>\n",
              "      <td>13</td>\n",
              "      <td>4</td>\n",
              "    </tr>\n",
              "  </tbody>\n",
              "</table>\n",
              "</div>\n",
              "    <div class=\"colab-df-buttons\">\n",
              "\n",
              "  <div class=\"colab-df-container\">\n",
              "    <button class=\"colab-df-convert\" onclick=\"convertToInteractive('df-3fd53557-4828-452c-a5f6-0ba297a80205')\"\n",
              "            title=\"Convert this dataframe to an interactive table.\"\n",
              "            style=\"display:none;\">\n",
              "\n",
              "  <svg xmlns=\"http://www.w3.org/2000/svg\" height=\"24px\" viewBox=\"0 -960 960 960\">\n",
              "    <path d=\"M120-120v-720h720v720H120Zm60-500h600v-160H180v160Zm220 220h160v-160H400v160Zm0 220h160v-160H400v160ZM180-400h160v-160H180v160Zm440 0h160v-160H620v160ZM180-180h160v-160H180v160Zm440 0h160v-160H620v160Z\"/>\n",
              "  </svg>\n",
              "    </button>\n",
              "\n",
              "  <style>\n",
              "    .colab-df-container {\n",
              "      display:flex;\n",
              "      gap: 12px;\n",
              "    }\n",
              "\n",
              "    .colab-df-convert {\n",
              "      background-color: #E8F0FE;\n",
              "      border: none;\n",
              "      border-radius: 50%;\n",
              "      cursor: pointer;\n",
              "      display: none;\n",
              "      fill: #1967D2;\n",
              "      height: 32px;\n",
              "      padding: 0 0 0 0;\n",
              "      width: 32px;\n",
              "    }\n",
              "\n",
              "    .colab-df-convert:hover {\n",
              "      background-color: #E2EBFA;\n",
              "      box-shadow: 0px 1px 2px rgba(60, 64, 67, 0.3), 0px 1px 3px 1px rgba(60, 64, 67, 0.15);\n",
              "      fill: #174EA6;\n",
              "    }\n",
              "\n",
              "    .colab-df-buttons div {\n",
              "      margin-bottom: 4px;\n",
              "    }\n",
              "\n",
              "    [theme=dark] .colab-df-convert {\n",
              "      background-color: #3B4455;\n",
              "      fill: #D2E3FC;\n",
              "    }\n",
              "\n",
              "    [theme=dark] .colab-df-convert:hover {\n",
              "      background-color: #434B5C;\n",
              "      box-shadow: 0px 1px 3px 1px rgba(0, 0, 0, 0.15);\n",
              "      filter: drop-shadow(0px 1px 2px rgba(0, 0, 0, 0.3));\n",
              "      fill: #FFFFFF;\n",
              "    }\n",
              "  </style>\n",
              "\n",
              "    <script>\n",
              "      const buttonEl =\n",
              "        document.querySelector('#df-3fd53557-4828-452c-a5f6-0ba297a80205 button.colab-df-convert');\n",
              "      buttonEl.style.display =\n",
              "        google.colab.kernel.accessAllowed ? 'block' : 'none';\n",
              "\n",
              "      async function convertToInteractive(key) {\n",
              "        const element = document.querySelector('#df-3fd53557-4828-452c-a5f6-0ba297a80205');\n",
              "        const dataTable =\n",
              "          await google.colab.kernel.invokeFunction('convertToInteractive',\n",
              "                                                    [key], {});\n",
              "        if (!dataTable) return;\n",
              "\n",
              "        const docLinkHtml = 'Like what you see? Visit the ' +\n",
              "          '<a target=\"_blank\" href=https://colab.research.google.com/notebooks/data_table.ipynb>data table notebook</a>'\n",
              "          + ' to learn more about interactive tables.';\n",
              "        element.innerHTML = '';\n",
              "        dataTable['output_type'] = 'display_data';\n",
              "        await google.colab.output.renderOutput(dataTable, element);\n",
              "        const docLink = document.createElement('div');\n",
              "        docLink.innerHTML = docLinkHtml;\n",
              "        element.appendChild(docLink);\n",
              "      }\n",
              "    </script>\n",
              "  </div>\n",
              "\n",
              "\n",
              "<div id=\"df-6fb2835e-b828-4fb1-a0ba-5dd4a10caf33\">\n",
              "  <button class=\"colab-df-quickchart\" onclick=\"quickchart('df-6fb2835e-b828-4fb1-a0ba-5dd4a10caf33')\"\n",
              "            title=\"Suggest charts\"\n",
              "            style=\"display:none;\">\n",
              "\n",
              "<svg xmlns=\"http://www.w3.org/2000/svg\" height=\"24px\"viewBox=\"0 0 24 24\"\n",
              "     width=\"24px\">\n",
              "    <g>\n",
              "        <path d=\"M19 3H5c-1.1 0-2 .9-2 2v14c0 1.1.9 2 2 2h14c1.1 0 2-.9 2-2V5c0-1.1-.9-2-2-2zM9 17H7v-7h2v7zm4 0h-2V7h2v10zm4 0h-2v-4h2v4z\"/>\n",
              "    </g>\n",
              "</svg>\n",
              "  </button>\n",
              "\n",
              "<style>\n",
              "  .colab-df-quickchart {\n",
              "      --bg-color: #E8F0FE;\n",
              "      --fill-color: #1967D2;\n",
              "      --hover-bg-color: #E2EBFA;\n",
              "      --hover-fill-color: #174EA6;\n",
              "      --disabled-fill-color: #AAA;\n",
              "      --disabled-bg-color: #DDD;\n",
              "  }\n",
              "\n",
              "  [theme=dark] .colab-df-quickchart {\n",
              "      --bg-color: #3B4455;\n",
              "      --fill-color: #D2E3FC;\n",
              "      --hover-bg-color: #434B5C;\n",
              "      --hover-fill-color: #FFFFFF;\n",
              "      --disabled-bg-color: #3B4455;\n",
              "      --disabled-fill-color: #666;\n",
              "  }\n",
              "\n",
              "  .colab-df-quickchart {\n",
              "    background-color: var(--bg-color);\n",
              "    border: none;\n",
              "    border-radius: 50%;\n",
              "    cursor: pointer;\n",
              "    display: none;\n",
              "    fill: var(--fill-color);\n",
              "    height: 32px;\n",
              "    padding: 0;\n",
              "    width: 32px;\n",
              "  }\n",
              "\n",
              "  .colab-df-quickchart:hover {\n",
              "    background-color: var(--hover-bg-color);\n",
              "    box-shadow: 0 1px 2px rgba(60, 64, 67, 0.3), 0 1px 3px 1px rgba(60, 64, 67, 0.15);\n",
              "    fill: var(--button-hover-fill-color);\n",
              "  }\n",
              "\n",
              "  .colab-df-quickchart-complete:disabled,\n",
              "  .colab-df-quickchart-complete:disabled:hover {\n",
              "    background-color: var(--disabled-bg-color);\n",
              "    fill: var(--disabled-fill-color);\n",
              "    box-shadow: none;\n",
              "  }\n",
              "\n",
              "  .colab-df-spinner {\n",
              "    border: 2px solid var(--fill-color);\n",
              "    border-color: transparent;\n",
              "    border-bottom-color: var(--fill-color);\n",
              "    animation:\n",
              "      spin 1s steps(1) infinite;\n",
              "  }\n",
              "\n",
              "  @keyframes spin {\n",
              "    0% {\n",
              "      border-color: transparent;\n",
              "      border-bottom-color: var(--fill-color);\n",
              "      border-left-color: var(--fill-color);\n",
              "    }\n",
              "    20% {\n",
              "      border-color: transparent;\n",
              "      border-left-color: var(--fill-color);\n",
              "      border-top-color: var(--fill-color);\n",
              "    }\n",
              "    30% {\n",
              "      border-color: transparent;\n",
              "      border-left-color: var(--fill-color);\n",
              "      border-top-color: var(--fill-color);\n",
              "      border-right-color: var(--fill-color);\n",
              "    }\n",
              "    40% {\n",
              "      border-color: transparent;\n",
              "      border-right-color: var(--fill-color);\n",
              "      border-top-color: var(--fill-color);\n",
              "    }\n",
              "    60% {\n",
              "      border-color: transparent;\n",
              "      border-right-color: var(--fill-color);\n",
              "    }\n",
              "    80% {\n",
              "      border-color: transparent;\n",
              "      border-right-color: var(--fill-color);\n",
              "      border-bottom-color: var(--fill-color);\n",
              "    }\n",
              "    90% {\n",
              "      border-color: transparent;\n",
              "      border-bottom-color: var(--fill-color);\n",
              "    }\n",
              "  }\n",
              "</style>\n",
              "\n",
              "  <script>\n",
              "    async function quickchart(key) {\n",
              "      const quickchartButtonEl =\n",
              "        document.querySelector('#' + key + ' button');\n",
              "      quickchartButtonEl.disabled = true;  // To prevent multiple clicks.\n",
              "      quickchartButtonEl.classList.add('colab-df-spinner');\n",
              "      try {\n",
              "        const charts = await google.colab.kernel.invokeFunction(\n",
              "            'suggestCharts', [key], {});\n",
              "      } catch (error) {\n",
              "        console.error('Error during call to suggestCharts:', error);\n",
              "      }\n",
              "      quickchartButtonEl.classList.remove('colab-df-spinner');\n",
              "      quickchartButtonEl.classList.add('colab-df-quickchart-complete');\n",
              "    }\n",
              "    (() => {\n",
              "      let quickchartButtonEl =\n",
              "        document.querySelector('#df-6fb2835e-b828-4fb1-a0ba-5dd4a10caf33 button');\n",
              "      quickchartButtonEl.style.display =\n",
              "        google.colab.kernel.accessAllowed ? 'block' : 'none';\n",
              "    })();\n",
              "  </script>\n",
              "</div>\n",
              "\n",
              "    </div>\n",
              "  </div>\n"
            ],
            "application/vnd.google.colaboratory.intrinsic+json": {
              "type": "dataframe",
              "variable_name": "full_df",
              "summary": "{\n  \"name\": \"full_df\",\n  \"rows\": 150,\n  \"fields\": [\n    {\n      \"column\": \"title_keywords_abstract\",\n      \"properties\": {\n        \"dtype\": \"string\",\n        \"num_unique_values\": 150,\n        \"samples\": [\n          \"[TITLE] the trips agreement implementation in mexico. implications for social responsibility and development [KEYWORDS] competitiveness intellectual property international commerce modernization m\\u00e9xico social responsibility [ABSTRACT] the relation between intellectual property vs international commerce can be either positive, or negative, favoring certain countries with better technological infrastructure or increasing their international commerce, but it might also represent a barrier to commerce in case of abuse with its implementation. it could also be an impediment for social responsibility, remarkably in case of developing nations. this research focuses on intellectual property rights in mexico, its effects on international competitiveness, and analyzes the influence of the trips1 agreement on mexico's technological upgrade, modernization and industrialization and the effects it has on the social responsibility aspects, such as human rights, poverty eradication and the relation between supply chain and sustainability.\",\n          \"[TITLE] well placement optimization under geological statistical uncertainty [KEYWORDS] cma-es carbon dioxide capture and storage geological statistical uncertainty robust optimization well placement optimization [ABSTRACT] to control fluid flow in underground geologic formations, the placement of injection/production wells needs to be optimized taking geological characteristics of the reservoir into account. however, the optimum solution might not perform beneficially in the real world as the simulation result indicated because a reservoir model generally contains considerable geological uncertainty due to limited information of deep underground. optimizing objective function integrating the response values from different models can be considered as an approach to this difficulty. in the previous study, such objective functions were proposed. however, their applicability has not been evaluated deeply. therefore, their applicability was examined through well placement optimization for carbon dioxide capture and storage (ccs) under geological statistical uncertainty as a case study. in the case study, we considered an optimization of the multiple wells for co2 injection in a heterogeneous reservoir whose geological uncertainty was represented by 50 statistically independent reservoir models. as a result, the optimum solution with using all models showed the high applicability by comparing with the sensitivity analysis of nominal solutions, which is independently optimized for the single model, against the uncertainty. in addition, one of the proposed objective functions showed the superior result.\",\n          \"[TITLE] varieties of resource nationalism in sub-saharan africa's energy and minerals markets [KEYWORDS] africa energy minerals natural resources resource nationalism [ABSTRACT] this article examines resource nationalism in sub-saharan africa's energy and minerals markets. it does so by exploring economic and political developments in three cases: nigeria as an example of a petro-state established by means of expropriation in the wake of decolonisation; south africa, a mature mining industry shaped by its settler colonial history; and mozambique, a new and therefore highly-dependent entrant into the league of significant natural gas producers. extractive industries have played a controversial role in sub-saharan africa due in particular to the prevalence of the resource curse. nevertheless, energy exports will continue to play an important role in fuelling economic growth and, potentially, also development as new deposits of natural gas and oil are discovered across the region. resource nationalism has, moreover, increasingly constrained operations of the traditionally dominant western energy companies, in particular as competition from state-owned energy companies in sub-saharan africa and from emerging powers such as china is increasing.\"\n        ],\n        \"semantic_type\": \"\",\n        \"description\": \"\"\n      }\n    },\n    {\n      \"column\": \"sdg_id\",\n      \"properties\": {\n        \"dtype\": \"number\",\n        \"std\": 4,\n        \"min\": 1,\n        \"max\": 13,\n        \"num_unique_values\": 5,\n        \"samples\": [\n          1,\n          12,\n          8\n        ],\n        \"semantic_type\": \"\",\n        \"description\": \"\"\n      }\n    },\n    {\n      \"column\": \"target\",\n      \"properties\": {\n        \"dtype\": \"number\",\n        \"std\": 1,\n        \"min\": 0,\n        \"max\": 4,\n        \"num_unique_values\": 5,\n        \"samples\": [\n          0,\n          3,\n          2\n        ],\n        \"semantic_type\": \"\",\n        \"description\": \"\"\n      }\n    }\n  ]\n}"
            }
          },
          "metadata": {},
          "execution_count": 16
        }
      ]
    },
    {
      "cell_type": "code",
      "source": [
        "# train validation split\n",
        "train_df, val_df = train_test_split(full_df, test_size=0.2, random_state=42, stratify=full_df['target'])"
      ],
      "metadata": {
        "id": "DMz05UHCv7xY"
      },
      "execution_count": 17,
      "outputs": []
    },
    {
      "cell_type": "code",
      "source": [
        "train_df.shape, val_df.shape"
      ],
      "metadata": {
        "colab": {
          "base_uri": "https://localhost:8080/"
        },
        "id": "_2lIubmWv71Y",
        "outputId": "379f6321-7fb7-48cc-93d6-ce3e8c2948fc"
      },
      "execution_count": 18,
      "outputs": [
        {
          "output_type": "execute_result",
          "data": {
            "text/plain": [
              "((120, 3), (30, 3))"
            ]
          },
          "metadata": {},
          "execution_count": 18
        }
      ]
    },
    {
      "cell_type": "code",
      "source": [
        "NUM_CLASSES = len(target_dict)\n",
        "print(NUM_CLASSES)"
      ],
      "metadata": {
        "colab": {
          "base_uri": "https://localhost:8080/"
        },
        "id": "SUWKjeFR-T4Q",
        "outputId": "a963d994-1ff1-4b19-b5df-41d99bcecbfb"
      },
      "execution_count": 19,
      "outputs": [
        {
          "output_type": "stream",
          "name": "stdout",
          "text": [
            "5\n"
          ]
        }
      ]
    },
    {
      "cell_type": "markdown",
      "source": [
        "## Custom Torch Dataset Class"
      ],
      "metadata": {
        "id": "OiMwjufHv753"
      }
    },
    {
      "cell_type": "code",
      "source": [
        "idx = np.random.randint(0, len(train_df))\n",
        "sample_text = train_df.iloc[idx]['title_keywords_abstract']\n",
        "sample_label = train_df.iloc[idx]['target']\n",
        "print(sample_text)\n",
        "print(sample_label)"
      ],
      "metadata": {
        "colab": {
          "base_uri": "https://localhost:8080/"
        },
        "id": "Bp-R5h8V2Iwn",
        "outputId": "8e687272-8b60-4e75-f840-b786e0528e63"
      },
      "execution_count": 20,
      "outputs": [
        {
          "output_type": "stream",
          "name": "stdout",
          "text": [
            "[TITLE] multi-point, high-speed passive ion velocity distribution diagnostic on the pegasus toroidal experiment [KEYWORDS] missing [ABSTRACT] a passive ion temperature polychromator has been deployed on pegasus to study power balance and non-thermal ion distributions that arise during point source helicity injection. spectra are recorded from a 1 m f8.6 czerny-turner polychromator whose output is recorded by an intensified high-speed camera. the use of high orders allows for a dispersion of 0.02 åmm in 4th order and a bandpass of 0.14 å (∼13 kms) at 3131 å in 4th order with 100 μm entrance slit. the instrument temperature of the spectrometer is 15 ev. light from the output of an image intensifier in the spectrometer focal plane is coupled to a high-speed cmos camera. the system can accommodate up to 20 spatial points recorded at 0.5 ms time resolution. during helicity injection, stochastic magnetic fields keep t e low (∼100 ev) and thus low ionization impurities penetrate to the core. under these conditions, high core ion temperatures are measured (t i ≈ 1.2 kev, t e ≈ 0.1 kev) using spectral lines from carbon iii, nitrogen iii, and boron iv. © 2012 american institute of physics.\n",
            "1\n"
          ]
        }
      ]
    },
    {
      "cell_type": "code",
      "source": [
        "outputs = tokenizer.encode_plus(\n",
        "    text = sample_text,\n",
        "    add_special_tokens=True,\n",
        "    padding=\"max_length\",\n",
        "    max_length=MAX_LEN,\n",
        "    return_tensors=\"pt\",\n",
        "    truncation=True,\n",
        "    return_attention_mask=True,\n",
        "    return_token_type_ids=True\n",
        ")"
      ],
      "metadata": {
        "id": "nZiTAgfX2ixr"
      },
      "execution_count": 21,
      "outputs": []
    },
    {
      "cell_type": "code",
      "source": [
        "outputs.keys()"
      ],
      "metadata": {
        "colab": {
          "base_uri": "https://localhost:8080/"
        },
        "id": "1QMxinQb3ylq",
        "outputId": "29064093-18b0-478b-d537-a0ccc46c544e"
      },
      "execution_count": 22,
      "outputs": [
        {
          "output_type": "execute_result",
          "data": {
            "text/plain": [
              "dict_keys(['input_ids', 'token_type_ids', 'attention_mask'])"
            ]
          },
          "metadata": {},
          "execution_count": 22
        }
      ]
    },
    {
      "cell_type": "code",
      "source": [
        "ids = outputs['input_ids']"
      ],
      "metadata": {
        "id": "yZqV9GbD35Aq"
      },
      "execution_count": 23,
      "outputs": []
    },
    {
      "cell_type": "code",
      "source": [
        "ids.squeeze(0).shape"
      ],
      "metadata": {
        "colab": {
          "base_uri": "https://localhost:8080/"
        },
        "id": "qp_EEs_n4PpD",
        "outputId": "50a93837-f9d1-435e-a0bb-9c78b8540633"
      },
      "execution_count": 24,
      "outputs": [
        {
          "output_type": "execute_result",
          "data": {
            "text/plain": [
              "torch.Size([512])"
            ]
          },
          "metadata": {},
          "execution_count": 24
        }
      ]
    },
    {
      "cell_type": "code",
      "source": [
        "masks = outputs['attention_mask']\n",
        "print(masks.shape)"
      ],
      "metadata": {
        "colab": {
          "base_uri": "https://localhost:8080/"
        },
        "id": "CNnkhxlg49nT",
        "outputId": "c8d3e1f5-410d-44c1-f4ae-8015c39c5b4c"
      },
      "execution_count": 25,
      "outputs": [
        {
          "output_type": "stream",
          "name": "stdout",
          "text": [
            "torch.Size([1, 512])\n"
          ]
        }
      ]
    },
    {
      "cell_type": "markdown",
      "source": [
        "**Both input and masks will be of [1,n] shape and we are not squeezing out the 1 extra dim as it will be internally handled and if not then we have to do it manually**"
      ],
      "metadata": {
        "id": "YNUbRQRB4P3g"
      }
    },
    {
      "cell_type": "code",
      "source": [
        "class BertClassificationDataset(Dataset):\n",
        "    \"\"\"\n",
        "    Wrapper around Torch Dataset to perform text classification\n",
        "    \"\"\"\n",
        "\n",
        "    def __init__(\n",
        "        self,\n",
        "        texts: List[str],\n",
        "        labels: List[str] = None,\n",
        "        label_dict: Mapping[str, int] = None,\n",
        "        max_seq_length: int = 512,\n",
        "        model_name: str = \"distilbert-base-uncased\",\n",
        "    ):\n",
        "        \"\"\"\n",
        "        Args:\n",
        "            texts (List[str]): a list with texts to classify or to train the\n",
        "                classifier on\n",
        "            labels List[str]: a list with classification labels (optional)\n",
        "            label_dict (dict): a dictionary mapping class names to class ids,\n",
        "                to be passed to the validation data (optional)\n",
        "            max_seq_length (int): maximal sequence length in tokens,\n",
        "                texts will be stripped to this length\n",
        "            model_name (str): transformer model name, needed to perform\n",
        "                appropriate tokenization\n",
        "\n",
        "        \"\"\"\n",
        "\n",
        "        self.texts = texts\n",
        "        self.labels = labels\n",
        "        self.label_dict = label_dict\n",
        "        self.max_seq_length = max_seq_length\n",
        "\n",
        "        if self.label_dict is None and labels is not None:\n",
        "            self.label_dict = dict(zip(sorted(set(labels)), range(len(set(labels)))))\n",
        "\n",
        "        self.tokenizer =  DistilBertTokenizer.from_pretrained(model_name)\n",
        "        # suppresses tokenizer warnings\n",
        "        logging.getLogger(\"transformers.tokenization_utils\").setLevel(logging.FATAL)\n",
        "\n",
        "    def __len__(self) -> int:\n",
        "        \"\"\"\n",
        "        Returns:\n",
        "            int: length of the dataset\n",
        "        \"\"\"\n",
        "        return len(self.texts)\n",
        "\n",
        "    def __getitem__(self, index) -> Mapping[str, torch.Tensor]:\n",
        "        \"\"\"Gets element of the dataset\n",
        "\n",
        "        Args:\n",
        "            index (int): index of the element in the dataset\n",
        "        Returns:\n",
        "            Single element by index\n",
        "        \"\"\"\n",
        "\n",
        "        # encoding the text\n",
        "        input_text = self.texts[index]\n",
        "\n",
        "        # a dictionary with `input_ids` and `attention_mask` as keys\n",
        "        output_dict  = self.tokenizer.encode_plus(\n",
        "              text = input_text,\n",
        "              add_special_tokens=True,\n",
        "              padding=\"max_length\",\n",
        "              max_length=self.max_seq_length,\n",
        "              return_tensors=\"pt\",\n",
        "              truncation=True,\n",
        "              return_attention_mask=True,\n",
        "              return_token_type_ids=True\n",
        "          )\n",
        "\n",
        "        # dealing with attention masks - there's a 1 for each input token and\n",
        "        # if the sequence is shorter that `max_seq_length` then the rest is\n",
        "        # padded with zeroes. Attention mask will be passed to the model in\n",
        "        # order to compute attention scores only with input data\n",
        "\n",
        "        ids = output_dict['input_ids'].squeeze(0)\n",
        "        mask = output_dict['attention_mask']\n",
        "\n",
        "        # encoding target\n",
        "        if self.labels is not None:\n",
        "            y = self.labels[index]\n",
        "            y_encoded = torch.Tensor([self.label_dict.get(y,)]).long().squeeze(0)\n",
        "\n",
        "\n",
        "        return {\n",
        "            'ids': torch.tensor(ids, dtype=torch.long),\n",
        "            'mask': torch.tensor(mask, dtype=torch.long),\n",
        "            'targets': y_encoded\n",
        "        }\n"
      ],
      "metadata": {
        "id": "8BPtz58dv7-M"
      },
      "execution_count": 26,
      "outputs": []
    },
    {
      "cell_type": "code",
      "source": [
        "train_dataset = BertClassificationDataset(\n",
        "        texts=train_df[\"title_keywords_abstract\"].values.tolist(),\n",
        "        labels=train_df[\"sdg_id\"].values,\n",
        "        max_seq_length=MAX_LEN,\n",
        "        model_name=\"distilbert-base-cased\",\n",
        ")"
      ],
      "metadata": {
        "id": "LxzB4YZav8C1"
      },
      "execution_count": 27,
      "outputs": []
    },
    {
      "cell_type": "code",
      "source": [
        "valid_dataset = BertClassificationDataset(\n",
        "        texts=val_df[\"title_keywords_abstract\"].values.tolist(),\n",
        "        labels=val_df[\"sdg_id\"].values,\n",
        "        max_seq_length=MAX_LEN,\n",
        "        model_name=\"distilbert-base-cased\",\n",
        ")"
      ],
      "metadata": {
        "id": "Yr1LDoWw2HMt"
      },
      "execution_count": 28,
      "outputs": []
    },
    {
      "cell_type": "code",
      "source": [
        "# data loader stuffs\n",
        "train_loader = DataLoader(\n",
        "    train_dataset,\n",
        "    batch_size=BATCH_SIZE,\n",
        "    shuffle=True,\n",
        "    num_workers=4,\n",
        "    pin_memory=True,\n",
        ")\n",
        "\n",
        "valid_loader = DataLoader(\n",
        "    valid_dataset,\n",
        "    batch_size=BATCH_SIZE,\n",
        "    shuffle=False,\n",
        "    num_workers=4,\n",
        "    pin_memory=True,\n",
        ")"
      ],
      "metadata": {
        "id": "E8TSDji02HRA"
      },
      "execution_count": 29,
      "outputs": []
    },
    {
      "cell_type": "code",
      "source": [
        "for batch in train_loader:\n",
        "    ids = batch['ids']\n",
        "    mask = batch['mask']\n",
        "    targets = batch['targets']\n",
        "    print(ids.shape)\n",
        "    print(mask.shape)\n",
        "    print(targets.shape)\n",
        "    break"
      ],
      "metadata": {
        "id": "3zAMLxY32HT_",
        "colab": {
          "base_uri": "https://localhost:8080/"
        },
        "outputId": "83a515f0-bf41-4c72-feb8-a0edf1b349f3"
      },
      "execution_count": 30,
      "outputs": [
        {
          "output_type": "stream",
          "name": "stdout",
          "text": [
            "torch.Size([10, 512])\n",
            "torch.Size([10, 1, 512])\n",
            "torch.Size([10])\n"
          ]
        }
      ]
    },
    {
      "cell_type": "markdown",
      "source": [
        "## Model Building"
      ],
      "metadata": {
        "id": "kDa_ElcD2HX1"
      }
    },
    {
      "cell_type": "code",
      "source": [
        "class BertForSequenceClassification_A(nn.Module):\n",
        "    \"\"\"\n",
        "    Simplified version of the same class by HuggingFace.\n",
        "    See transformers/modeling_distilbert.py in the transformers repository.\n",
        "    \"\"\"\n",
        "\n",
        "    def __init__(self, pretrained_model_name: str, num_classes: int = None, dropout: float = 0.1):\n",
        "        super(BertForSequenceClassification_A, self).__init__()\n",
        "\n",
        "        config = AutoConfig.from_pretrained(pretrained_model_name, num_labels=num_classes)\n",
        "        print(config.hidden_size)\n",
        "\n",
        "        self.model = AutoModel.from_pretrained(pretrained_model_name, config=config) # alternate DistilBertModel.from_pretrained(\"distilbert-base-uncased\")\n",
        "        self.classifier = nn.Linear(config.hidden_size, num_classes)\n",
        "        self.dropout = nn.Dropout(dropout)\n",
        "\n",
        "    def forward(self, features, attention_mask=None, head_mask=None):\n",
        "\n",
        "        assert attention_mask is not None, \"attention mask is none\"\n",
        "\n",
        "        bert_output = self.model(input_ids=features, attention_mask=attention_mask)\n",
        "        # we only need the hidden state here and don't need transformer output, so index 0\n",
        "        seq_output = bert_output[0]  # (bs, seq_len, dim)\n",
        "        # mean pooling, i.e. getting average representation of all tokens\n",
        "        pooled_output = seq_output.mean(axis=1)  # (bs, dim)\n",
        "        pooled_output = self.dropout(pooled_output)  # (bs, dim)\n",
        "        scores = self.classifier(pooled_output)  # (bs, num_classes)\n",
        "\n",
        "        return scores"
      ],
      "metadata": {
        "id": "L3tR18L32HbS"
      },
      "execution_count": 31,
      "outputs": []
    },
    {
      "cell_type": "code",
      "source": [
        "baseline_model1 = BertForSequenceClassification_A(\"distilbert-base-cased\",NUM_CLASSES).to(device)\n",
        "baseline_model1"
      ],
      "metadata": {
        "id": "nR1tyVIe2HeY",
        "colab": {
          "base_uri": "https://localhost:8080/"
        },
        "outputId": "f695fc77-0798-4b26-9e26-9a65ac7bf108"
      },
      "execution_count": 55,
      "outputs": [
        {
          "output_type": "stream",
          "name": "stdout",
          "text": [
            "768\n"
          ]
        },
        {
          "output_type": "execute_result",
          "data": {
            "text/plain": [
              "BertForSequenceClassification_A(\n",
              "  (model): DistilBertModel(\n",
              "    (embeddings): Embeddings(\n",
              "      (word_embeddings): Embedding(28996, 768, padding_idx=0)\n",
              "      (position_embeddings): Embedding(512, 768)\n",
              "      (LayerNorm): LayerNorm((768,), eps=1e-12, elementwise_affine=True)\n",
              "      (dropout): Dropout(p=0.1, inplace=False)\n",
              "    )\n",
              "    (transformer): Transformer(\n",
              "      (layer): ModuleList(\n",
              "        (0-5): 6 x TransformerBlock(\n",
              "          (attention): MultiHeadSelfAttention(\n",
              "            (dropout): Dropout(p=0.1, inplace=False)\n",
              "            (q_lin): Linear(in_features=768, out_features=768, bias=True)\n",
              "            (k_lin): Linear(in_features=768, out_features=768, bias=True)\n",
              "            (v_lin): Linear(in_features=768, out_features=768, bias=True)\n",
              "            (out_lin): Linear(in_features=768, out_features=768, bias=True)\n",
              "          )\n",
              "          (sa_layer_norm): LayerNorm((768,), eps=1e-12, elementwise_affine=True)\n",
              "          (ffn): FFN(\n",
              "            (dropout): Dropout(p=0.1, inplace=False)\n",
              "            (lin1): Linear(in_features=768, out_features=3072, bias=True)\n",
              "            (lin2): Linear(in_features=3072, out_features=768, bias=True)\n",
              "            (activation): GELUActivation()\n",
              "          )\n",
              "          (output_layer_norm): LayerNorm((768,), eps=1e-12, elementwise_affine=True)\n",
              "        )\n",
              "      )\n",
              "    )\n",
              "  )\n",
              "  (classifier): Linear(in_features=768, out_features=5, bias=True)\n",
              "  (dropout): Dropout(p=0.1, inplace=False)\n",
              ")"
            ]
          },
          "metadata": {},
          "execution_count": 55
        }
      ]
    },
    {
      "cell_type": "code",
      "source": [
        "# Creating the loss function and optimizer\n",
        "loss_function = torch.nn.CrossEntropyLoss()\n",
        "optimizer = torch.optim.Adam(params =  baseline_model1.parameters(), lr=LEARNING_RATE)"
      ],
      "metadata": {
        "id": "x0w7i8Q42Hhm"
      },
      "execution_count": 56,
      "outputs": []
    },
    {
      "cell_type": "code",
      "source": [
        "# Function to calcuate the accuracy of the model\n",
        "\n",
        "def calcuate_accu(big_idx, targets):\n",
        "    n_correct = (big_idx==targets).sum().item()\n",
        "    return n_correct"
      ],
      "metadata": {
        "id": "HkY3_EPH2Hlb"
      },
      "execution_count": 57,
      "outputs": []
    },
    {
      "cell_type": "code",
      "source": [
        "# Defining the training function on the 80% of the dataset for tuning the distilbert model\n",
        "\n",
        "def train(epoch, model):\n",
        "    tr_loss = 0\n",
        "    n_correct = 0\n",
        "    nb_tr_steps = 0\n",
        "    nb_tr_examples = 0\n",
        "    model.train()\n",
        "    for _,data in enumerate(train_loader, 0):\n",
        "        ids = data['ids'].to(device)\n",
        "        mask = data['mask'].to(device)\n",
        "        targets = data['targets'].to(device)\n",
        "\n",
        "        outputs = model(ids, mask)\n",
        "        loss = loss_function(outputs, targets)\n",
        "        tr_loss += loss.item()\n",
        "        big_val, big_idx = torch.max(outputs.data, dim=1)\n",
        "        n_correct += calcuate_accu(big_idx, targets)\n",
        "\n",
        "        nb_tr_steps += 1\n",
        "        nb_tr_examples+=targets.size(0)\n",
        "\n",
        "        if _%5000==0:\n",
        "            loss_step = tr_loss/nb_tr_steps\n",
        "            accu_step = (n_correct*100)/nb_tr_examples\n",
        "            print(f\"Training Loss per steps: {loss_step}\")\n",
        "            print(f\"Training Accuracy 5000 steps: {accu_step}\")\n",
        "\n",
        "        optimizer.zero_grad()\n",
        "        loss.backward()\n",
        "        # # When using GPU\n",
        "        optimizer.step()\n",
        "\n",
        "    print(f'The Total Accuracy for Epoch {epoch}: {(n_correct*100)/nb_tr_examples}')\n",
        "    epoch_loss = tr_loss/nb_tr_steps\n",
        "    epoch_accu = (n_correct*100)/nb_tr_examples\n",
        "    print(f\"Training Loss Epoch: {epoch_loss}\")\n",
        "    print(f\"Training Accuracy Epoch: {epoch_accu}\")\n",
        "\n",
        "    return"
      ],
      "metadata": {
        "id": "1qTVrQo52Ho2"
      },
      "execution_count": 58,
      "outputs": []
    },
    {
      "cell_type": "code",
      "source": [
        "def valid(model):\n",
        "    model.eval()\n",
        "    n_correct = 0\n",
        "    n_wrong = 0\n",
        "    tr_loss = 0\n",
        "    nb_tr_examples=0\n",
        "    nb_tr_steps=0\n",
        "    with torch.no_grad():\n",
        "        for _, data in enumerate(valid_loader, 0):\n",
        "            ids = data['ids'].to(device)\n",
        "            mask = data['mask'].to(device)\n",
        "            targets = data['targets'].to(device,)\n",
        "            outputs = model(ids, mask).squeeze()\n",
        "            loss = loss_function(outputs, targets)\n",
        "            tr_loss += loss.item()\n",
        "            big_val, big_idx = torch.max(outputs.data, dim=1)\n",
        "            n_correct += calcuate_accu(big_idx, targets)\n",
        "\n",
        "            nb_tr_steps += 1\n",
        "            nb_tr_examples+=targets.size(0)\n",
        "\n",
        "            if _%5000==0:\n",
        "                loss_step = tr_loss/nb_tr_steps\n",
        "                accu_step = (n_correct*100)/nb_tr_examples\n",
        "                print(f\"Validation Loss per steps: {loss_step}\")\n",
        "                print(f\"Validation Accuracy per steps: {accu_step}\")\n",
        "    epoch_loss = tr_loss/nb_tr_steps\n",
        "    epoch_accu = (n_correct*100)/nb_tr_examples\n",
        "    print(f\"Validation Loss Epoch: {epoch_loss}\")\n",
        "    print(f\"Validation Accuracy Epoch: {epoch_accu}\")\n",
        "\n",
        "    return epoch_accu\n"
      ],
      "metadata": {
        "id": "224DnaQT2Hrx"
      },
      "execution_count": 59,
      "outputs": []
    },
    {
      "cell_type": "code",
      "source": [
        "for epoch in range(EPOCHS):\n",
        "  print('\\n Epoch {:} / {:}'.format(epoch + 1, EPOCHS))\n",
        "  train(epoch, baseline_model1)\n",
        "  valid(baseline_model1)"
      ],
      "metadata": {
        "id": "XyPa_GJQ2Hvl",
        "colab": {
          "base_uri": "https://localhost:8080/"
        },
        "outputId": "3464cf0e-010b-4502-c624-da38bc707fb4"
      },
      "execution_count": 60,
      "outputs": [
        {
          "output_type": "stream",
          "name": "stdout",
          "text": [
            "\n",
            " Epoch 1 / 10\n",
            "Training Loss per steps: 1.6087017059326172\n",
            "Training Accuracy 5000 steps: 0.0\n",
            "The Total Accuracy for Epoch 0: 20.0\n",
            "Training Loss Epoch: 1.6189558605353038\n",
            "Training Accuracy Epoch: 20.0\n",
            "Validation Loss per steps: 1.6111980676651\n",
            "Validation Accuracy per steps: 20.0\n",
            "Validation Loss Epoch: 1.5884328285853069\n",
            "Validation Accuracy Epoch: 23.333333333333332\n",
            "\n",
            " Epoch 2 / 10\n",
            "Training Loss per steps: 1.6124054193496704\n",
            "Training Accuracy 5000 steps: 10.0\n",
            "The Total Accuracy for Epoch 1: 26.666666666666668\n",
            "Training Loss Epoch: 1.5617998242378235\n",
            "Training Accuracy Epoch: 26.666666666666668\n",
            "Validation Loss per steps: 1.5373189449310303\n",
            "Validation Accuracy per steps: 30.0\n",
            "Validation Loss Epoch: 1.5555882851282756\n",
            "Validation Accuracy Epoch: 26.666666666666668\n",
            "\n",
            " Epoch 3 / 10\n",
            "Training Loss per steps: 1.5430573225021362\n",
            "Training Accuracy 5000 steps: 30.0\n",
            "The Total Accuracy for Epoch 2: 44.166666666666664\n",
            "Training Loss Epoch: 1.4891491134961445\n",
            "Training Accuracy Epoch: 44.166666666666664\n",
            "Validation Loss per steps: 1.475342035293579\n",
            "Validation Accuracy per steps: 40.0\n",
            "Validation Loss Epoch: 1.4970542987187703\n",
            "Validation Accuracy Epoch: 30.0\n",
            "\n",
            " Epoch 4 / 10\n",
            "Training Loss per steps: 1.4787395000457764\n",
            "Training Accuracy 5000 steps: 30.0\n",
            "The Total Accuracy for Epoch 3: 45.833333333333336\n",
            "Training Loss Epoch: 1.3600547512372334\n",
            "Training Accuracy Epoch: 45.833333333333336\n",
            "Validation Loss per steps: 1.2954479455947876\n",
            "Validation Accuracy per steps: 50.0\n",
            "Validation Loss Epoch: 1.3878073692321777\n",
            "Validation Accuracy Epoch: 43.333333333333336\n",
            "\n",
            " Epoch 5 / 10\n",
            "Training Loss per steps: 1.3501521348953247\n",
            "Training Accuracy 5000 steps: 30.0\n",
            "The Total Accuracy for Epoch 4: 66.66666666666667\n",
            "Training Loss Epoch: 1.1420770585536957\n",
            "Training Accuracy Epoch: 66.66666666666667\n",
            "Validation Loss per steps: 1.049058198928833\n",
            "Validation Accuracy per steps: 70.0\n",
            "Validation Loss Epoch: 1.3250179688135784\n",
            "Validation Accuracy Epoch: 46.666666666666664\n",
            "\n",
            " Epoch 6 / 10\n",
            "Training Loss per steps: 1.1181831359863281\n",
            "Training Accuracy 5000 steps: 70.0\n",
            "The Total Accuracy for Epoch 5: 68.33333333333333\n",
            "Training Loss Epoch: 0.964924951394399\n",
            "Training Accuracy Epoch: 68.33333333333333\n",
            "Validation Loss per steps: 0.8877860903739929\n",
            "Validation Accuracy per steps: 60.0\n",
            "Validation Loss Epoch: 1.191969891389211\n",
            "Validation Accuracy Epoch: 53.333333333333336\n",
            "\n",
            " Epoch 7 / 10\n",
            "Training Loss per steps: 0.5668627023696899\n",
            "Training Accuracy 5000 steps: 100.0\n",
            "The Total Accuracy for Epoch 6: 84.16666666666667\n",
            "Training Loss Epoch: 0.7378654181957245\n",
            "Training Accuracy Epoch: 84.16666666666667\n",
            "Validation Loss per steps: 0.8341909646987915\n",
            "Validation Accuracy per steps: 70.0\n",
            "Validation Loss Epoch: 1.21791672706604\n",
            "Validation Accuracy Epoch: 56.666666666666664\n",
            "\n",
            " Epoch 8 / 10\n",
            "Training Loss per steps: 0.5213361978530884\n",
            "Training Accuracy 5000 steps: 90.0\n",
            "The Total Accuracy for Epoch 7: 90.0\n",
            "Training Loss Epoch: 0.5349120100339254\n",
            "Training Accuracy Epoch: 90.0\n",
            "Validation Loss per steps: 0.7676118612289429\n",
            "Validation Accuracy per steps: 80.0\n",
            "Validation Loss Epoch: 1.1687922080357869\n",
            "Validation Accuracy Epoch: 60.0\n",
            "\n",
            " Epoch 9 / 10\n",
            "Training Loss per steps: 0.43889516592025757\n",
            "Training Accuracy 5000 steps: 100.0\n",
            "The Total Accuracy for Epoch 8: 96.66666666666667\n",
            "Training Loss Epoch: 0.36698297038674355\n",
            "Training Accuracy Epoch: 96.66666666666667\n",
            "Validation Loss per steps: 0.7074958086013794\n",
            "Validation Accuracy per steps: 70.0\n",
            "Validation Loss Epoch: 1.1940046548843384\n",
            "Validation Accuracy Epoch: 60.0\n",
            "\n",
            " Epoch 10 / 10\n",
            "Training Loss per steps: 0.2759762108325958\n",
            "Training Accuracy 5000 steps: 100.0\n",
            "The Total Accuracy for Epoch 9: 96.66666666666667\n",
            "Training Loss Epoch: 0.24462536722421646\n",
            "Training Accuracy Epoch: 96.66666666666667\n",
            "Validation Loss per steps: 0.7160208821296692\n",
            "Validation Accuracy per steps: 80.0\n",
            "Validation Loss Epoch: 1.1403443415959675\n",
            "Validation Accuracy Epoch: 66.66666666666667\n"
          ]
        }
      ]
    },
    {
      "cell_type": "code",
      "source": [],
      "metadata": {
        "id": "r-7dvl3X2Hyq"
      },
      "execution_count": null,
      "outputs": []
    },
    {
      "cell_type": "code",
      "source": [],
      "metadata": {
        "id": "mq_UqZcw2H11"
      },
      "execution_count": null,
      "outputs": []
    },
    {
      "cell_type": "code",
      "source": [],
      "metadata": {
        "id": "ZHskAu9Y2H5M"
      },
      "execution_count": null,
      "outputs": []
    },
    {
      "cell_type": "code",
      "source": [],
      "metadata": {
        "id": "BS9-litq2H9a"
      },
      "execution_count": null,
      "outputs": []
    },
    {
      "cell_type": "code",
      "source": [],
      "metadata": {
        "id": "iy8l7UrJv8GP"
      },
      "execution_count": null,
      "outputs": []
    }
  ]
}